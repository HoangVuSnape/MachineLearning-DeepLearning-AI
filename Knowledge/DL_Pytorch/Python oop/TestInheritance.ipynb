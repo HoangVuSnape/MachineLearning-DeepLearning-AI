{
 "cells": [
  {
   "cell_type": "markdown",
   "metadata": {},
   "source": [
    "## Inheritance Example"
   ]
  },
  {
   "cell_type": "code",
   "execution_count": 28,
   "metadata": {},
   "outputs": [],
   "source": [
    "class Animal(object):\n",
    "    def __init__(self, name):\n",
    "        self.name = name\n",
    "    def eat(self, food):\n",
    "        print('%s is eating %s' %(self.name, food))\n",
    "        \n",
    "class Dog(Animal):\n",
    "    # def __init__(self, name):\n",
    "    #     super(Animal, self).__init__(name)\n",
    "        \n",
    "    def fetch(self, thing):\n",
    "        print('%s goes after the %s!' %(self.name, thing))\n",
    "        \n",
    "    def show_affection(self):\n",
    "        print('{0} wrags tail'.format(self.name)) #polymorphism\n",
    "       \n",
    "    def eat(self, food): ## Overriding\n",
    "        print('{0} gau gau and eating {1}'.format(self.name, food))\n",
    "        \n",
    "class Cat(Animal):\n",
    "    def swatstring(self):\n",
    "        print('%s shreds the string!' %(self.name))\n",
    "    def show_affection(self):                   #polymorphism\n",
    "        print('{0} purrs'.format(self.name))    \n",
    "    "
   ]
  },
  {
   "cell_type": "code",
   "execution_count": 29,
   "metadata": {},
   "outputs": [
    {
     "name": "stdout",
     "output_type": "stream",
     "text": [
      "Ranger goes after the ball!\n",
      "Meow shreds the string!\n",
      "Ranger gau gau and eating bone\n"
     ]
    }
   ],
   "source": [
    "d = Dog('Ranger')\n",
    "c = Cat('Meow')\n",
    "## call func\n",
    "d.fetch('ball')\n",
    "c.swatstring()\n",
    "\n",
    "d.eat('bone')\n",
    "# c.eat('Cat food')"
   ]
  },
  {
   "cell_type": "code",
   "execution_count": 9,
   "metadata": {},
   "outputs": [
    {
     "name": "stdout",
     "output_type": "stream",
     "text": [
      "<class 'tuple'>\n",
      "Rover wrags tail\n",
      "Fluffy purrs\n",
      "Preciou purrs\n",
      "Scout wrags tail\n"
     ]
    }
   ],
   "source": [
    "Ob = (Dog('Rover'), Cat('Fluffy'), Cat('Preciou'), Dog('Scout'))\n",
    "print(type(Ob))\n",
    "for a in Ob: a.show_affection()"
   ]
  },
  {
   "cell_type": "markdown",
   "metadata": {},
   "source": [
    "## Inheriting the Constructor"
   ]
  },
  {
   "cell_type": "code",
   "execution_count": null,
   "metadata": {},
   "outputs": [],
   "source": []
  }
 ],
 "metadata": {
  "kernelspec": {
   "display_name": "Python 3",
   "language": "python",
   "name": "python3"
  },
  "language_info": {
   "codemirror_mode": {
    "name": "ipython",
    "version": 3
   },
   "file_extension": ".py",
   "mimetype": "text/x-python",
   "name": "python",
   "nbconvert_exporter": "python",
   "pygments_lexer": "ipython3",
   "version": "3.12.0"
  }
 },
 "nbformat": 4,
 "nbformat_minor": 2
}
