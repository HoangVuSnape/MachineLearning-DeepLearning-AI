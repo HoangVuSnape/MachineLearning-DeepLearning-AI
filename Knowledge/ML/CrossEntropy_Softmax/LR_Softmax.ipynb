{
  "cells": [
    {
      "cell_type": "markdown",
      "metadata": {
        "id": "N_9_4HS2sI3i"
      },
      "source": [
        "# **1. Logistic Regression Overview**\n",
        "Logistic Regression là một mô hình phân loại nhị phân, được sử dụng để dự đoán xác suất của một trong hai lớp dựa trên các đặc trưng đầu vào. Đầu ra của LR là một xác suất, được giới hạn trong khoảng từ 0 đến 1, thông qua hàm sigmoid.\n",
        "\n",
        "**Hàm Sigmoid:**\n",
        "$$ 𝜎(𝑧) = \\frac{1}{1 + e^{-z}} $$\n",
        "\n",
        "\n",
        "\n",
        "Trong đó:\n",
        "\n",
        "\n",
        "*   $$ z = w^Tx + b $$\n",
        "*   𝑤 là vector trọng số\n",
        "*   𝑥 là vector đặc trưng đầu vào\n",
        "*   𝑏 là bias\n",
        "\n",
        "\n",
        "**Xác suất dự đoán:**\n",
        "$$𝑃(𝑦=1∣𝑥) = 𝜎(𝑤^𝑇𝑥+𝑏)$$\n",
        "\n",
        "$$ 𝑃(𝑦=0∣𝑥)=1−𝜎(𝑤^𝑇𝑥+𝑏)$$\n"
      ]
    },
    {
      "cell_type": "markdown",
      "metadata": {
        "id": "TImCtkSXvA_3"
      },
      "source": [
        "# **2. Cross-Entropy Loss**\n",
        "\n",
        "Cross-entropy loss được sử dụng để đo lường độ khác biệt giữa giá trị dự đoán của mô hình và giá trị thực tế. Đối với bài toán phân loại nhị phân, hàm loss có dạng:\n",
        "\n",
        "$$ 𝐿\n",
        "(\n",
        "𝑦\n",
        ",\n",
        "𝑦'\n",
        ")\n",
        "=\n",
        "−\n",
        "[\n",
        "𝑦\n",
        "log\n",
        "⁡\n",
        "(\n",
        "𝑦'\n",
        ")\n",
        "+\n",
        "(\n",
        "1\n",
        "−\n",
        "𝑦\n",
        ")\n",
        "log\n",
        "⁡\n",
        "(\n",
        "1\n",
        "−\n",
        "𝑦'\n",
        ")\n",
        "]\n",
        "$$\n",
        "\n",
        "\n",
        "Trong đó:\n",
        "\n",
        "\n",
        "*   𝑦 là nhãn thực tế (0 hoặc 1)\n",
        "*   $$𝑦'=𝜎(𝑤^𝑇𝑥+𝑏)$$​ là xác suất dự đoán"
      ]
    },
    {
      "cell_type": "markdown",
      "metadata": {
        "id": "eqLp9EepyoqC"
      },
      "source": [
        "# **3. Thuật Toán Học cho Mô Hình Logistic Regression**\n",
        "Để huấn luyện mô hình Logistic Regression, chúng ta thường sử dụng Gradient Descent để tối ưu hóa hàm loss. Các bước của thuật toán học bao gồm:\n",
        "\n",
        "**Bước 1: Khởi tạo các tham số**\n",
        "\n",
        "*   Khởi tạo các trọng số 𝑤 và bias 𝑏\n",
        "(thường bằng 0 hoặc giá trị ngẫu nhiên nhỏ)\n",
        "\n",
        "**Bước 2: Tính toán dự đoán**\n",
        "\n",
        "*   Tính toán xác suất dự đoán cho mỗi mẫu:\n",
        "$$\n",
        "𝑦'\n",
        "(\n",
        "𝑖\n",
        ")\n",
        "=\n",
        "𝜎\n",
        "(\n",
        "𝑤\n",
        "^\n",
        "𝑇\n",
        "𝑥^{(i)}+𝑏) $$\n",
        "\n",
        "**Bước 3: Tính toán hàm loss**\n",
        "\n",
        "*   Tính toán giá trị của hàm loss cross-entropy cho toàn bộ tập dữ liệu:\n",
        "$$\n",
        "𝐿\n",
        "=\n",
        "−\n",
        "\\frac\n",
        "{1}\n",
        "{𝑚}\n",
        "\\sum_\n",
        "{𝑖\n",
        "=\n",
        "1}\n",
        "{𝑚}\n",
        "[\n",
        "𝑦^\n",
        "{(\n",
        "𝑖\n",
        ")}\n",
        "log\n",
        "⁡\n",
        "(\n",
        "𝑦'\n",
        "^\n",
        "{(\n",
        "𝑖\n",
        ")}\n",
        ")\n",
        "+\n",
        "(\n",
        "1\n",
        "−\n",
        "𝑦^\n",
        "{(\n",
        "𝑖\n",
        ")}\n",
        ")\n",
        "log\n",
        "⁡\n",
        "(\n",
        "1\n",
        "−\n",
        "𝑦'\n",
        "^\n",
        "{(\n",
        "𝑖\n",
        ")}\n",
        ")\n",
        "]\n",
        "$$\n",
        "\n",
        "**Bước 4: Tính toán Gradient**\n",
        "\n",
        "\n",
        "*  Tính gradient của hàm loss đối với các trọng số và bias:\n",
        "$$\n",
        "\\frac\n",
        "{∂𝐿}\n",
        "{∂𝑤}\n",
        "=\n",
        "\\frac\n",
        "{1}\n",
        "{𝑚}\n",
        "\\sum_\n",
        "{𝑖\n",
        "=\n",
        "1}\n",
        "{𝑚}\n",
        "(\n",
        "𝑦'\n",
        "^\n",
        "{(\n",
        "𝑖\n",
        ")}\n",
        "−\n",
        "𝑦^\n",
        "{(\n",
        "𝑖\n",
        ")}\n",
        ")\n",
        "𝑥^\n",
        "{(\n",
        "𝑖\n",
        ")}\n",
        "$$\n",
        "\n",
        "$$\n",
        "\\frac\n",
        "{∂𝐿}\n",
        "{∂𝑏}\n",
        "=\n",
        "\\frac\n",
        "{1}\n",
        "{𝑚}\n",
        "\\sum_\n",
        "{𝑖\n",
        "=\n",
        "1}\n",
        "{𝑚}\n",
        "(\n",
        "𝑦'\n",
        "^\n",
        "{(\n",
        "𝑖\n",
        ")}\n",
        "−\n",
        "𝑦^\n",
        "{(\n",
        "𝑖\n",
        ")}\n",
        ")\n",
        "$$\n",
        "\n",
        "\n",
        "**Bước 5: Cập nhật các tham số**\n",
        "\n",
        "* Cập nhật các trọng số và bias bằng cách sử dụng Gradient Descent với learning rate 𝛼:\n",
        "$$\n",
        "𝑤\n",
        "=\n",
        "𝑤\n",
        "−\n",
        "𝛼\n",
        "\\frac\n",
        "{∂𝐿}\n",
        "{∂𝑤}\n",
        "$$\n",
        "\n",
        "\n",
        "$$\n",
        "𝑏\n",
        "=\n",
        "𝑏\n",
        "−\n",
        "𝛼\n",
        "\\frac\n",
        "{∂𝐿}\n",
        "{∂𝑏}\n",
        "$$\n",
        "\n",
        "**Bước 6: Lặp lại**\n",
        "\n",
        "* Lặp lại các bước từ 2 đến 5 cho đến khi hàm loss hội tụ (đạt giá trị tối thiểu) hoặc đạt số vòng lặp tối đa."
      ]
    },
    {
      "cell_type": "code",
      "execution_count": 1,
      "metadata": {
        "id": "ufnmXR7orGk5"
      },
      "outputs": [],
      "source": [
        "import numpy as np\n",
        "import pandas as pd\n",
        "from sklearn.datasets import load_iris\n",
        "from sklearn.model_selection import train_test_split\n",
        "from sklearn.preprocessing import StandardScaler\n",
        "import matplotlib.pyplot as plt"
      ]
    },
    {
      "cell_type": "code",
      "execution_count": 2,
      "metadata": {
        "id": "ysIMiZjrrNTX"
      },
      "outputs": [],
      "source": [
        "# Hàm sigmoid\n",
        "def sigmoid(z):\n",
        "    return 1 / (1 + np.exp(-z))\n",
        "\n",
        "# Hàm tính toán loss cross-entropy\n",
        "def compute_loss(y, y_hat):\n",
        "    m = y.shape[0]\n",
        "    loss = -1/m * np.sum(y * np.log(y_hat) + (1 - y) * np.log(1 - y_hat))\n",
        "    return loss"
      ]
    },
    {
      "cell_type": "code",
      "execution_count": 3,
      "metadata": {
        "id": "wQs5Gn23rS5e"
      },
      "outputs": [],
      "source": [
        "# Hàm huấn luyện Logistic Regression với cross-entropy loss\n",
        "def train_logistic_regression(X, y, learning_rate=0.01, num_epochs=100):\n",
        "    m, n = X.shape\n",
        "    # Khởi tạo trọng số và bias\n",
        "    w = np.zeros(n)\n",
        "    b = 0\n",
        "\n",
        "    # Lưu lịch sử loss để quan sát quá trình huấn luyện\n",
        "    loss_history = []\n",
        "\n",
        "    for epoch in range(num_epochs):\n",
        "        # Tính toán dự đoán\n",
        "        z = np.dot(X, w) + b\n",
        "        y_hat = sigmoid(z)\n",
        "\n",
        "        # Tính toán loss\n",
        "        loss = compute_loss(y, y_hat)\n",
        "        loss_history.append(loss)\n",
        "\n",
        "        # Tính toán gradient\n",
        "        dw = 1/m * np.dot(X.T, (y_hat - y))\n",
        "        db = 1/m * np.sum(y_hat - y)\n",
        "\n",
        "        # Cập nhật trọng số và bias\n",
        "        w -= learning_rate * dw\n",
        "        b -= learning_rate * db\n",
        "\n",
        "        # In thông tin huấn luyện mỗi 10 epochs\n",
        "        if epoch % 10 == 0:\n",
        "            print(f'Epoch {epoch}, Loss: {loss}')\n",
        "\n",
        "    return w, b, loss_history"
      ]
    },
    {
      "cell_type": "code",
      "execution_count": 4,
      "metadata": {
        "id": "qfIdTBzBrY8u"
      },
      "outputs": [],
      "source": [
        "# Hàm dự đoán\n",
        "def predict(X, w, b):\n",
        "    z = np.dot(X, w) + b\n",
        "    y_hat = sigmoid(z)\n",
        "    return [1 if i > 0.5 else 0 for i in y_hat]"
      ]
    },
    {
      "cell_type": "code",
      "execution_count": 5,
      "metadata": {
        "colab": {
          "base_uri": "https://localhost:8080/",
          "height": 668
        },
        "id": "KH_KA0nIqzRq",
        "outputId": "650afad9-343a-4b18-9d08-9e91e774f49d"
      },
      "outputs": [
        {
          "name": "stdout",
          "output_type": "stream",
          "text": [
            "Epoch 0, Loss: 0.6931471805599453\n",
            "Epoch 10, Loss: 0.6381661300621438\n",
            "Epoch 20, Loss: 0.5902656030736786\n",
            "Epoch 30, Loss: 0.5484236349374291\n",
            "Epoch 40, Loss: 0.5117420742081128\n",
            "Epoch 50, Loss: 0.47944795680557006\n",
            "Epoch 60, Loss: 0.4508852157904086\n",
            "Epoch 70, Loss: 0.42550176528895634\n",
            "Epoch 80, Loss: 0.40283519833568926\n",
            "Epoch 90, Loss: 0.38249893835001886\n",
            "Training Accuracy: 100.00%\n"
          ]
        },
        {
          "data": {
            "image/png": "[encoded data removed]",
            "text/plain": [
              "<Figure size 640x480 with 1 Axes>"
            ]
          },
          "metadata": {},
          "output_type": "display_data"
        }
      ],
      "source": [
        "if __name__ == \"__main__\":\n",
        "    # Tải dữ liệu Iris\n",
        "    iris = load_iris()\n",
        "    X = iris.data\n",
        "    y = (iris.target == 0).astype(int)  # Chỉ phân loại giữa Iris-setosa (0) và các loài khác (1)\n",
        "\n",
        "    # Chia dữ liệu thành tập huấn luyện và tập kiểm tra\n",
        "    X_train, X_test, y_train, y_test = train_test_split(X, y, test_size=0.2, random_state=42)\n",
        "\n",
        "    # Chuẩn hóa dữ liệu\n",
        "    scaler = StandardScaler()\n",
        "    X_train = scaler.fit_transform(X_train)\n",
        "    X_test = scaler.transform(X_test)\n",
        "\n",
        "    # Huấn luyện mô hình\n",
        "    learning_rate = 0.01\n",
        "    num_epochs = 100\n",
        "    w, b, loss_history = train_logistic_regression(X_train, y_train, learning_rate, num_epochs)\n",
        "\n",
        "    # Dự đoán trên tập kiểm tra\n",
        "    y_pred = predict(X_test, w, b)\n",
        "\n",
        "    # Đánh giá mô hình\n",
        "    accuracy = np.mean(y_test == y_pred)\n",
        "    print(f'Training Accuracy: {accuracy * 100:.2f}%')\n",
        "\n",
        "    # Vẽ đồ thị loss theo epoch\n",
        "    plt.plot(range(num_epochs), loss_history)\n",
        "    plt.xlabel('Epoch')\n",
        "    plt.ylabel('Loss')\n",
        "    plt.title('Loss over epochs')\n",
        "    plt.show()\n"
      ]
    },
    {
      "cell_type": "markdown",
      "metadata": {},
      "source": [
        "## Softmax regression"
      ]
    },
    {
      "cell_type": "code",
      "execution_count": 18,
      "metadata": {},
      "outputs": [],
      "source": [
        "# 1. Thêm các thư viện cần thiết\n",
        "import numpy as np\n",
        "import matplotlib.pyplot as plt\n",
        "from tensorflow.keras.models import Sequential\n",
        "from tensorflow.keras.layers import Dense, Dropout, Activation, Flatten\n",
        "from tensorflow.keras.layers import Conv2D, MaxPooling2D\n",
        "from tensorflow.keras.utils import to_categorical\n",
        "from tensorflow.keras.datasets import mnist"
      ]
    },
    {
      "cell_type": "markdown",
      "metadata": {},
      "source": [
        "Load dữ liệu từ MNIST dataset, bao gồm 60.000 training set và 10.000 test set. Sau đó chia bộ traning set thành 2: 50.000 cho training set và 10.000 dữ liệu cho validation set."
      ]
    },
    {
      "cell_type": "code",
      "execution_count": 12,
      "metadata": {},
      "outputs": [
        {
          "name": "stdout",
          "output_type": "stream",
          "text": [
            "(50000, 28, 28)\n"
          ]
        }
      ],
      "source": [
        "\n",
        "# 2. Load dữ liệu MNIST\n",
        "(X_train, y_train), (X_test, y_test) = mnist.load_data()\n",
        "X_val, y_val = X_train[50000:60000,:], y_train[50000:60000]\n",
        "X_train, y_train = X_train[:50000,:], y_train[:50000]\n",
        "print(X_train.shape)\n",
        "\n"
      ]
    },
    {
      "cell_type": "markdown",
      "metadata": {},
      "source": [
        "Dữ liệu input cho mô hình convolutional neural network là 1 tensor 4 chiều (N, W, H, D), trong bài này là ảnh xám nên W = H = 28, D = 1, N là số lượng ảnh cho mỗi lần training. Do dữ liệu ảnh ở trên có kích thước là (N, 28, 28) tức là (N, W, H) nên rần reshape lại thành kích thước N * 28 * 28 * 1 để giống kích thước mà keras yêu cầu."
      ]
    },
    {
      "cell_type": "code",
      "execution_count": 13,
      "metadata": {},
      "outputs": [],
      "source": [
        "\n",
        "# 3. Reshape lại dữ liệu cho đúng kích thước mà keras yêu cầu\n",
        "X_train = X_train.reshape(X_train.shape[0], 28, 28, 1)\n",
        "X_val = X_val.reshape(X_val.shape[0], 28, 28, 1)\n",
        "X_test = X_test.reshape(X_test.shape[0], 28, 28, 1)"
      ]
    },
    {
      "cell_type": "code",
      "execution_count": 19,
      "metadata": {},
      "outputs": [
        {
          "name": "stdout",
          "output_type": "stream",
          "text": [
            "Dữ liệu y ban đầu  5\n",
            "Dữ liệu y sau one-hot encoding  [0. 0. 0. 0. 0. 1. 0. 0. 0. 0.]\n"
          ]
        }
      ],
      "source": [
        "# 4. One hot encoding label (Y)\n",
        "Y_train = to_categorical(y_train, 10)\n",
        "Y_val = to_categorical(y_val, 10)\n",
        "Y_test = to_categorical(y_test, 10)\n",
        "print('Dữ liệu y ban đầu ', y_train[0])\n",
        "print('Dữ liệu y sau one-hot encoding ',Y_train[0])"
      ]
    },
    {
      "cell_type": "markdown",
      "metadata": {},
      "source": [
        "Bước này định nghĩa model:\n",
        "\n",
        "1. Model = Sequential() để nói cho keras là ta sẽ xếp các layer lên nhau để tạo model. Ví dụ input -> CONV -> POOL -> CONV -> POOL -> FLATTEN -> FC -> OUTPUT\n",
        "2. Ở layer đầu tiên cần chỉ rõ input_shape của ảnh, input_shape = (W, H, D), ta dùng ảnh xám kích thước (28,28) nên input_shape = (28, 28, 1)\n",
        "3. Khi thêm Convolutional Layer ta cần chỉ rõ các tham số: K (số lượng layer), kernel size (W, H), hàm activation sử dụng. cấu trúc: model.add(Conv2D(K, (W, H), activation='tên_hàm_activation'))\n",
        "3. Khi thêm Maxpooling Layer cần chỉ rõ size của kernel, model.add(MaxPooling2D(pool_size=(W, H)))\n",
        "4. Bước Flatten chuyển từ tensor sang vector chỉ cần thêm flatten layer.\n",
        "5. Để thêm Fully Connected Layer (FC) cần chỉ rõ số lượng node trong layer và hàm activation sử dụng trong layer, cấu trúc: model.add(Dense(số_lượng_node activation='tên_hàm activation'))"
      ]
    },
    {
      "cell_type": "code",
      "execution_count": 20,
      "metadata": {},
      "outputs": [
        {
          "name": "stderr",
          "output_type": "stream",
          "text": [
            "c:\\Users\\Snape\\anaconda3\\envs\\torch\\Lib\\site-packages\\keras\\src\\layers\\convolutional\\base_conv.py:107: UserWarning: Do not pass an `input_shape`/`input_dim` argument to a layer. When using Sequential models, prefer using an `Input(shape)` object as the first layer in the model instead.\n",
            "  super().__init__(activity_regularizer=activity_regularizer, **kwargs)\n"
          ]
        }
      ],
      "source": [
        "# 5. Định nghĩa model\n",
        "model = Sequential()\n",
        " \n",
        "# Thêm Convolutional layer với 32 kernel, kích thước kernel 3*3\n",
        "# dùng hàm sigmoid làm activation và chỉ rõ input_shape cho layer đầu tiên\n",
        "model.add(Conv2D(32, (3, 3), activation='sigmoid', input_shape=(28,28,1)))\n",
        "\n",
        "# Thêm Convolutional layer\n",
        "model.add(Conv2D(32, (3, 3), activation='sigmoid'))\n",
        "\n",
        "# Thêm Max pooling layer\n",
        "model.add(MaxPooling2D(pool_size=(2,2)))\n",
        "\n",
        "# Flatten layer chuyển từ tensor sang vector\n",
        "model.add(Flatten())\n",
        "\n",
        "# Thêm Fully Connected layer với 128 nodes và dùng hàm sigmoid\n",
        "model.add(Dense(128, activation='sigmoid'))\n",
        "\n",
        "# Output layer với 10 node và dùng softmax function để chuyển sang xác xuất.\n",
        "model.add(Dense(10, activation='softmax'))"
      ]
    },
    {
      "cell_type": "code",
      "execution_count": 21,
      "metadata": {},
      "outputs": [],
      "source": [
        "\n",
        "# 6. Compile model, chỉ rõ hàm loss_function nào được sử dụng, phương thức \n",
        "# đùng để tối ưu hàm loss function.\n",
        "model.compile(loss='categorical_crossentropy',\n",
        "              optimizer='adam',\n",
        "              metrics=['accuracy'])\n",
        "     "
      ]
    },
    {
      "cell_type": "code",
      "execution_count": 22,
      "metadata": {},
      "outputs": [
        {
          "name": "stdout",
          "output_type": "stream",
          "text": [
            "Epoch 1/10\n",
            "\u001b[1m1563/1563\u001b[0m \u001b[32m━━━━━━━━━━━━━━━━━━━━\u001b[0m\u001b[37m\u001b[0m \u001b[1m19s\u001b[0m 9ms/step - accuracy: 0.8065 - loss: 0.6681 - val_accuracy: 0.9832 - val_loss: 0.0669\n",
            "Epoch 2/10\n",
            "\u001b[1m1563/1563\u001b[0m \u001b[32m━━━━━━━━━━━━━━━━━━━━\u001b[0m\u001b[37m\u001b[0m \u001b[1m34s\u001b[0m 22ms/step - accuracy: 0.9832 - loss: 0.0606 - val_accuracy: 0.9863 - val_loss: 0.0458\n",
            "Epoch 3/10\n",
            "\u001b[1m1563/1563\u001b[0m \u001b[32m━━━━━━━━━━━━━━━━━━━━\u001b[0m\u001b[37m\u001b[0m \u001b[1m30s\u001b[0m 19ms/step - accuracy: 0.9898 - loss: 0.0366 - val_accuracy: 0.9875 - val_loss: 0.0446\n",
            "Epoch 4/10\n",
            "\u001b[1m1563/1563\u001b[0m \u001b[32m━━━━━━━━━━━━━━━━━━━━\u001b[0m\u001b[37m\u001b[0m \u001b[1m20s\u001b[0m 13ms/step - accuracy: 0.9942 - loss: 0.0209 - val_accuracy: 0.9873 - val_loss: 0.0414\n",
            "Epoch 5/10\n",
            "\u001b[1m1563/1563\u001b[0m \u001b[32m━━━━━━━━━━━━━━━━━━━━\u001b[0m\u001b[37m\u001b[0m \u001b[1m14s\u001b[0m 9ms/step - accuracy: 0.9958 - loss: 0.0155 - val_accuracy: 0.9890 - val_loss: 0.0394\n",
            "Epoch 6/10\n",
            "\u001b[1m1563/1563\u001b[0m \u001b[32m━━━━━━━━━━━━━━━━━━━━\u001b[0m\u001b[37m\u001b[0m \u001b[1m14s\u001b[0m 9ms/step - accuracy: 0.9979 - loss: 0.0092 - val_accuracy: 0.9885 - val_loss: 0.0415\n",
            "Epoch 7/10\n",
            "\u001b[1m1563/1563\u001b[0m \u001b[32m━━━━━━━━━━━━━━━━━━━━\u001b[0m\u001b[37m\u001b[0m \u001b[1m14s\u001b[0m 9ms/step - accuracy: 0.9986 - loss: 0.0067 - val_accuracy: 0.9886 - val_loss: 0.0394\n",
            "Epoch 8/10\n",
            "\u001b[1m1563/1563\u001b[0m \u001b[32m━━━━━━━━━━━━━━━━━━━━\u001b[0m\u001b[37m\u001b[0m \u001b[1m15s\u001b[0m 9ms/step - accuracy: 0.9991 - loss: 0.0049 - val_accuracy: 0.9889 - val_loss: 0.0390\n",
            "Epoch 9/10\n",
            "\u001b[1m1563/1563\u001b[0m \u001b[32m━━━━━━━━━━━━━━━━━━━━\u001b[0m\u001b[37m\u001b[0m \u001b[1m22s\u001b[0m 14ms/step - accuracy: 0.9998 - loss: 0.0026 - val_accuracy: 0.9887 - val_loss: 0.0410\n",
            "Epoch 10/10\n",
            "\u001b[1m1563/1563\u001b[0m \u001b[32m━━━━━━━━━━━━━━━━━━━━\u001b[0m\u001b[37m\u001b[0m \u001b[1m14s\u001b[0m 9ms/step - accuracy: 0.9996 - loss: 0.0026 - val_accuracy: 0.9882 - val_loss: 0.0436\n"
          ]
        }
      ],
      "source": [
        "# 7. Thực hiện train model với data\n",
        "H = model.fit(X_train, Y_train, validation_data=(X_val, Y_val),\n",
        "          batch_size=32, epochs=10, verbose=1)\n",
        "     "
      ]
    },
    {
      "cell_type": "code",
      "execution_count": 30,
      "metadata": {},
      "outputs": [
        {
          "data": {
            "image/png": "[encoded data removed]",
            "text/plain": [
              "<Figure size 800x600 with 2 Axes>"
            ]
          },
          "metadata": {},
          "output_type": "display_data"
        }
      ],
      "source": [
        "# 6. Vẽ đồ thị loss\n",
        "fig, ax = plt.subplots(1, 2, figsize=(8, 6))\n",
        "numOfEpoch = 10\n",
        "# Loss plot\n",
        "ax[0].plot(np.arange(0, numOfEpoch), H.history['loss'], label='training loss')\n",
        "ax[0].plot(np.arange(0, numOfEpoch), H.history['val_loss'], label='validation loss')\n",
        "ax[0].set_title('Training and Validation Loss')\n",
        "ax[0].set_xlabel('Epoch')\n",
        "ax[0].set_ylabel('Loss')\n",
        "ax[0].legend()\n",
        "\n",
        "# Accuracy plot\n",
        "ax[1].plot(np.arange(0, numOfEpoch), H.history['accuracy'], label='training accuracy')\n",
        "ax[1].plot(np.arange(0, numOfEpoch), H.history['val_accuracy'], label='validation accuracy')\n",
        "ax[1].set_title('Training and Validation Accuracy')\n",
        "ax[1].set_xlabel('Epoch')\n",
        "ax[1].set_ylabel('Accuracy')\n",
        "ax[1].legend()\n",
        "\n",
        "plt.tight_layout()\n",
        "plt.show()"
      ]
    },
    {
      "cell_type": "code",
      "execution_count": 31,
      "metadata": {},
      "outputs": [
        {
          "name": "stdout",
          "output_type": "stream",
          "text": [
            "[0.03505364805459976, 0.9896000027656555]\n"
          ]
        }
      ],
      "source": [
        "\n",
        "# 9. Đánh giá model với dữ liệu test set\n",
        "score = model.evaluate(X_test, Y_test, verbose=0)\n",
        "print(score)"
      ]
    },
    {
      "cell_type": "code",
      "execution_count": 35,
      "metadata": {},
      "outputs": [
        {
          "data": {
            "image/png": "[encoded data removed]",
            "text/plain": [
              "<Figure size 640x480 with 1 Axes>"
            ]
          },
          "metadata": {},
          "output_type": "display_data"
        },
        {
          "name": "stdout",
          "output_type": "stream",
          "text": [
            "\u001b[1m1/1\u001b[0m \u001b[32m━━━━━━━━━━━━━━━━━━━━\u001b[0m\u001b[37m\u001b[0m \u001b[1m0s\u001b[0m 26ms/step\n",
            "Giá trị dự đoán (xác suất của 10 nodes): [6.6395400e-10 8.0032486e-08 2.5570305e-08 2.2368147e-06 1.7654418e-09\n",
            " 1.0862004e-08 1.0702015e-11 9.9999654e-01 1.6149391e-09 1.0941684e-06]\n",
            "Lớp 0: 6.639540028885449e-10\n",
            "Lớp 1: 8.003248552768127e-08\n",
            "Lớp 2: 2.5570304984512404e-08\n",
            "Lớp 3: 2.2368146801454714e-06\n",
            "Lớp 4: 1.7654417927559507e-09\n",
            "Lớp 5: 1.0862003740896853e-08\n",
            "Lớp 6: 1.070201479519417e-11\n",
            "Lớp 7: 0.999996542930603\n",
            "Lớp 8: 1.6149390713593448e-09\n",
            "Lớp 9: 1.0941683967757854e-06\n"
          ]
        }
      ],
      "source": [
        "# 10. Dự đoán ảnh và in ra giá trị của 10 nodes\n",
        "plt.imshow(X_test[0].reshape(28,28), cmap='gray')\n",
        "plt.show()\n",
        "\n",
        "y_predict = model.predict(X_test[0].reshape(1,28,28,1))[0]\n",
        "print('Giá trị dự đoán (xác suất của 10 nodes):', y_predict)\n",
        "\n",
        "# In ra giá trị của 10 nodes (lớp)\n",
        "for i, prob in enumerate(y_predict):\n",
        "    print(f'Lớp {i}: {prob}')"
      ]
    },
    {
      "cell_type": "code",
      "execution_count": 37,
      "metadata": {},
      "outputs": [
        {
          "data": {
            "image/png": "[encoded data removed]",
            "text/plain": [
              "<Figure size 640x480 with 1 Axes>"
            ]
          },
          "metadata": {},
          "output_type": "display_data"
        },
        {
          "name": "stdout",
          "output_type": "stream",
          "text": [
            "\u001b[1m1/1\u001b[0m \u001b[32m━━━━━━━━━━━━━━━━━━━━\u001b[0m\u001b[37m\u001b[0m \u001b[1m0s\u001b[0m 24ms/step\n",
            "Giá trị dự đoán (xác suất của 10 nodes): [3.5122298e-08 8.3164446e-07 9.9999905e-01 1.1412332e-08 1.7690462e-09\n",
            " 1.2044758e-10 4.5533806e-08 3.0173757e-09 3.2102477e-08 9.3401586e-10]\n",
            "Lớp 0: 3.5122297958878335e-08\n",
            "Lớp 1: 8.316444564115955e-07\n",
            "Lớp 2: 0.9999990463256836\n",
            "Lớp 3: 1.1412332412419346e-08\n",
            "Lớp 4: 1.7690462428276987e-09\n",
            "Lớp 5: 1.2044758246343434e-10\n",
            "Lớp 6: 4.553380605898383e-08\n",
            "Lớp 7: 3.0173756826457065e-09\n",
            "Lớp 8: 3.2102477121043194e-08\n",
            "Lớp 9: 9.340158646509167e-10\n"
          ]
        }
      ],
      "source": [
        "# Lấy một ảnh khác từ tập dữ liệu kiểm tra\n",
        "plt.imshow(X_test[1].reshape(28,28), cmap='gray')\n",
        "plt.show()\n",
        "\n",
        "# Dự đoán và in ra giá trị của 10 nodes\n",
        "y_predict1 = model.predict(X_test[1].reshape(1,28,28,1))[0]\n",
        "print('Giá trị dự đoán (xác suất của 10 nodes):', y_predict1)\n",
        "\n",
        "# In ra giá trị của 10 nodes (lớp)\n",
        "for i, prob in enumerate(y_predict1):\n",
        "    print(f'Lớp {i}: {prob}')\n"
      ]
    }
  ],
  "metadata": {
    "colab": {
      "provenance": []
    },
    "kernelspec": {
      "display_name": "Python 3",
      "name": "python3"
    },
    "language_info": {
      "codemirror_mode": {
        "name": "ipython",
        "version": 3
      },
      "file_extension": ".py",
      "mimetype": "text/x-python",
      "name": "python",
      "nbconvert_exporter": "python",
      "pygments_lexer": "ipython3",
      "version": "3.11.9"
    }
  },
  "nbformat": 4,
  "nbformat_minor": 0
}
