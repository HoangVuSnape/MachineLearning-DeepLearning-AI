{
 "cells": [
  {
   "cell_type": "code",
   "execution_count": 1,
   "metadata": {},
   "outputs": [
    {
     "name": "stdout",
     "output_type": "stream",
     "text": [
      "(30, 2)\n",
      "[[-0.55552381  4.69595848]\n",
      " [-1.54381335  3.17488138]]\n"
     ]
    }
   ],
   "source": [
    "from sklearn.datasets import make_blobs\n",
    "x, y_true = make_blobs(n_samples=30, centers=3,\n",
    "                       cluster_std=0.60, random_state=0)\n",
    "print(x.shape)\n",
    "print(x[:2])"
   ]
  },
  {
   "cell_type": "code",
   "execution_count": 6,
   "metadata": {},
   "outputs": [],
   "source": [
    "from sklearn.cluster import KMeans\n",
    "import matplotlib.pyplot as plt"
   ]
  },
  {
   "cell_type": "code",
   "execution_count": 4,
   "metadata": {},
   "outputs": [
    {
     "name": "stdout",
     "output_type": "stream",
     "text": [
      "[[ 1.93984407  0.94738267]\n",
      " [-1.89753197  2.77697024]\n",
      " [ 1.25131979  4.27778921]]\n"
     ]
    },
    {
     "name": "stderr",
     "output_type": "stream",
     "text": [
      "c:\\Users\\Snape\\anaconda3\\envs\\cpVision\\Lib\\site-packages\\sklearn\\cluster\\_kmeans.py:1446: UserWarning: KMeans is known to have a memory leak on Windows with MKL, when there are less chunks than available threads. You can avoid it by setting the environment variable OMP_NUM_THREADS=1.\n",
      "  warnings.warn(\n"
     ]
    }
   ],
   "source": [
    "kmeans = KMeans(n_clusters= 3, random_state= 0)\n",
    "kmeans.fit(x)\n",
    "\n",
    "center= kmeans.cluster_centers_\n",
    "print(center)"
   ]
  },
  {
   "cell_type": "code",
   "execution_count": 9,
   "metadata": {},
   "outputs": [
    {
     "name": "stdout",
     "output_type": "stream",
     "text": [
      "{'n_clusters': 3, 'init': 'k-means++', 'max_iter': 300, 'tol': 0.0001, 'n_init': 'auto', 'verbose': 0, 'random_state': 0, 'copy_x': True, 'algorithm': 'lloyd', 'n_features_in_': 2, '_tol': 0.00026318299227679506, '_n_init': 1, '_algorithm': 'lloyd', '_n_threads': 8, 'cluster_centers_': array([[ 1.93984407,  0.94738267],\n",
      "       [-1.89753197,  2.77697024],\n",
      "       [ 1.25131979,  4.27778921]]), '_n_features_out': 3, 'labels_': array([2, 1, 1, 1, 0, 2, 0, 1, 0, 1, 1, 1, 1, 0, 2, 2, 0, 2, 1, 2, 0, 0,\n",
      "       2, 2, 2, 0, 0, 0, 1, 2]), 'inertia_': 18.555649031561618, 'n_iter_': 2}\n"
     ]
    }
   ],
   "source": [
    "print(kmeans.__dict__)"
   ]
  },
  {
   "cell_type": "code",
   "execution_count": 8,
   "metadata": {},
   "outputs": [
    {
     "name": "stdout",
     "output_type": "stream",
     "text": [
      "[2 1 1 1 0 2 0 1 0 1 1 1 1 0 2 2 0 2 1 2 0 0 2 2 2 0 0 0 1 2]\n"
     ]
    }
   ],
   "source": [
    "labels = kmeans.labels_\n",
    "print(labels)"
   ]
  },
  {
   "cell_type": "code",
   "execution_count": 10,
   "metadata": {},
   "outputs": [
    {
     "data": {
      "text/plain": [
       "array([[-0.55552381, -1.54381335, -1.93038028, -1.8333871 ,  2.14823598,\n",
       "         1.87271752,  1.52259607, -2.06418395,  1.74947621, -1.90749727,\n",
       "        -2.49524272, -1.42044833, -1.48699368,  2.79344193,  1.1641107 ,\n",
       "         1.54632313,  1.82287143,  1.06269622, -2.01479178,  1.4949318 ,\n",
       "         2.97493505,  2.08272263,  1.24258802,  0.91433877,  2.33812285,\n",
       "         1.84652023,  1.03150541,  1.42613574, -2.27858123,  1.43289271],\n",
       "       [ 4.69595848,  3.17488138,  2.70215036,  2.20950295,  1.12456117,\n",
       "         4.18069237, -0.29081422,  3.15002376,  0.63481908,  2.70023756,\n",
       "         2.79023809,  2.6768137 ,  3.0993654 ,  1.61909157,  3.79132988,\n",
       "         4.212973  ,  0.71628201,  5.17635143,  1.8821127 ,  3.85848832,\n",
       "         1.77927892,  0.78535335,  4.50399192,  4.55014643,  3.43116792,\n",
       "         0.99147304,  2.0681289 ,  0.0456529 ,  3.38437647,  4.37679234]])"
      ]
     },
     "execution_count": 10,
     "metadata": {},
     "output_type": "execute_result"
    }
   ],
   "source": [
    "x.T"
   ]
  },
  {
   "cell_type": "code",
   "execution_count": 7,
   "metadata": {},
   "outputs": [
    {
     "data": {
      "image/png": "[encoded data removed]",
      "text/plain": [
       "<Figure size 640x480 with 1 Axes>"
      ]
     },
     "metadata": {},
     "output_type": "display_data"
    }
   ],
   "source": [
    "plt.plot(x.T[0], x.T[1], 'bx')\n",
    "plt.plot(center.T[0], center.T[1], 'ro')\n",
    "plt.xlabel('X1')\n",
    "plt.ylabel('X2')\n",
    "plt.show()"
   ]
  }
 ],
 "metadata": {
  "kernelspec": {
   "display_name": "cpVision",
   "language": "python",
   "name": "python3"
  },
  "language_info": {
   "codemirror_mode": {
    "name": "ipython",
    "version": 3
   },
   "file_extension": ".py",
   "mimetype": "text/x-python",
   "name": "python",
   "nbconvert_exporter": "python",
   "pygments_lexer": "ipython3",
   "version": "3.12.2"
  }
 },
 "nbformat": 4,
 "nbformat_minor": 2
}
