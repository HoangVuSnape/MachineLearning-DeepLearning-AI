{
  "nbformat": 4,
  "nbformat_minor": 0,
  "metadata": {
    "colab": {
      "provenance": []
    },
    "kernelspec": {
      "name": "python3",
      "display_name": "Python 3"
    },
    "language_info": {
      "name": "python"
    }
  },
  "cells": [
    {
      "cell_type": "code",
      "execution_count": 1,
      "metadata": {
        "colab": {
          "base_uri": "https://localhost:8080/"
        },
        "id": "o4nGqsSMbu-d",
        "outputId": "68c89fe0-b3a9-470c-93db-64974f762a34"
      },
      "outputs": [
        {
          "output_type": "stream",
          "name": "stdout",
          "text": [
            "Collecting vncorenlp\n",
            "  Downloading vncorenlp-1.0.3.tar.gz (2.6 MB)\n",
            "\u001b[2K     \u001b[90m━━━━━━━━━━━━━━━━━━━━━━━━━━━━━━━━━━━━━━━━\u001b[0m \u001b[32m2.6/2.6 MB\u001b[0m \u001b[31m13.2 MB/s\u001b[0m eta \u001b[36m0:00:00\u001b[0m\n",
            "\u001b[?25h  Preparing metadata (setup.py) ... \u001b[?25l\u001b[?25hdone\n",
            "Requirement already satisfied: requests in /usr/local/lib/python3.10/dist-packages (from vncorenlp) (2.31.0)\n",
            "Requirement already satisfied: charset-normalizer<4,>=2 in /usr/local/lib/python3.10/dist-packages (from requests->vncorenlp) (3.3.2)\n",
            "Requirement already satisfied: idna<4,>=2.5 in /usr/local/lib/python3.10/dist-packages (from requests->vncorenlp) (3.7)\n",
            "Requirement already satisfied: urllib3<3,>=1.21.1 in /usr/local/lib/python3.10/dist-packages (from requests->vncorenlp) (2.0.7)\n",
            "Requirement already satisfied: certifi>=2017.4.17 in /usr/local/lib/python3.10/dist-packages (from requests->vncorenlp) (2024.6.2)\n",
            "Building wheels for collected packages: vncorenlp\n",
            "  Building wheel for vncorenlp (setup.py) ... \u001b[?25l\u001b[?25hdone\n",
            "  Created wheel for vncorenlp: filename=vncorenlp-1.0.3-py3-none-any.whl size=2645932 sha256=38a2e3e1f26074c03810c2c1a96ed269918ffeab2c98bd2010cd433d5dfa65ca\n",
            "  Stored in directory: /root/.cache/pip/wheels/5d/d9/b3/41f6c6b1ab758561fd4aab55dc0480b9d7a131c6aaa573a3fa\n",
            "Successfully built vncorenlp\n",
            "Installing collected packages: vncorenlp\n",
            "Successfully installed vncorenlp-1.0.3\n"
          ]
        }
      ],
      "source": [
        "pip install vncorenlp\n"
      ]
    },
    {
      "cell_type": "code",
      "source": [
        "!mkdir -p vncorenlp/models/wordsegmenter\n",
        "!wget https://raw.githubusercontent.com/vncorenlp/VnCoreNLP/master/VnCoreNLP-1.1.1.jar\n",
        "!wget https://raw.githubusercontent.com/vncorenlp/VnCoreNLP/master/models/wordsegmenter/vi-vocab\n",
        "!wget https://raw.githubusercontent.com/vncorenlp/VnCoreNLP/master/models/wordsegmenter/wordsegmenter.rdr\n",
        "!mv VnCoreNLP-1.1.1.jar vncorenlp/\n",
        "!mv vi-vocab vncorenlp/models/wordsegmenter/\n",
        "!mv wordsegmenter.rdr vncorenlp/models/wordsegmenter/"
      ],
      "metadata": {
        "colab": {
          "base_uri": "https://localhost:8080/"
        },
        "id": "lKeY90MplWhp",
        "outputId": "a1cc0f27-c198-4778-eb28-f996dba29994"
      },
      "execution_count": 2,
      "outputs": [
        {
          "output_type": "stream",
          "name": "stdout",
          "text": [
            "--2024-06-07 18:48:20--  https://raw.githubusercontent.com/vncorenlp/VnCoreNLP/master/VnCoreNLP-1.1.1.jar\n",
            "Resolving raw.githubusercontent.com (raw.githubusercontent.com)... 185.199.108.133, 185.199.109.133, 185.199.110.133, ...\n",
            "Connecting to raw.githubusercontent.com (raw.githubusercontent.com)|185.199.108.133|:443... connected.\n",
            "HTTP request sent, awaiting response... 200 OK\n",
            "Length: 27412575 (26M) [application/octet-stream]\n",
            "Saving to: ‘VnCoreNLP-1.1.1.jar’\n",
            "\n",
            "VnCoreNLP-1.1.1.jar 100%[===================>]  26.14M  --.-KB/s    in 0.1s    \n",
            "\n",
            "2024-06-07 18:48:22 (248 MB/s) - ‘VnCoreNLP-1.1.1.jar’ saved [27412575/27412575]\n",
            "\n",
            "--2024-06-07 18:48:22--  https://raw.githubusercontent.com/vncorenlp/VnCoreNLP/master/models/wordsegmenter/vi-vocab\n",
            "Resolving raw.githubusercontent.com (raw.githubusercontent.com)... 185.199.108.133, 185.199.109.133, 185.199.110.133, ...\n",
            "Connecting to raw.githubusercontent.com (raw.githubusercontent.com)|185.199.108.133|:443... connected.\n",
            "HTTP request sent, awaiting response... 200 OK\n",
            "Length: 526544 (514K) [application/octet-stream]\n",
            "Saving to: ‘vi-vocab’\n",
            "\n",
            "vi-vocab            100%[===================>] 514.20K  --.-KB/s    in 0.02s   \n",
            "\n",
            "2024-06-07 18:48:22 (29.0 MB/s) - ‘vi-vocab’ saved [526544/526544]\n",
            "\n",
            "--2024-06-07 18:48:22--  https://raw.githubusercontent.com/vncorenlp/VnCoreNLP/master/models/wordsegmenter/wordsegmenter.rdr\n",
            "Resolving raw.githubusercontent.com (raw.githubusercontent.com)... 185.199.111.133, 185.199.109.133, 185.199.110.133, ...\n",
            "Connecting to raw.githubusercontent.com (raw.githubusercontent.com)|185.199.111.133|:443... connected.\n",
            "HTTP request sent, awaiting response... 200 OK\n",
            "Length: 128508 (125K) [text/plain]\n",
            "Saving to: ‘wordsegmenter.rdr’\n",
            "\n",
            "wordsegmenter.rdr   100%[===================>] 125.50K  --.-KB/s    in 0.01s   \n",
            "\n",
            "2024-06-07 18:48:22 (10.1 MB/s) - ‘wordsegmenter.rdr’ saved [128508/128508]\n",
            "\n"
          ]
        }
      ]
    },
    {
      "cell_type": "code",
      "source": [
        "pip install pyvi"
      ],
      "metadata": {
        "colab": {
          "base_uri": "https://localhost:8080/"
        },
        "id": "CuULRYERHAoa",
        "outputId": "5092b7fe-2310-444d-d0c3-e4b7bb969016"
      },
      "execution_count": 3,
      "outputs": [
        {
          "output_type": "stream",
          "name": "stdout",
          "text": [
            "Collecting pyvi\n",
            "  Downloading pyvi-0.1.1-py2.py3-none-any.whl (8.5 MB)\n",
            "\u001b[2K     \u001b[90m━━━━━━━━━━━━━━━━━━━━━━━━━━━━━━━━━━━━━━━━\u001b[0m \u001b[32m8.5/8.5 MB\u001b[0m \u001b[31m22.1 MB/s\u001b[0m eta \u001b[36m0:00:00\u001b[0m\n",
            "\u001b[?25hRequirement already satisfied: scikit-learn in /usr/local/lib/python3.10/dist-packages (from pyvi) (1.2.2)\n",
            "Collecting sklearn-crfsuite (from pyvi)\n",
            "  Downloading sklearn_crfsuite-0.3.6-py2.py3-none-any.whl (12 kB)\n",
            "Requirement already satisfied: numpy>=1.17.3 in /usr/local/lib/python3.10/dist-packages (from scikit-learn->pyvi) (1.25.2)\n",
            "Requirement already satisfied: scipy>=1.3.2 in /usr/local/lib/python3.10/dist-packages (from scikit-learn->pyvi) (1.11.4)\n",
            "Requirement already satisfied: joblib>=1.1.1 in /usr/local/lib/python3.10/dist-packages (from scikit-learn->pyvi) (1.4.2)\n",
            "Requirement already satisfied: threadpoolctl>=2.0.0 in /usr/local/lib/python3.10/dist-packages (from scikit-learn->pyvi) (3.5.0)\n",
            "Collecting python-crfsuite>=0.8.3 (from sklearn-crfsuite->pyvi)\n",
            "  Downloading python_crfsuite-0.9.10-cp310-cp310-manylinux_2_17_x86_64.manylinux2014_x86_64.whl (1.1 MB)\n",
            "\u001b[2K     \u001b[90m━━━━━━━━━━━━━━━━━━━━━━━━━━━━━━━━━━━━━━━━\u001b[0m \u001b[32m1.1/1.1 MB\u001b[0m \u001b[31m52.1 MB/s\u001b[0m eta \u001b[36m0:00:00\u001b[0m\n",
            "\u001b[?25hRequirement already satisfied: six in /usr/local/lib/python3.10/dist-packages (from sklearn-crfsuite->pyvi) (1.16.0)\n",
            "Requirement already satisfied: tabulate in /usr/local/lib/python3.10/dist-packages (from sklearn-crfsuite->pyvi) (0.9.0)\n",
            "Requirement already satisfied: tqdm>=2.0 in /usr/local/lib/python3.10/dist-packages (from sklearn-crfsuite->pyvi) (4.66.4)\n",
            "Installing collected packages: python-crfsuite, sklearn-crfsuite, pyvi\n",
            "Successfully installed python-crfsuite-0.9.10 pyvi-0.1.1 sklearn-crfsuite-0.3.6\n"
          ]
        }
      ]
    },
    {
      "cell_type": "code",
      "source": [
        "pip install tensorflow"
      ],
      "metadata": {
        "colab": {
          "base_uri": "https://localhost:8080/"
        },
        "id": "ApQh-EbFShuJ",
        "outputId": "9d4ab161-fdd7-43ba-8519-6d4fe16f246d"
      },
      "execution_count": 4,
      "outputs": [
        {
          "output_type": "stream",
          "name": "stdout",
          "text": [
            "Requirement already satisfied: tensorflow in /usr/local/lib/python3.10/dist-packages (2.15.0)\n",
            "Requirement already satisfied: absl-py>=1.0.0 in /usr/local/lib/python3.10/dist-packages (from tensorflow) (1.4.0)\n",
            "Requirement already satisfied: astunparse>=1.6.0 in /usr/local/lib/python3.10/dist-packages (from tensorflow) (1.6.3)\n",
            "Requirement already satisfied: flatbuffers>=23.5.26 in /usr/local/lib/python3.10/dist-packages (from tensorflow) (24.3.25)\n",
            "Requirement already satisfied: gast!=0.5.0,!=0.5.1,!=0.5.2,>=0.2.1 in /usr/local/lib/python3.10/dist-packages (from tensorflow) (0.5.4)\n",
            "Requirement already satisfied: google-pasta>=0.1.1 in /usr/local/lib/python3.10/dist-packages (from tensorflow) (0.2.0)\n",
            "Requirement already satisfied: h5py>=2.9.0 in /usr/local/lib/python3.10/dist-packages (from tensorflow) (3.9.0)\n",
            "Requirement already satisfied: libclang>=13.0.0 in /usr/local/lib/python3.10/dist-packages (from tensorflow) (18.1.1)\n",
            "Requirement already satisfied: ml-dtypes~=0.2.0 in /usr/local/lib/python3.10/dist-packages (from tensorflow) (0.2.0)\n",
            "Requirement already satisfied: numpy<2.0.0,>=1.23.5 in /usr/local/lib/python3.10/dist-packages (from tensorflow) (1.25.2)\n",
            "Requirement already satisfied: opt-einsum>=2.3.2 in /usr/local/lib/python3.10/dist-packages (from tensorflow) (3.3.0)\n",
            "Requirement already satisfied: packaging in /usr/local/lib/python3.10/dist-packages (from tensorflow) (24.0)\n",
            "Requirement already satisfied: protobuf!=4.21.0,!=4.21.1,!=4.21.2,!=4.21.3,!=4.21.4,!=4.21.5,<5.0.0dev,>=3.20.3 in /usr/local/lib/python3.10/dist-packages (from tensorflow) (3.20.3)\n",
            "Requirement already satisfied: setuptools in /usr/local/lib/python3.10/dist-packages (from tensorflow) (67.7.2)\n",
            "Requirement already satisfied: six>=1.12.0 in /usr/local/lib/python3.10/dist-packages (from tensorflow) (1.16.0)\n",
            "Requirement already satisfied: termcolor>=1.1.0 in /usr/local/lib/python3.10/dist-packages (from tensorflow) (2.4.0)\n",
            "Requirement already satisfied: typing-extensions>=3.6.6 in /usr/local/lib/python3.10/dist-packages (from tensorflow) (4.12.1)\n",
            "Requirement already satisfied: wrapt<1.15,>=1.11.0 in /usr/local/lib/python3.10/dist-packages (from tensorflow) (1.14.1)\n",
            "Requirement already satisfied: tensorflow-io-gcs-filesystem>=0.23.1 in /usr/local/lib/python3.10/dist-packages (from tensorflow) (0.37.0)\n",
            "Requirement already satisfied: grpcio<2.0,>=1.24.3 in /usr/local/lib/python3.10/dist-packages (from tensorflow) (1.64.1)\n",
            "Requirement already satisfied: tensorboard<2.16,>=2.15 in /usr/local/lib/python3.10/dist-packages (from tensorflow) (2.15.2)\n",
            "Requirement already satisfied: tensorflow-estimator<2.16,>=2.15.0 in /usr/local/lib/python3.10/dist-packages (from tensorflow) (2.15.0)\n",
            "Requirement already satisfied: keras<2.16,>=2.15.0 in /usr/local/lib/python3.10/dist-packages (from tensorflow) (2.15.0)\n",
            "Requirement already satisfied: wheel<1.0,>=0.23.0 in /usr/local/lib/python3.10/dist-packages (from astunparse>=1.6.0->tensorflow) (0.43.0)\n",
            "Requirement already satisfied: google-auth<3,>=1.6.3 in /usr/local/lib/python3.10/dist-packages (from tensorboard<2.16,>=2.15->tensorflow) (2.27.0)\n",
            "Requirement already satisfied: google-auth-oauthlib<2,>=0.5 in /usr/local/lib/python3.10/dist-packages (from tensorboard<2.16,>=2.15->tensorflow) (1.2.0)\n",
            "Requirement already satisfied: markdown>=2.6.8 in /usr/local/lib/python3.10/dist-packages (from tensorboard<2.16,>=2.15->tensorflow) (3.6)\n",
            "Requirement already satisfied: requests<3,>=2.21.0 in /usr/local/lib/python3.10/dist-packages (from tensorboard<2.16,>=2.15->tensorflow) (2.31.0)\n",
            "Requirement already satisfied: tensorboard-data-server<0.8.0,>=0.7.0 in /usr/local/lib/python3.10/dist-packages (from tensorboard<2.16,>=2.15->tensorflow) (0.7.2)\n",
            "Requirement already satisfied: werkzeug>=1.0.1 in /usr/local/lib/python3.10/dist-packages (from tensorboard<2.16,>=2.15->tensorflow) (3.0.3)\n",
            "Requirement already satisfied: cachetools<6.0,>=2.0.0 in /usr/local/lib/python3.10/dist-packages (from google-auth<3,>=1.6.3->tensorboard<2.16,>=2.15->tensorflow) (5.3.3)\n",
            "Requirement already satisfied: pyasn1-modules>=0.2.1 in /usr/local/lib/python3.10/dist-packages (from google-auth<3,>=1.6.3->tensorboard<2.16,>=2.15->tensorflow) (0.4.0)\n",
            "Requirement already satisfied: rsa<5,>=3.1.4 in /usr/local/lib/python3.10/dist-packages (from google-auth<3,>=1.6.3->tensorboard<2.16,>=2.15->tensorflow) (4.9)\n",
            "Requirement already satisfied: requests-oauthlib>=0.7.0 in /usr/local/lib/python3.10/dist-packages (from google-auth-oauthlib<2,>=0.5->tensorboard<2.16,>=2.15->tensorflow) (1.3.1)\n",
            "Requirement already satisfied: charset-normalizer<4,>=2 in /usr/local/lib/python3.10/dist-packages (from requests<3,>=2.21.0->tensorboard<2.16,>=2.15->tensorflow) (3.3.2)\n",
            "Requirement already satisfied: idna<4,>=2.5 in /usr/local/lib/python3.10/dist-packages (from requests<3,>=2.21.0->tensorboard<2.16,>=2.15->tensorflow) (3.7)\n",
            "Requirement already satisfied: urllib3<3,>=1.21.1 in /usr/local/lib/python3.10/dist-packages (from requests<3,>=2.21.0->tensorboard<2.16,>=2.15->tensorflow) (2.0.7)\n",
            "Requirement already satisfied: certifi>=2017.4.17 in /usr/local/lib/python3.10/dist-packages (from requests<3,>=2.21.0->tensorboard<2.16,>=2.15->tensorflow) (2024.6.2)\n",
            "Requirement already satisfied: MarkupSafe>=2.1.1 in /usr/local/lib/python3.10/dist-packages (from werkzeug>=1.0.1->tensorboard<2.16,>=2.15->tensorflow) (2.1.5)\n",
            "Requirement already satisfied: pyasn1<0.7.0,>=0.4.6 in /usr/local/lib/python3.10/dist-packages (from pyasn1-modules>=0.2.1->google-auth<3,>=1.6.3->tensorboard<2.16,>=2.15->tensorflow) (0.6.0)\n",
            "Requirement already satisfied: oauthlib>=3.0.0 in /usr/local/lib/python3.10/dist-packages (from requests-oauthlib>=0.7.0->google-auth-oauthlib<2,>=0.5->tensorboard<2.16,>=2.15->tensorflow) (3.2.2)\n"
          ]
        }
      ]
    },
    {
      "cell_type": "code",
      "source": [
        "pip install keras\n"
      ],
      "metadata": {
        "colab": {
          "base_uri": "https://localhost:8080/"
        },
        "id": "Vdy9H_fF_G1X",
        "outputId": "87663755-f920-41c3-a12d-78416996cbef"
      },
      "execution_count": 5,
      "outputs": [
        {
          "output_type": "stream",
          "name": "stdout",
          "text": [
            "Requirement already satisfied: keras in /usr/local/lib/python3.10/dist-packages (2.15.0)\n"
          ]
        }
      ]
    },
    {
      "cell_type": "markdown",
      "source": [
        "**Data Loader**"
      ],
      "metadata": {
        "id": "lm2fsex8m8Oa"
      }
    },
    {
      "cell_type": "code",
      "source": [
        "TRAIN = '/content/drive/MyDrive/mid_NLP/train.csv'\n",
        "DEV = '/content/drive/MyDrive/mid_NLP/dev.csv'\n",
        "TEST = '/content/drive/MyDrive/mid_NLP/test.csv'\n",
        "\n",
        "LABEL = '/content/drive/MyDrive/mid_NLP/labels.csv'\n",
        "\n",
        "import pandas as pd\n",
        "\n",
        "train = pd.read_csv(TRAIN)\n",
        "dev = pd.read_csv(DEV)\n",
        "test = pd.read_csv(TEST)\n",
        "\n",
        "label = pd.read_csv(LABEL)\n",
        "job_types = label['job_type'].values"
      ],
      "metadata": {
        "id": "0kJF_5yWnAV1"
      },
      "execution_count": 6,
      "outputs": []
    },
    {
      "cell_type": "code",
      "source": [
        "from gensim.models import Word2Vec\n",
        "import numpy as np\n",
        "from tensorflow.keras.preprocessing.sequence import pad_sequences\n",
        "from sklearn.preprocessing import MultiLabelBinarizer\n",
        "from sklearn.model_selection import train_test_split\n",
        "\n",
        "import vncorenlp\n",
        "from vncorenlp import VnCoreNLP"
      ],
      "metadata": {
        "id": "UpeCGKhNSUk0"
      },
      "execution_count": 7,
      "outputs": []
    },
    {
      "cell_type": "code",
      "source": [
        "import numpy as np\n",
        "import re\n",
        "from pyvi import ViTokenizer\n",
        "\n",
        "vncorenlp = VnCoreNLP(\"vncorenlp/VnCoreNLP-1.1.1.jar\", annotators=\"wseg\", max_heap_size='-Xmx500m')\n",
        "\n",
        "def custom_tokenizer(text_data, tokenizer='vncorenlp'):\n",
        "    # text_data = text_data.lower()\n",
        "    if tokenizer == 'vncorenlp':\n",
        "        # return \" \".join(vncorenlp.tokenize(str(text_data))[0])\n",
        "        text = \"\"\n",
        "        lst = vncorenlp.tokenize(str(text_data))\n",
        "        for t in lst:\n",
        "            text += \" \".join(t)\n",
        "        return text\n",
        "    if tokenizer == 'none':\n",
        "        return text_data\n",
        "    return ViTokenizer.tokenize(str(text_data))\n",
        "\n",
        "def pre_process(X, y):\n",
        "    sentences = []\n",
        "\n",
        "    for t in X:\n",
        "        t = re.sub(r\"[-()\\\"#/@;:<>{}`+=~|!?,]\", \"\", t)\n",
        "        sentences.append(custom_tokenizer(t, tokenizer='vncorenlp'))\n",
        "\n",
        "\n",
        "\n",
        "    return (sentences, y)"
      ],
      "metadata": {
        "id": "wbXwKlqP5VRn"
      },
      "execution_count": 29,
      "outputs": []
    },
    {
      "cell_type": "code",
      "source": [
        "data = pd.concat([train, dev], ignore_index=True)"
      ],
      "metadata": {
        "id": "-r1eoSHsjEVc"
      },
      "execution_count": 9,
      "outputs": []
    },
    {
      "cell_type": "code",
      "source": [
        "# Chia lại dữ liệu train và val theo tỉ lệ 8:2\n",
        "X_train, X_val, y_train, y_val = train_test_split(\n",
        "    data['job_description'],\n",
        "    data['job'],\n",
        "    test_size=0.2,\n",
        "    random_state=42\n",
        ")"
      ],
      "metadata": {
        "id": "FyD9CHkvjRJm"
      },
      "execution_count": 27,
      "outputs": []
    },
    {
      "cell_type": "code",
      "source": [
        "y_train = y_train.apply(eval).tolist()\n",
        "y_val = y_val.apply(eval).tolist()"
      ],
      "metadata": {
        "id": "4KON90JAFqC5"
      },
      "execution_count": 28,
      "outputs": []
    },
    {
      "cell_type": "code",
      "source": [
        "# Tiền xử lý dữ liệu\n",
        "X1, y1 = pre_process(X_train.tolist(), y_train)\n",
        "X2, y2 = pre_process(X_val.tolist(), y_val)\n",
        "X3, y3 = pre_process(test['job_description'].tolist(), test['job'].apply(eval).tolist())\n"
      ],
      "metadata": {
        "id": "_r3JrKMJEpr_"
      },
      "execution_count": 31,
      "outputs": []
    },
    {
      "cell_type": "code",
      "source": [
        "# Tách từ cho tất cả các văn bản trong tập dữ liệu\n",
        "all_texts = X1 + X2 + X3\n",
        "\n",
        "# Tách từ cho tất cả các văn bản\n",
        "tokenized_texts = [text.split() for text in all_texts]\n"
      ],
      "metadata": {
        "id": "f0WBsKN6SpWw"
      },
      "execution_count": 32,
      "outputs": []
    },
    {
      "cell_type": "code",
      "source": [
        "tokenized_texts[1]"
      ],
      "metadata": {
        "colab": {
          "base_uri": "https://localhost:8080/"
        },
        "id": "FphoTxNWSte4",
        "outputId": "5a8b97af-8cfd-4613-ce2f-ae2da6c13ded"
      },
      "execution_count": 34,
      "outputs": [
        {
          "output_type": "execute_result",
          "data": {
            "text/plain": [
              "['Liên_hệ',\n",
              " 'với',\n",
              " 'khách_hàng',\n",
              " 'thị_trường',\n",
              " 'Trung_Quốc',\n",
              " 'theo',\n",
              " 'các',\n",
              " 'thông_tin',\n",
              " 'thu_thập',\n",
              " 'được',\n",
              " 'và',\n",
              " 'các',\n",
              " 'thông_tin',\n",
              " 'do',\n",
              " 'Công_ty',\n",
              " 'cung_cấp',\n",
              " 'để',\n",
              " 'giới_thiệu',\n",
              " 'về',\n",
              " 'các',\n",
              " 'công_nghệ',\n",
              " 'giải_pháp',\n",
              " 'kỹ_thuật',\n",
              " 'trong',\n",
              " 'lĩnh_vực',\n",
              " 'xử_lý',\n",
              " 'nước_thải',\n",
              " 'xử_lý',\n",
              " 'nước',\n",
              " 'cấp',\n",
              " '.Tổng_hợp',\n",
              " 'thông_tin',\n",
              " 'lên',\n",
              " 'kế_hoạch',\n",
              " 'tiếp_cận',\n",
              " 'khách_hàng',\n",
              " 'tới',\n",
              " 'TP.',\n",
              " 'Kinh_doanh',\n",
              " 'miền',\n",
              " 'Bắc',\n",
              " '.Biên',\n",
              " 'phiên_dịch',\n",
              " 'thông_tin',\n",
              " 'cho',\n",
              " 'TP.',\n",
              " 'Kinh_doanh',\n",
              " 'hoặc',\n",
              " 'TGĐ',\n",
              " 'trong',\n",
              " 'các',\n",
              " 'buổi',\n",
              " 'làm_việc',\n",
              " 'trực_tiếp',\n",
              " 'với',\n",
              " 'khách_hàng',\n",
              " 'Trung_Quốc',\n",
              " '.Tiếp_nhận',\n",
              " 'thông_tin',\n",
              " 'của',\n",
              " 'khách_hàng',\n",
              " 'và',\n",
              " 'báo_cáo',\n",
              " 'chính_xác',\n",
              " 'kịp_thời',\n",
              " 'tới',\n",
              " 'TP.',\n",
              " 'Kinh_doanh',\n",
              " 'miền',\n",
              " 'Bắc',\n",
              " 'để',\n",
              " 'có',\n",
              " 'phương_án',\n",
              " 'đối_ứng',\n",
              " 'tốt',\n",
              " 'nhất',\n",
              " '.Phối_hợp',\n",
              " 'với',\n",
              " 'Phòng',\n",
              " 'Đấu_thầu',\n",
              " '–',\n",
              " 'Hợp_đồng',\n",
              " 'để',\n",
              " 'biên_dịch',\n",
              " 'các',\n",
              " 'tài_liệu',\n",
              " 'được',\n",
              " 'giao',\n",
              " '.Thực_hiện',\n",
              " 'các',\n",
              " 'nhiệm_vụ',\n",
              " 'khác',\n",
              " 'do',\n",
              " 'TP.',\n",
              " 'Kinh_doanh',\n",
              " 'giao',\n",
              " '.Kỹ_năng',\n",
              " 'nói',\n",
              " 'viết',\n",
              " 'tiếng',\n",
              " 'Trung',\n",
              " 'và',\n",
              " 'thuyết_trình',\n",
              " 'tốt',\n",
              " 'trước',\n",
              " 'đám',\n",
              " 'đông',\n",
              " '.']"
            ]
          },
          "metadata": {},
          "execution_count": 34
        }
      ]
    },
    {
      "cell_type": "code",
      "source": [
        "# Huấn luyện mô hình Word2Vec\n",
        "embedding_dim = 100  # Kích thước của embeddings - 100\n",
        "word2vec_model = Word2Vec(tokenized_texts, vector_size=embedding_dim, window=5, min_count=1, workers=4)\n",
        "\n",
        "# Lưu trữ embeddings\n",
        "word_vectors = word2vec_model.wv"
      ],
      "metadata": {
        "id": "5cDNiHD8Sye1"
      },
      "execution_count": 57,
      "outputs": []
    },
    {
      "cell_type": "code",
      "source": [
        "# Chuyển đổi văn bản thành chuỗi số dựa trên từ điển Word2Vec\n",
        "def text_to_sequence(text, word_vectors):\n",
        "    return [word_vectors.key_to_index[word] if word in word_vectors else 0 for word in text.split()]\n",
        "\n",
        "# Chuyển đổi các văn bản trong tập train, dev và test\n",
        "train_sequences = [text_to_sequence(text, word_vectors) for text in X1]\n",
        "dev_sequences = [text_to_sequence(text, word_vectors) for text in X2]\n",
        "test_sequences = [text_to_sequence(text, word_vectors) for text in X3]\n"
      ],
      "metadata": {
        "id": "F3613TaH2Ccw"
      },
      "execution_count": 58,
      "outputs": []
    },
    {
      "cell_type": "code",
      "source": [
        "# Đệm các chuỗi để tất cả đều có độ dài như nhau\n",
        "maxlen = 100\n",
        "X_train = pad_sequences(train_sequences, maxlen=maxlen)\n",
        "X_val = pad_sequences(dev_sequences, maxlen=maxlen)\n",
        "X_test = pad_sequences(test_sequences, maxlen=maxlen)\n"
      ],
      "metadata": {
        "id": "gmMw5twU7ybh"
      },
      "execution_count": 59,
      "outputs": []
    },
    {
      "cell_type": "code",
      "source": [
        "# Chuyển đổi nhãn sang định dạng nhị phân\n",
        "mlb = MultiLabelBinarizer()\n",
        "y_train = mlb.fit_transform(y1)\n",
        "y_val = mlb.transform(y2)\n",
        "y_test = mlb.transform(y3)"
      ],
      "metadata": {
        "id": "ycqATZ6683uq"
      },
      "execution_count": 60,
      "outputs": []
    },
    {
      "cell_type": "code",
      "source": [
        "# Tạo ma trận embeddings\n",
        "vocab_size = len(word_vectors)\n",
        "embedding_matrix = np.zeros((vocab_size + 2, embedding_dim))\n",
        "\n",
        "# Điền ma trận embeddings với các vectors từ Word2Vec\n",
        "for word, i in word_vectors.key_to_index.items():\n",
        "    embedding_vector = word_vectors[word]\n",
        "    if embedding_vector is not None:\n",
        "        embedding_matrix[i + 2] = embedding_vector\n",
        "\n",
        "# Thêm embeddings ngẫu nhiên cho các từ đặc biệt UNK và PAD\n",
        "embedding_matrix[1] = np.random.randn(embedding_dim)  # UNK\n",
        "embedding_matrix[0] = np.zeros(embedding_dim)  # PAD"
      ],
      "metadata": {
        "id": "9qTw8zvc9K1O"
      },
      "execution_count": 61,
      "outputs": []
    },
    {
      "cell_type": "code",
      "source": [
        "from keras.models import Sequential\n",
        "from keras.layers import Embedding, Dense, Flatten, LSTM, GRU, Dropout, BatchNormalization\n",
        "from keras.callbacks import EarlyStopping\n",
        "from keras.optimizers import Adam"
      ],
      "metadata": {
        "id": "9ESyHNXT9bk8"
      },
      "execution_count": 62,
      "outputs": []
    },
    {
      "cell_type": "code",
      "source": [
        "# Xây dựng mô hình FFNN\n",
        "model_ffnn = Sequential()\n",
        "model_ffnn.add(Embedding(input_dim=vocab_size + 2, output_dim=embedding_dim, input_length=maxlen, weights=[embedding_matrix], trainable=False))\n",
        "model_ffnn.add(Flatten())\n",
        "model_ffnn.add(Dense(256, activation='relu'))\n",
        "model_ffnn.add(BatchNormalization())\n",
        "model_ffnn.add(Dropout(0.5))\n",
        "model_ffnn.add(Dense(128, activation='relu'))\n",
        "model_ffnn.add(BatchNormalization())\n",
        "model_ffnn.add(Dropout(0.5))\n",
        "model_ffnn.add(Dense(y_train.shape[1], activation='sigmoid'))"
      ],
      "metadata": {
        "id": "4_sHmf499NFr"
      },
      "execution_count": 63,
      "outputs": []
    },
    {
      "cell_type": "code",
      "source": [
        "model_ffnn.summary()"
      ],
      "metadata": {
        "colab": {
          "base_uri": "https://localhost:8080/"
        },
        "id": "1jE9v8RC_xFV",
        "outputId": "af67e7cd-22aa-4566-8efa-dacba88cb1a9"
      },
      "execution_count": 64,
      "outputs": [
        {
          "output_type": "stream",
          "name": "stdout",
          "text": [
            "Model: \"sequential_2\"\n",
            "_________________________________________________________________\n",
            " Layer (type)                Output Shape              Param #   \n",
            "=================================================================\n",
            " embedding_2 (Embedding)     (None, 100, 100)          4494000   \n",
            "                                                                 \n",
            " flatten_2 (Flatten)         (None, 10000)             0         \n",
            "                                                                 \n",
            " dense_6 (Dense)             (None, 256)               2560256   \n",
            "                                                                 \n",
            " batch_normalization_4 (Bat  (None, 256)               1024      \n",
            " chNormalization)                                                \n",
            "                                                                 \n",
            " dropout_4 (Dropout)         (None, 256)               0         \n",
            "                                                                 \n",
            " dense_7 (Dense)             (None, 128)               32896     \n",
            "                                                                 \n",
            " batch_normalization_5 (Bat  (None, 128)               512       \n",
            " chNormalization)                                                \n",
            "                                                                 \n",
            " dropout_5 (Dropout)         (None, 128)               0         \n",
            "                                                                 \n",
            " dense_8 (Dense)             (None, 64)                8256      \n",
            "                                                                 \n",
            "=================================================================\n",
            "Total params: 7096944 (27.07 MB)\n",
            "Trainable params: 2602176 (9.93 MB)\n",
            "Non-trainable params: 4494768 (17.15 MB)\n",
            "_________________________________________________________________\n"
          ]
        }
      ]
    },
    {
      "cell_type": "code",
      "source": [
        "model_ffnn.compile(loss='binary_crossentropy', optimizer=Adam(0.001), metrics=['accuracy'])"
      ],
      "metadata": {
        "id": "BIt9yvDI_pld"
      },
      "execution_count": 65,
      "outputs": []
    },
    {
      "cell_type": "code",
      "source": [
        "# Thiết lập EarlyStopping\n",
        "early_stopping = EarlyStopping(monitor='val_loss', patience=3, restore_best_weights=True)\n",
        "\n",
        "# Huấn luyện mô hình\n",
        "history_ffnn = model_ffnn.fit(X_train, y_train, epochs=20, batch_size=64, validation_data=(X_val, y_val), callbacks=[early_stopping])\n"
      ],
      "metadata": {
        "colab": {
          "base_uri": "https://localhost:8080/"
        },
        "id": "rrCagoCRABun",
        "outputId": "ec53fb01-d5c4-4ce3-d82d-9f0470e722da"
      },
      "execution_count": 66,
      "outputs": [
        {
          "output_type": "stream",
          "name": "stdout",
          "text": [
            "Epoch 1/20\n",
            "275/275 [==============================] - 16s 53ms/step - loss: 0.4484 - accuracy: 0.1438 - val_loss: 0.0946 - val_accuracy: 0.2948\n",
            "Epoch 2/20\n",
            "275/275 [==============================] - 14s 51ms/step - loss: 0.0951 - accuracy: 0.2714 - val_loss: 0.0675 - val_accuracy: 0.3378\n",
            "Epoch 3/20\n",
            "275/275 [==============================] - 14s 49ms/step - loss: 0.0744 - accuracy: 0.3204 - val_loss: 0.0582 - val_accuracy: 0.3433\n",
            "Epoch 4/20\n",
            "275/275 [==============================] - 13s 49ms/step - loss: 0.0644 - accuracy: 0.3517 - val_loss: 0.0523 - val_accuracy: 0.3699\n",
            "Epoch 5/20\n",
            "275/275 [==============================] - 12s 45ms/step - loss: 0.0578 - accuracy: 0.3814 - val_loss: 0.0485 - val_accuracy: 0.3649\n",
            "Epoch 6/20\n",
            "275/275 [==============================] - 13s 49ms/step - loss: 0.0526 - accuracy: 0.4049 - val_loss: 0.0464 - val_accuracy: 0.3430\n",
            "Epoch 7/20\n",
            "275/275 [==============================] - 16s 60ms/step - loss: 0.0480 - accuracy: 0.4305 - val_loss: 0.0449 - val_accuracy: 0.3653\n",
            "Epoch 8/20\n",
            "275/275 [==============================] - 15s 53ms/step - loss: 0.0438 - accuracy: 0.4520 - val_loss: 0.0442 - val_accuracy: 0.3510\n",
            "Epoch 9/20\n",
            "275/275 [==============================] - 14s 51ms/step - loss: 0.0405 - accuracy: 0.4819 - val_loss: 0.0440 - val_accuracy: 0.3942\n",
            "Epoch 10/20\n",
            "275/275 [==============================] - 14s 51ms/step - loss: 0.0375 - accuracy: 0.5027 - val_loss: 0.0443 - val_accuracy: 0.3785\n",
            "Epoch 11/20\n",
            "275/275 [==============================] - 13s 47ms/step - loss: 0.0355 - accuracy: 0.5186 - val_loss: 0.0441 - val_accuracy: 0.4281\n",
            "Epoch 12/20\n",
            "275/275 [==============================] - 13s 46ms/step - loss: 0.0333 - accuracy: 0.5337 - val_loss: 0.0443 - val_accuracy: 0.3833\n"
          ]
        }
      ]
    },
    {
      "cell_type": "code",
      "source": [
        "import matplotlib.pyplot as plt"
      ],
      "metadata": {
        "id": "nHkZnKmQ3VeV"
      },
      "execution_count": 67,
      "outputs": []
    },
    {
      "cell_type": "code",
      "source": [
        "# Plotting the accuracy and loss over time\n",
        "\n",
        "# Training history\n",
        "history_dict = history_ffnn.history\n",
        "\n",
        "# Seperating validation and training accuracy\n",
        "acc = history_dict['accuracy']\n",
        "val_acc = history_dict['val_accuracy']\n",
        "\n",
        "# Seperating validation and training loss\n",
        "loss = history_dict['loss']\n",
        "val_loss = history_dict['val_loss']\n",
        "\n",
        "# Plotting\n",
        "plt.subplot(1, 2, 1)\n",
        "plt.plot(acc)\n",
        "plt.plot(val_acc)\n",
        "plt.title('Training and Validation Accuracy')\n",
        "plt.xlabel('Epochs')\n",
        "plt.ylabel('Accuracy')\n",
        "plt.legend(['Accuracy', 'Validation Accuracy'])\n",
        "\n",
        "plt.subplot(1, 2, 2)\n",
        "plt.plot(loss)\n",
        "plt.plot(val_loss)\n",
        "plt.title('Training and Validation Loss')\n",
        "plt.xlabel('Epochs')\n",
        "plt.ylabel('Loss')\n",
        "plt.legend(['Loss', 'Validation Loss'])\n",
        "\n",
        "plt.show()"
      ],
      "metadata": {
        "colab": {
          "base_uri": "https://localhost:8080/",
          "height": 472
        },
        "id": "g1azI-_q3ONH",
        "outputId": "a36185b5-1ce9-4270-d3ee-c38d13311062"
      },
      "execution_count": 68,
      "outputs": [
        {
          "output_type": "display_data",
          "data": {
            "text/plain": [
              "<Figure size 640x480 with 2 Axes>"
            ],
            "image/png": "[encoded data removed]"
          },
          "metadata": {}
        }
      ]
    },
    {
      "cell_type": "code",
      "source": [
        "# Đánh giá mô hình FFNN\n",
        "ffnn_score = model_ffnn.evaluate(X_test, y_test, batch_size=64)\n",
        "print(f'FFNN Test loss: {ffnn_score[0]}')\n",
        "print(f'FFNN Test accuracy: {ffnn_score[1]}')"
      ],
      "metadata": {
        "colab": {
          "base_uri": "https://localhost:8080/"
        },
        "id": "hJ6w5v2ScjRz",
        "outputId": "b4fb2f5f-31f2-42f2-fc37-634498558656"
      },
      "execution_count": 69,
      "outputs": [
        {
          "output_type": "stream",
          "name": "stdout",
          "text": [
            "62/62 [==============================] - 1s 12ms/step - loss: 0.0643 - accuracy: 0.3539\n",
            "FFNN Test loss: 0.06429722905158997\n",
            "FFNN Test accuracy: 0.3539282977581024\n"
          ]
        }
      ]
    },
    {
      "cell_type": "code",
      "source": [
        "# Dự đoán với mô hình FFNN\n",
        "ffnn_predictions = model_ffnn.predict(X_test)\n",
        "# Chuyển đổi dự đoán thành nhãn\n",
        "ffnn_pred_labels = mlb.inverse_transform((ffnn_predictions > 0.5).astype(int))"
      ],
      "metadata": {
        "colab": {
          "base_uri": "https://localhost:8080/"
        },
        "id": "a7AEcrW7z5Wz",
        "outputId": "5b7585a3-7f37-4edc-ad06-31bfc46bf1fa"
      },
      "execution_count": 70,
      "outputs": [
        {
          "output_type": "stream",
          "name": "stdout",
          "text": [
            "123/123 [==============================] - 3s 24ms/step\n"
          ]
        }
      ]
    },
    {
      "cell_type": "code",
      "source": [
        "# Xây dựng mô hình RNN\n",
        "model_rnn = Sequential()\n",
        "model_rnn.add(Embedding(input_dim=vocab_size + 2, output_dim=embedding_dim, input_length=maxlen, weights=[embedding_matrix], trainable=False))\n",
        "model_rnn.add(LSTM(64, dropout=0.2, recurrent_dropout=0.2, return_sequences=True))\n",
        "model_rnn.add(BatchNormalization())\n",
        "model_rnn.add(Dropout(0.5))\n",
        "model_rnn.add(LSTM(64, dropout=0.2, recurrent_dropout=0.2))\n",
        "model_rnn.add(BatchNormalization())\n",
        "# model_rnn.add(GRU(64, dropout=0.2, recurrent_dropout=0.2, return_sequences=True))  # Sử dụng GRU thay vì LSTM và giảm số lượng nơron\n",
        "# model_rnn.add(BatchNormalization())\n",
        "# model_rnn.add(Dropout(0.5))\n",
        "# model_rnn.add(GRU(64, dropout=0.2, recurrent_dropout=0.2))\n",
        "# model_rnn.add(BatchNormalization())\n",
        "model_rnn.add(Dropout(0.5))\n",
        "model_rnn.add(Dense(y_train.shape[1], activation='sigmoid'))"
      ],
      "metadata": {
        "id": "htbU2M74_WJV"
      },
      "execution_count": 71,
      "outputs": []
    },
    {
      "cell_type": "code",
      "source": [
        "model_rnn.summary()"
      ],
      "metadata": {
        "colab": {
          "base_uri": "https://localhost:8080/"
        },
        "id": "hPMzHInaDXmK",
        "outputId": "f658eb5b-a92d-4998-ec72-04553cfa0afa"
      },
      "execution_count": 72,
      "outputs": [
        {
          "output_type": "stream",
          "name": "stdout",
          "text": [
            "Model: \"sequential_3\"\n",
            "_________________________________________________________________\n",
            " Layer (type)                Output Shape              Param #   \n",
            "=================================================================\n",
            " embedding_3 (Embedding)     (None, 100, 100)          4494000   \n",
            "                                                                 \n",
            " lstm (LSTM)                 (None, 100, 64)           42240     \n",
            "                                                                 \n",
            " batch_normalization_6 (Bat  (None, 100, 64)           256       \n",
            " chNormalization)                                                \n",
            "                                                                 \n",
            " dropout_6 (Dropout)         (None, 100, 64)           0         \n",
            "                                                                 \n",
            " lstm_1 (LSTM)               (None, 64)                33024     \n",
            "                                                                 \n",
            " batch_normalization_7 (Bat  (None, 64)                256       \n",
            " chNormalization)                                                \n",
            "                                                                 \n",
            " dropout_7 (Dropout)         (None, 64)                0         \n",
            "                                                                 \n",
            " dense_9 (Dense)             (None, 64)                4160      \n",
            "                                                                 \n",
            "=================================================================\n",
            "Total params: 4573936 (17.45 MB)\n",
            "Trainable params: 79680 (311.25 KB)\n",
            "Non-trainable params: 4494256 (17.14 MB)\n",
            "_________________________________________________________________\n"
          ]
        }
      ]
    },
    {
      "cell_type": "code",
      "source": [
        "# Biên dịch mô hình\n",
        "model_rnn.compile(loss='binary_crossentropy', optimizer=Adam(0.001), metrics=['accuracy'])\n"
      ],
      "metadata": {
        "id": "pvMX0TlO_dG2"
      },
      "execution_count": 73,
      "outputs": []
    },
    {
      "cell_type": "code",
      "source": [
        "# Thiết lập EarlyStopping\n",
        "early_stopping_rnn = EarlyStopping(monitor='val_loss', patience=3, restore_best_weights=True)\n",
        "\n",
        "# Huấn luyện mô hình\n",
        "history_rnn = model_rnn.fit(X_train, y_train, epochs=20, batch_size=64, validation_data=(X_val, y_val), callbacks=[early_stopping_rnn])\n"
      ],
      "metadata": {
        "colab": {
          "base_uri": "https://localhost:8080/"
        },
        "id": "JvjFdQh4_fyT",
        "outputId": "2b597793-213f-4e74-eedc-01b4da8c5729"
      },
      "execution_count": 75,
      "outputs": [
        {
          "output_type": "stream",
          "name": "stdout",
          "text": [
            "Epoch 1/20\n",
            "275/275 [==============================] - 137s 457ms/step - loss: 0.5149 - accuracy: 0.0484 - val_loss: 0.1399 - val_accuracy: 0.1282\n",
            "Epoch 2/20\n",
            "275/275 [==============================] - 123s 447ms/step - loss: 0.1319 - accuracy: 0.1337 - val_loss: 0.0965 - val_accuracy: 0.1553\n",
            "Epoch 3/20\n",
            "275/275 [==============================] - 119s 433ms/step - loss: 0.1067 - accuracy: 0.1759 - val_loss: 0.0857 - val_accuracy: 0.1862\n",
            "Epoch 4/20\n",
            "275/275 [==============================] - 116s 423ms/step - loss: 0.0956 - accuracy: 0.2175 - val_loss: 0.0772 - val_accuracy: 0.2653\n",
            "Epoch 5/20\n",
            "275/275 [==============================] - 116s 422ms/step - loss: 0.0866 - accuracy: 0.2560 - val_loss: 0.0687 - val_accuracy: 0.2996\n",
            "Epoch 6/20\n",
            "275/275 [==============================] - 120s 436ms/step - loss: 0.0784 - accuracy: 0.2963 - val_loss: 0.0621 - val_accuracy: 0.3217\n",
            "Epoch 7/20\n",
            "275/275 [==============================] - 117s 424ms/step - loss: 0.0721 - accuracy: 0.3311 - val_loss: 0.0574 - val_accuracy: 0.3530\n",
            "Epoch 8/20\n",
            "275/275 [==============================] - 121s 439ms/step - loss: 0.0672 - accuracy: 0.3567 - val_loss: 0.0535 - val_accuracy: 0.3753\n",
            "Epoch 9/20\n",
            "275/275 [==============================] - 117s 426ms/step - loss: 0.0633 - accuracy: 0.3712 - val_loss: 0.0510 - val_accuracy: 0.3699\n",
            "Epoch 10/20\n",
            "275/275 [==============================] - 121s 439ms/step - loss: 0.0607 - accuracy: 0.3818 - val_loss: 0.0482 - val_accuracy: 0.3803\n",
            "Epoch 11/20\n",
            "275/275 [==============================] - 117s 424ms/step - loss: 0.0581 - accuracy: 0.3882 - val_loss: 0.0476 - val_accuracy: 0.3978\n",
            "Epoch 12/20\n",
            "275/275 [==============================] - 119s 434ms/step - loss: 0.0560 - accuracy: 0.4016 - val_loss: 0.0454 - val_accuracy: 0.4026\n",
            "Epoch 13/20\n",
            "275/275 [==============================] - 117s 425ms/step - loss: 0.0543 - accuracy: 0.4023 - val_loss: 0.0443 - val_accuracy: 0.3844\n",
            "Epoch 14/20\n",
            "275/275 [==============================] - 124s 451ms/step - loss: 0.0529 - accuracy: 0.4068 - val_loss: 0.0431 - val_accuracy: 0.4235\n",
            "Epoch 15/20\n",
            "275/275 [==============================] - 116s 422ms/step - loss: 0.0515 - accuracy: 0.4131 - val_loss: 0.0423 - val_accuracy: 0.4419\n",
            "Epoch 16/20\n",
            "275/275 [==============================] - 118s 430ms/step - loss: 0.0505 - accuracy: 0.4219 - val_loss: 0.0417 - val_accuracy: 0.4080\n",
            "Epoch 17/20\n",
            "275/275 [==============================] - 119s 432ms/step - loss: 0.0495 - accuracy: 0.4252 - val_loss: 0.0408 - val_accuracy: 0.3944\n",
            "Epoch 18/20\n",
            "275/275 [==============================] - 115s 418ms/step - loss: 0.0486 - accuracy: 0.4248 - val_loss: 0.0403 - val_accuracy: 0.4187\n",
            "Epoch 19/20\n",
            "275/275 [==============================] - 122s 442ms/step - loss: 0.0482 - accuracy: 0.4252 - val_loss: 0.0398 - val_accuracy: 0.4235\n",
            "Epoch 20/20\n",
            "275/275 [==============================] - 115s 420ms/step - loss: 0.0470 - accuracy: 0.4301 - val_loss: 0.0399 - val_accuracy: 0.4251\n"
          ]
        }
      ]
    },
    {
      "cell_type": "code",
      "source": [
        "# Plotting the accuracy and loss over time\n",
        "\n",
        "# Training history\n",
        "history_dict = history_rnn.history\n",
        "\n",
        "# Seperating validation and training accuracy\n",
        "acc = history_dict['accuracy']\n",
        "val_acc = history_dict['val_accuracy']\n",
        "\n",
        "# Seperating validation and training loss\n",
        "loss = history_dict['loss']\n",
        "val_loss = history_dict['val_loss']\n",
        "\n",
        "# Plotting\n",
        "plt.subplot(1, 2, 1)\n",
        "plt.plot(acc)\n",
        "plt.plot(val_acc)\n",
        "plt.title('Training and Validation Accuracy')\n",
        "plt.xlabel('Epochs')\n",
        "plt.ylabel('Accuracy')\n",
        "plt.legend(['Accuracy', 'Validation Accuracy'])\n",
        "\n",
        "plt.subplot(1, 2, 2)\n",
        "plt.plot(loss)\n",
        "plt.plot(val_loss)\n",
        "plt.title('Training and Validation Loss')\n",
        "plt.xlabel('Epochs')\n",
        "plt.ylabel('Loss')\n",
        "plt.legend(['Loss', 'Validation Loss'])\n",
        "\n",
        "plt.show()"
      ],
      "metadata": {
        "colab": {
          "base_uri": "https://localhost:8080/",
          "height": 472
        },
        "id": "6-ENe5uBNOxg",
        "outputId": "cf9581c1-29e3-4bb7-ae2b-36a70602160d"
      },
      "execution_count": 76,
      "outputs": [
        {
          "output_type": "display_data",
          "data": {
            "text/plain": [
              "<Figure size 640x480 with 2 Axes>"
            ],
            "image/png": "[encoded data removed]"
          },
          "metadata": {}
        }
      ]
    },
    {
      "cell_type": "code",
      "source": [
        "# Đánh giá mô hình RNN\n",
        "rnn_score = model_rnn.evaluate(X_test, y_test, batch_size=64)\n",
        "print(f'RNN Test loss: {rnn_score[0]}')\n",
        "print(f'RNN Test accuracy: {rnn_score[1]}')"
      ],
      "metadata": {
        "colab": {
          "base_uri": "https://localhost:8080/"
        },
        "id": "wJXSopiSxhv6",
        "outputId": "416b0880-2b67-4c90-acfb-03cc2c6f8e03"
      },
      "execution_count": 77,
      "outputs": [
        {
          "output_type": "stream",
          "name": "stdout",
          "text": [
            "62/62 [==============================] - 4s 60ms/step - loss: 0.0939 - accuracy: 0.2393\n",
            "RNN Test loss: 0.0938759446144104\n",
            "RNN Test accuracy: 0.2392575591802597\n"
          ]
        }
      ]
    },
    {
      "cell_type": "code",
      "source": [
        "# Dự đoán với mô hình RNN\n",
        "rnn_predictions = model_rnn.predict(X_test)\n",
        "# Chuyển đổi dự đoán thành nhãn\n",
        "rnn_pred_labels = mlb.inverse_transform((rnn_predictions > 0.5).astype(int))"
      ],
      "metadata": {
        "colab": {
          "base_uri": "https://localhost:8080/"
        },
        "id": "ARFTak6Izwmk",
        "outputId": "b2b84440-1cb2-410b-f939-7609fa448aa9"
      },
      "execution_count": 78,
      "outputs": [
        {
          "output_type": "stream",
          "name": "stdout",
          "text": [
            "123/123 [==============================] - 8s 59ms/step\n"
          ]
        }
      ]
    },
    {
      "cell_type": "code",
      "source": [
        "# In ra một vài kết quả dự đoán\n",
        "for i in range(5):\n",
        "    print(f'Text: {X_test[i]}')\n",
        "    print(f'Actual labels: {mlb.inverse_transform(np.expand_dims(y_test[i], axis=0))}')\n",
        "    print(f'FFNN Predicted labels: {ffnn_pred_labels[i]}')\n",
        "    print(f'RNN Predicted labels: {rnn_pred_labels[i]}')\n",
        "    print('-----------------------------')"
      ],
      "metadata": {
        "colab": {
          "base_uri": "https://localhost:8080/"
        },
        "id": "sULcCHmZz9Ic",
        "outputId": "ffab80c9-cc94-4381-a488-83c7dc7bc15c"
      },
      "execution_count": 79,
      "outputs": [
        {
          "output_type": "stream",
          "name": "stdout",
          "text": [
            "Text: [   0    0    0    0    0    0    0    0    0    0    0    0    0    0\n",
            "    0    0    0    0    0    0    0    0    0    0    0    0    0    0\n",
            "    0    0 2731 1392  435  897  263 1207 3196    1  531  387    6    7\n",
            "  112  346 6492 7551 5087  428  736 6894 4991 6445  114 6723 2218   16\n",
            " 5327 1174  252 3157  111 5079   24  371 2080  244 2218   16  203 2162\n",
            "   94  775 3975 2047 3605 6890  456  302 3533  901 2163   25   59  244\n",
            " 2110   64  753 1868 5054 6139 5937 2412   64 6143 3978 2157  775 5491\n",
            " 6846 7599]\n",
            "Actual labels: [('Dệt may / Da giày / Thời trang', 'Quản lý chất lượng (QA/QC)', 'Tài chính / Đầu tư', 'Vận chuyển / Giao nhận / Kho vận', 'Điện / Điện tử / Điện lạnh')]\n",
            "FFNN Predicted labels: ()\n",
            "RNN Predicted labels: ()\n",
            "-----------------------------\n",
            "Text: [  366     7    49   139     7   889  3545   188  1247    49     0   668\n",
            "   521  2071   276  3524  4213  3128  3342    34  4542  4545  1979    23\n",
            "    27   668    26   708    68   180    33   584    23   371    69   364\n",
            "  1164    68    68   264   180    33    49   955    24   164    17     1\n",
            "   134   377    53     5   100   289    68   180    33   584    23  1002\n",
            "    68   180    33   246    21   190    10     0    45    14    29   385\n",
            "    33     2    40   606   106    11    33     2     0   668    59    96\n",
            "    47     5    69     5     6   668   913   512  2840  2051 10369 12776\n",
            " 12742 15589 15587     8]\n",
            "Actual labels: [('Bán lẻ / Bán sỉ', 'Tài chính / Đầu tư', 'Tư vấn')]\n",
            "FFNN Predicted labels: ('Tài chính / Đầu tư', 'Tư vấn')\n",
            "RNN Predicted labels: ('Dịch vụ khách hàng', 'Tư vấn')\n",
            "-----------------------------\n",
            "Text: [ 893  810  208  872  225  355  176  965  792  946  418  940  967  850\n",
            " 1352 1331  930  388   34  644  139    7  753   10  111  540    1  243\n",
            " 1238   59   11  213  331 1129  206    7   25   20  130  477   14  261\n",
            "   96    1  139    7   22   17  187  137    1   48 1187  245   72    1\n",
            "  139    7 1213  214  442  150  748   19    1  143  127   33    4   16\n",
            "    2   31  105 1397 1206 1323 1244 1114 1014 3319 3374 3315 1324 3372\n",
            " 1273 3181 1079  808 1243 1080 1462  610 1019  507  681 1398  692   52\n",
            " 1296  610]\n",
            "Actual labels: [('Bán hàng / Kinh doanh', 'Bán lẻ / Bán sỉ', 'Tư vấn')]\n",
            "FFNN Predicted labels: ('Dịch vụ khách hàng', 'Tư vấn')\n",
            "RNN Predicted labels: ('Dịch vụ khách hàng', 'Tư vấn')\n",
            "-----------------------------\n",
            "Text: [    0     0     0     0     0     0     0     0     0     0     0     0\n",
            "     0     0     0     0     0     0     0     0     0     0     0     0\n",
            "     0     0     0     0     0     0     0     0     0     0     0     0\n",
            "     0     0     0     0     0     0     0     0     0     0     0     0\n",
            "  2933    70     1    31   156   205   557     1  1082     0   549  1070\n",
            "   606   156     1    42    34   321 10999     1 10132    10   549  1070\n",
            "    22   374   205   325     6    50    18  2913     1   302  2913   320\n",
            "    11    28   219    23   703   526   783   291    59   549  1070  4043\n",
            "  2928   628    36   126]\n",
            "Actual labels: [('Kiến trúc', 'Xây dựng', 'Điện / Điện tử / Điện lạnh')]\n",
            "FFNN Predicted labels: ('Tư vấn',)\n",
            "RNN Predicted labels: ()\n",
            "-----------------------------\n",
            "Text: [   0    0    0    0    0    0    0    0    0    0    0    0    0    0\n",
            "    0    0    0    0    0    0    0    0    0    0    0    0    0    0\n",
            "    0    0    0    0    0    0    0    0   57   32 2344    1   91    2\n",
            " 1081 3861 2657    0 1081   14   23 2828    1  657  451   73  527 1203\n",
            "    1   37    0 1067   49   14  140  122  424  199  629  527  851    0\n",
            "  297   49    1  711   10    0  631   21 3859    6   68 1067  440  715\n",
            "  512  166   10    0  631   21    0   78   21   14  349   15   23   42\n",
            "  213    8]\n",
            "Actual labels: [('Bán lẻ / Bán sỉ', 'CNTT - Phần cứng / Mạng', 'CNTT - Phần mềm')]\n",
            "FFNN Predicted labels: ('CNTT - Phần mềm',)\n",
            "RNN Predicted labels: ('CNTT - Phần mềm',)\n",
            "-----------------------------\n"
          ]
        }
      ]
    }
  ]
}