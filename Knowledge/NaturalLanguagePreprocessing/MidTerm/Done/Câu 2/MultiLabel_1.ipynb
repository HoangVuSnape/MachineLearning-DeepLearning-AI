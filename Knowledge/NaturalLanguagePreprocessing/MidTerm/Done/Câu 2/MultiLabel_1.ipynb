{
  "cells": [
    {
      "cell_type": "code",
      "execution_count": 1,
      "metadata": {
        "colab": {
          "base_uri": "https://localhost:8080/"
        },
        "id": "o4nGqsSMbu-d",
        "outputId": "95e78792-ab43-481a-897e-a312d3911dd4"
      },
      "outputs": [
        {
          "name": "stdout",
          "output_type": "stream",
          "text": [
            "Collecting vncorenlp\n",
            "  Downloading vncorenlp-1.0.3.tar.gz (2.6 MB)\n",
            "\u001b[2K     \u001b[90m━━━━━━━━━━━━━━━━━━━━━━━━━━━━━━━━━━━━━━━━\u001b[0m \u001b[32m2.6/2.6 MB\u001b[0m \u001b[31m9.6 MB/s\u001b[0m eta \u001b[36m0:00:00\u001b[0m\n",
            "\u001b[?25h  Preparing metadata (setup.py) ... \u001b[?25l\u001b[?25hdone\n",
            "Requirement already satisfied: requests in /usr/local/lib/python3.10/dist-packages (from vncorenlp) (2.31.0)\n",
            "Requirement already satisfied: charset-normalizer<4,>=2 in /usr/local/lib/python3.10/dist-packages (from requests->vncorenlp) (3.3.2)\n",
            "Requirement already satisfied: idna<4,>=2.5 in /usr/local/lib/python3.10/dist-packages (from requests->vncorenlp) (3.7)\n",
            "Requirement already satisfied: urllib3<3,>=1.21.1 in /usr/local/lib/python3.10/dist-packages (from requests->vncorenlp) (2.0.7)\n",
            "Requirement already satisfied: certifi>=2017.4.17 in /usr/local/lib/python3.10/dist-packages (from requests->vncorenlp) (2024.6.2)\n",
            "Building wheels for collected packages: vncorenlp\n",
            "  Building wheel for vncorenlp (setup.py) ... \u001b[?25l\u001b[?25hdone\n",
            "  Created wheel for vncorenlp: filename=vncorenlp-1.0.3-py3-none-any.whl size=2645932 sha256=727439892c112c1f961c9e2254179491c1d6e9c9af898fb755fbe214f38f3234\n",
            "  Stored in directory: /root/.cache/pip/wheels/5d/d9/b3/41f6c6b1ab758561fd4aab55dc0480b9d7a131c6aaa573a3fa\n",
            "Successfully built vncorenlp\n",
            "Installing collected packages: vncorenlp\n",
            "Successfully installed vncorenlp-1.0.3\n"
          ]
        }
      ],
      "source": [
        "pip install vncorenlp\n"
      ]
    },
    {
      "cell_type": "code",
      "execution_count": 2,
      "metadata": {
        "colab": {
          "base_uri": "https://localhost:8080/"
        },
        "id": "lKeY90MplWhp",
        "outputId": "2d666667-8998-4f2b-f4ff-ba1cae8df6fb"
      },
      "outputs": [
        {
          "name": "stdout",
          "output_type": "stream",
          "text": [
            "--2024-06-08 03:18:07--  https://raw.githubusercontent.com/vncorenlp/VnCoreNLP/master/VnCoreNLP-1.1.1.jar\n",
            "Resolving raw.githubusercontent.com (raw.githubusercontent.com)... 185.199.109.133, 185.199.110.133, 185.199.111.133, ...\n",
            "Connecting to raw.githubusercontent.com (raw.githubusercontent.com)|185.199.109.133|:443... connected.\n",
            "HTTP request sent, awaiting response... 200 OK\n",
            "Length: 27412575 (26M) [application/octet-stream]\n",
            "Saving to: ‘VnCoreNLP-1.1.1.jar’\n",
            "\n",
            "VnCoreNLP-1.1.1.jar 100%[===================>]  26.14M   148MB/s    in 0.2s    \n",
            "\n",
            "2024-06-08 03:18:07 (148 MB/s) - ‘VnCoreNLP-1.1.1.jar’ saved [27412575/27412575]\n",
            "\n",
            "--2024-06-08 03:18:08--  https://raw.githubusercontent.com/vncorenlp/VnCoreNLP/master/models/wordsegmenter/vi-vocab\n",
            "Resolving raw.githubusercontent.com (raw.githubusercontent.com)... 185.199.110.133, 185.199.109.133, 185.199.111.133, ...\n",
            "Connecting to raw.githubusercontent.com (raw.githubusercontent.com)|185.199.110.133|:443... connected.\n",
            "HTTP request sent, awaiting response... 200 OK\n",
            "Length: 526544 (514K) [application/octet-stream]\n",
            "Saving to: ‘vi-vocab’\n",
            "\n",
            "vi-vocab            100%[===================>] 514.20K  --.-KB/s    in 0.05s   \n",
            "\n",
            "2024-06-08 03:18:08 (11.0 MB/s) - ‘vi-vocab’ saved [526544/526544]\n",
            "\n",
            "--2024-06-08 03:18:08--  https://raw.githubusercontent.com/vncorenlp/VnCoreNLP/master/models/wordsegmenter/wordsegmenter.rdr\n",
            "Resolving raw.githubusercontent.com (raw.githubusercontent.com)... 185.199.110.133, 185.199.109.133, 185.199.111.133, ...\n",
            "Connecting to raw.githubusercontent.com (raw.githubusercontent.com)|185.199.110.133|:443... connected.\n",
            "HTTP request sent, awaiting response... 200 OK\n",
            "Length: 128508 (125K) [text/plain]\n",
            "Saving to: ‘wordsegmenter.rdr’\n",
            "\n",
            "wordsegmenter.rdr   100%[===================>] 125.50K  --.-KB/s    in 0.02s   \n",
            "\n",
            "2024-06-08 03:18:08 (5.05 MB/s) - ‘wordsegmenter.rdr’ saved [128508/128508]\n",
            "\n"
          ]
        }
      ],
      "source": [
        "!mkdir -p vncorenlp/models/wordsegmenter\n",
        "!wget https://raw.githubusercontent.com/vncorenlp/VnCoreNLP/master/VnCoreNLP-1.1.1.jar\n",
        "!wget https://raw.githubusercontent.com/vncorenlp/VnCoreNLP/master/models/wordsegmenter/vi-vocab\n",
        "!wget https://raw.githubusercontent.com/vncorenlp/VnCoreNLP/master/models/wordsegmenter/wordsegmenter.rdr\n",
        "!mv VnCoreNLP-1.1.1.jar vncorenlp/\n",
        "!mv vi-vocab vncorenlp/models/wordsegmenter/\n",
        "!mv wordsegmenter.rdr vncorenlp/models/wordsegmenter/"
      ]
    },
    {
      "cell_type": "code",
      "execution_count": 3,
      "metadata": {
        "colab": {
          "base_uri": "https://localhost:8080/"
        },
        "id": "CuULRYERHAoa",
        "outputId": "2594d14a-1483-4e10-cb21-4fdda9dfa5c6"
      },
      "outputs": [
        {
          "name": "stdout",
          "output_type": "stream",
          "text": [
            "Collecting pyvi\n",
            "  Downloading pyvi-0.1.1-py2.py3-none-any.whl (8.5 MB)\n",
            "\u001b[2K     \u001b[90m━━━━━━━━━━━━━━━━━━━━━━━━━━━━━━━━━━━━━━━━\u001b[0m \u001b[32m8.5/8.5 MB\u001b[0m \u001b[31m21.9 MB/s\u001b[0m eta \u001b[36m0:00:00\u001b[0m\n",
            "\u001b[?25hRequirement already satisfied: scikit-learn in /usr/local/lib/python3.10/dist-packages (from pyvi) (1.2.2)\n",
            "Collecting sklearn-crfsuite (from pyvi)\n",
            "  Downloading sklearn_crfsuite-0.3.6-py2.py3-none-any.whl (12 kB)\n",
            "Requirement already satisfied: numpy>=1.17.3 in /usr/local/lib/python3.10/dist-packages (from scikit-learn->pyvi) (1.25.2)\n",
            "Requirement already satisfied: scipy>=1.3.2 in /usr/local/lib/python3.10/dist-packages (from scikit-learn->pyvi) (1.11.4)\n",
            "Requirement already satisfied: joblib>=1.1.1 in /usr/local/lib/python3.10/dist-packages (from scikit-learn->pyvi) (1.4.2)\n",
            "Requirement already satisfied: threadpoolctl>=2.0.0 in /usr/local/lib/python3.10/dist-packages (from scikit-learn->pyvi) (3.5.0)\n",
            "Collecting python-crfsuite>=0.8.3 (from sklearn-crfsuite->pyvi)\n",
            "  Downloading python_crfsuite-0.9.10-cp310-cp310-manylinux_2_17_x86_64.manylinux2014_x86_64.whl (1.1 MB)\n",
            "\u001b[2K     \u001b[90m━━━━━━━━━━━━━━━━━━━━━━━━━━━━━━━━━━━━━━━━\u001b[0m \u001b[32m1.1/1.1 MB\u001b[0m \u001b[31m34.8 MB/s\u001b[0m eta \u001b[36m0:00:00\u001b[0m\n",
            "\u001b[?25hRequirement already satisfied: six in /usr/local/lib/python3.10/dist-packages (from sklearn-crfsuite->pyvi) (1.16.0)\n",
            "Requirement already satisfied: tabulate in /usr/local/lib/python3.10/dist-packages (from sklearn-crfsuite->pyvi) (0.9.0)\n",
            "Requirement already satisfied: tqdm>=2.0 in /usr/local/lib/python3.10/dist-packages (from sklearn-crfsuite->pyvi) (4.66.4)\n",
            "Installing collected packages: python-crfsuite, sklearn-crfsuite, pyvi\n",
            "Successfully installed python-crfsuite-0.9.10 pyvi-0.1.1 sklearn-crfsuite-0.3.6\n"
          ]
        }
      ],
      "source": [
        "pip install pyvi"
      ]
    },
    {
      "cell_type": "code",
      "execution_count": 4,
      "metadata": {
        "colab": {
          "base_uri": "https://localhost:8080/"
        },
        "id": "ApQh-EbFShuJ",
        "outputId": "ac9770cb-62e6-43a6-ef2d-4115969cb350"
      },
      "outputs": [
        {
          "name": "stdout",
          "output_type": "stream",
          "text": [
            "Requirement already satisfied: tensorflow in /usr/local/lib/python3.10/dist-packages (2.15.0)\n",
            "Requirement already satisfied: absl-py>=1.0.0 in /usr/local/lib/python3.10/dist-packages (from tensorflow) (1.4.0)\n",
            "Requirement already satisfied: astunparse>=1.6.0 in /usr/local/lib/python3.10/dist-packages (from tensorflow) (1.6.3)\n",
            "Requirement already satisfied: flatbuffers>=23.5.26 in /usr/local/lib/python3.10/dist-packages (from tensorflow) (24.3.25)\n",
            "Requirement already satisfied: gast!=0.5.0,!=0.5.1,!=0.5.2,>=0.2.1 in /usr/local/lib/python3.10/dist-packages (from tensorflow) (0.5.4)\n",
            "Requirement already satisfied: google-pasta>=0.1.1 in /usr/local/lib/python3.10/dist-packages (from tensorflow) (0.2.0)\n",
            "Requirement already satisfied: h5py>=2.9.0 in /usr/local/lib/python3.10/dist-packages (from tensorflow) (3.9.0)\n",
            "Requirement already satisfied: libclang>=13.0.0 in /usr/local/lib/python3.10/dist-packages (from tensorflow) (18.1.1)\n",
            "Requirement already satisfied: ml-dtypes~=0.2.0 in /usr/local/lib/python3.10/dist-packages (from tensorflow) (0.2.0)\n",
            "Requirement already satisfied: numpy<2.0.0,>=1.23.5 in /usr/local/lib/python3.10/dist-packages (from tensorflow) (1.25.2)\n",
            "Requirement already satisfied: opt-einsum>=2.3.2 in /usr/local/lib/python3.10/dist-packages (from tensorflow) (3.3.0)\n",
            "Requirement already satisfied: packaging in /usr/local/lib/python3.10/dist-packages (from tensorflow) (24.0)\n",
            "Requirement already satisfied: protobuf!=4.21.0,!=4.21.1,!=4.21.2,!=4.21.3,!=4.21.4,!=4.21.5,<5.0.0dev,>=3.20.3 in /usr/local/lib/python3.10/dist-packages (from tensorflow) (3.20.3)\n",
            "Requirement already satisfied: setuptools in /usr/local/lib/python3.10/dist-packages (from tensorflow) (67.7.2)\n",
            "Requirement already satisfied: six>=1.12.0 in /usr/local/lib/python3.10/dist-packages (from tensorflow) (1.16.0)\n",
            "Requirement already satisfied: termcolor>=1.1.0 in /usr/local/lib/python3.10/dist-packages (from tensorflow) (2.4.0)\n",
            "Requirement already satisfied: typing-extensions>=3.6.6 in /usr/local/lib/python3.10/dist-packages (from tensorflow) (4.12.1)\n",
            "Requirement already satisfied: wrapt<1.15,>=1.11.0 in /usr/local/lib/python3.10/dist-packages (from tensorflow) (1.14.1)\n",
            "Requirement already satisfied: tensorflow-io-gcs-filesystem>=0.23.1 in /usr/local/lib/python3.10/dist-packages (from tensorflow) (0.37.0)\n",
            "Requirement already satisfied: grpcio<2.0,>=1.24.3 in /usr/local/lib/python3.10/dist-packages (from tensorflow) (1.64.1)\n",
            "Requirement already satisfied: tensorboard<2.16,>=2.15 in /usr/local/lib/python3.10/dist-packages (from tensorflow) (2.15.2)\n",
            "Requirement already satisfied: tensorflow-estimator<2.16,>=2.15.0 in /usr/local/lib/python3.10/dist-packages (from tensorflow) (2.15.0)\n",
            "Requirement already satisfied: keras<2.16,>=2.15.0 in /usr/local/lib/python3.10/dist-packages (from tensorflow) (2.15.0)\n",
            "Requirement already satisfied: wheel<1.0,>=0.23.0 in /usr/local/lib/python3.10/dist-packages (from astunparse>=1.6.0->tensorflow) (0.43.0)\n",
            "Requirement already satisfied: google-auth<3,>=1.6.3 in /usr/local/lib/python3.10/dist-packages (from tensorboard<2.16,>=2.15->tensorflow) (2.27.0)\n",
            "Requirement already satisfied: google-auth-oauthlib<2,>=0.5 in /usr/local/lib/python3.10/dist-packages (from tensorboard<2.16,>=2.15->tensorflow) (1.2.0)\n",
            "Requirement already satisfied: markdown>=2.6.8 in /usr/local/lib/python3.10/dist-packages (from tensorboard<2.16,>=2.15->tensorflow) (3.6)\n",
            "Requirement already satisfied: requests<3,>=2.21.0 in /usr/local/lib/python3.10/dist-packages (from tensorboard<2.16,>=2.15->tensorflow) (2.31.0)\n",
            "Requirement already satisfied: tensorboard-data-server<0.8.0,>=0.7.0 in /usr/local/lib/python3.10/dist-packages (from tensorboard<2.16,>=2.15->tensorflow) (0.7.2)\n",
            "Requirement already satisfied: werkzeug>=1.0.1 in /usr/local/lib/python3.10/dist-packages (from tensorboard<2.16,>=2.15->tensorflow) (3.0.3)\n",
            "Requirement already satisfied: cachetools<6.0,>=2.0.0 in /usr/local/lib/python3.10/dist-packages (from google-auth<3,>=1.6.3->tensorboard<2.16,>=2.15->tensorflow) (5.3.3)\n",
            "Requirement already satisfied: pyasn1-modules>=0.2.1 in /usr/local/lib/python3.10/dist-packages (from google-auth<3,>=1.6.3->tensorboard<2.16,>=2.15->tensorflow) (0.4.0)\n",
            "Requirement already satisfied: rsa<5,>=3.1.4 in /usr/local/lib/python3.10/dist-packages (from google-auth<3,>=1.6.3->tensorboard<2.16,>=2.15->tensorflow) (4.9)\n",
            "Requirement already satisfied: requests-oauthlib>=0.7.0 in /usr/local/lib/python3.10/dist-packages (from google-auth-oauthlib<2,>=0.5->tensorboard<2.16,>=2.15->tensorflow) (1.3.1)\n",
            "Requirement already satisfied: charset-normalizer<4,>=2 in /usr/local/lib/python3.10/dist-packages (from requests<3,>=2.21.0->tensorboard<2.16,>=2.15->tensorflow) (3.3.2)\n",
            "Requirement already satisfied: idna<4,>=2.5 in /usr/local/lib/python3.10/dist-packages (from requests<3,>=2.21.0->tensorboard<2.16,>=2.15->tensorflow) (3.7)\n",
            "Requirement already satisfied: urllib3<3,>=1.21.1 in /usr/local/lib/python3.10/dist-packages (from requests<3,>=2.21.0->tensorboard<2.16,>=2.15->tensorflow) (2.0.7)\n",
            "Requirement already satisfied: certifi>=2017.4.17 in /usr/local/lib/python3.10/dist-packages (from requests<3,>=2.21.0->tensorboard<2.16,>=2.15->tensorflow) (2024.6.2)\n",
            "Requirement already satisfied: MarkupSafe>=2.1.1 in /usr/local/lib/python3.10/dist-packages (from werkzeug>=1.0.1->tensorboard<2.16,>=2.15->tensorflow) (2.1.5)\n",
            "Requirement already satisfied: pyasn1<0.7.0,>=0.4.6 in /usr/local/lib/python3.10/dist-packages (from pyasn1-modules>=0.2.1->google-auth<3,>=1.6.3->tensorboard<2.16,>=2.15->tensorflow) (0.6.0)\n",
            "Requirement already satisfied: oauthlib>=3.0.0 in /usr/local/lib/python3.10/dist-packages (from requests-oauthlib>=0.7.0->google-auth-oauthlib<2,>=0.5->tensorboard<2.16,>=2.15->tensorflow) (3.2.2)\n"
          ]
        }
      ],
      "source": [
        "pip install tensorflow"
      ]
    },
    {
      "cell_type": "code",
      "execution_count": 5,
      "metadata": {
        "colab": {
          "base_uri": "https://localhost:8080/"
        },
        "id": "Vdy9H_fF_G1X",
        "outputId": "ba9ff985-d544-4112-b0bc-3254e725b3d9"
      },
      "outputs": [
        {
          "name": "stdout",
          "output_type": "stream",
          "text": [
            "Requirement already satisfied: keras in /usr/local/lib/python3.10/dist-packages (2.15.0)\n"
          ]
        }
      ],
      "source": [
        "pip install keras\n"
      ]
    },
    {
      "cell_type": "code",
      "execution_count": 11,
      "metadata": {
        "id": "nHkZnKmQ3VeV"
      },
      "outputs": [],
      "source": [
        "import matplotlib.pyplot as plt"
      ]
    },
    {
      "cell_type": "markdown",
      "metadata": {
        "id": "lm2fsex8m8Oa"
      },
      "source": [
        "**Data Loader**"
      ]
    },
    {
      "cell_type": "code",
      "execution_count": 6,
      "metadata": {
        "id": "0kJF_5yWnAV1"
      },
      "outputs": [],
      "source": [
        "TRAIN = '/content/drive/MyDrive/mid_NLP/train.csv'\n",
        "DEV = '/content/drive/MyDrive/mid_NLP/dev.csv'\n",
        "TEST = '/content/drive/MyDrive/mid_NLP/test.csv'\n",
        "\n",
        "LABEL = '/content/drive/MyDrive/mid_NLP/labels.csv'\n",
        "\n",
        "import pandas as pd\n",
        "\n",
        "train = pd.read_csv(TRAIN)\n",
        "dev = pd.read_csv(DEV)\n",
        "test = pd.read_csv(TEST)\n",
        "\n",
        "label = pd.read_csv(LABEL)\n",
        "job_types = label['job_type'].values"
      ]
    },
    {
      "cell_type": "code",
      "execution_count": 7,
      "metadata": {
        "colab": {
          "base_uri": "https://localhost:8080/"
        },
        "id": "dRWwVeG72y5h",
        "outputId": "63016b2b-5323-4324-edd8-249f622232ba"
      },
      "outputs": [
        {
          "data": {
            "text/plain": [
              "array(['An Ninh / Bảo Vệ', 'An toàn lao động', 'Biên phiên dịch',\n",
              "       'Bán hàng / Kinh doanh', 'Bán lẻ / Bán sỉ', 'Bưu chính viễn thông',\n",
              "       'Bảo hiểm', 'Bảo trì / Sửa chữa', 'Bất động sản',\n",
              "       'CNTT - Phần cứng / Mạng', 'CNTT - Phần mềm', 'Chăn nuôi / Thú y',\n",
              "       'Chứng khoán', 'Công nghệ sinh học',\n",
              "       'Công nghệ thực phẩm / Dinh dưỡng', 'Cơ khí / Ô tô / Tự động hóa',\n",
              "       'Du lịch', 'Dược phẩm', 'Dầu khí',\n",
              "       'Dệt may / Da giày / Thời trang', 'Dịch vụ khách hàng',\n",
              "       'Giáo dục / Đào tạo', 'Giải trí',\n",
              "       'Hàng gia dụng / Chăm sóc cá nhân', 'Hàng hải', 'Hàng không',\n",
              "       'Hành chính / Thư ký', 'Hóa học', 'In ấn / Xuất bản', 'Khoáng sản',\n",
              "       'Kiến trúc', 'Kế toán / Kiểm toán', 'Lao động phổ thông',\n",
              "       'Luật / Pháp lý', 'Lâm Nghiệp', 'Môi trường',\n",
              "       'Mới tốt nghiệp / Thực tập', 'Mỹ thuật / Nghệ thuật / Thiết kế',\n",
              "       'Ngành khác', 'Ngân hàng', 'Nhà hàng / Khách sạn', 'Nhân sự',\n",
              "       'Nông nghiệp', 'Nội ngoại thất', 'Phi chính phủ / Phi lợi nhuận',\n",
              "       'Quản lý chất lượng (QA/QC)', 'Quản lý điều hành',\n",
              "       'Quảng cáo / Đối ngoại / Truyền Thông',\n",
              "       'Sản xuất / Vận hành sản xuất', 'Thu mua / Vật tư', 'Thư viện',\n",
              "       'Thống kê', 'Thủy lợi', 'Thủy sản / Hải sản',\n",
              "       'Thực phẩm & Đồ uống', 'Tiếp thị / Marketing',\n",
              "       'Tiếp thị trực tuyến', 'Truyền hình / Báo chí / Biên tập',\n",
              "       'Trắc địa / Địa Chất', 'Tài chính / Đầu tư', 'Tư vấn',\n",
              "       'Tổ chức sự kiện', 'Vận chuyển / Giao nhận / Kho vận',\n",
              "       'Xuất nhập khẩu', 'Xây dựng', 'Y tế / Chăm sóc sức khỏe',\n",
              "       'Điện / Điện tử / Điện lạnh', 'Đồ gỗ'], dtype=object)"
            ]
          },
          "execution_count": 7,
          "metadata": {},
          "output_type": "execute_result"
        }
      ],
      "source": [
        "job_types"
      ]
    },
    {
      "cell_type": "code",
      "execution_count": 8,
      "metadata": {
        "colab": {
          "base_uri": "https://localhost:8080/"
        },
        "id": "GrjR3qmF2-RS",
        "outputId": "fcf76d8d-a6e5-460c-9e07-0b47e94c0daf"
      },
      "outputs": [
        {
          "data": {
            "text/plain": [
              "68"
            ]
          },
          "execution_count": 8,
          "metadata": {},
          "output_type": "execute_result"
        }
      ],
      "source": [
        "len(job_types)"
      ]
    },
    {
      "cell_type": "code",
      "execution_count": 9,
      "metadata": {
        "colab": {
          "base_uri": "https://localhost:8080/"
        },
        "id": "C79j96pW2_lt",
        "outputId": "63c66f41-638b-43c5-98b4-bc6a47b1e001"
      },
      "outputs": [
        {
          "name": "stdout",
          "output_type": "stream",
          "text": [
            "job_list_length\n",
            "1    10380\n",
            "3     5248\n",
            "2     4364\n",
            "4      176\n",
            "5       64\n",
            "7        1\n",
            "6        1\n",
            "Name: count, dtype: int64\n"
          ]
        }
      ],
      "source": [
        "train['job_list'] = train['job'].str.strip(\"[]\").str.replace(\"'\", \"\").str.split(',')\n",
        "\n",
        "train['job_list_length'] = train['job_list'].apply(len)\n",
        "\n",
        "value_counts = train['job_list_length'].value_counts()\n",
        "print(value_counts)"
      ]
    },
    {
      "cell_type": "code",
      "execution_count": 12,
      "metadata": {
        "colab": {
          "base_uri": "https://localhost:8080/",
          "height": 583
        },
        "id": "wZYxM7bU3Xxt",
        "outputId": "8ac79b24-bb6d-4ddf-adf7-6657e84ce15e"
      },
      "outputs": [
        {
          "data": {
            "image/png": "[encoded data removed]",
            "text/plain": [
              "<Figure size 1000x600 with 1 Axes>"
            ]
          },
          "metadata": {},
          "output_type": "display_data"
        }
      ],
      "source": [
        "plt.figure(figsize=(10, 6))\n",
        "value_counts.plot(kind='bar', color='skyblue')\n",
        "plt.xlabel('Độ dài danh sách công việc')\n",
        "plt.ylabel('Số lượng')\n",
        "plt.title('Số lượng các giá trị unique trong cột \"job_list_length\"')\n",
        "plt.xticks(rotation=0)\n",
        "plt.tight_layout()\n",
        "plt.show()"
      ]
    },
    {
      "cell_type": "code",
      "execution_count": 13,
      "metadata": {
        "colab": {
          "base_uri": "https://localhost:8080/"
        },
        "id": "sEegFvuT3iva",
        "outputId": "7e8b969b-10a8-4bf4-e618-4d71489e75a2"
      },
      "outputs": [
        {
          "name": "stdout",
          "output_type": "stream",
          "text": [
            "CNTT - Phần mềm: 2611\n",
            " Bán hàng / Kinh doanh: 1715\n",
            "Tư vấn: 1647\n",
            " Dịch vụ khách hàng: 1353\n",
            " Tiếp thị / Marketing: 1348\n",
            "Giáo dục / Đào tạo: 1342\n",
            "Kế toán / Kiểm toán: 1236\n",
            "Nhân sự: 1080\n",
            "Vận chuyển / Giao nhận / Kho vận: 1041\n",
            " Tài chính / Đầu tư: 968\n",
            " Sản xuất / Vận hành sản xuất: 942\n",
            " Kế toán / Kiểm toán: 903\n",
            " Tư vấn: 778\n",
            "Mỹ thuật / Nghệ thuật / Thiết kế: 725\n",
            "Xây dựng: 661\n",
            "Quản lý điều hành: 631\n",
            " Điện / Điện tử / Điện lạnh: 625\n",
            " Quản lý chất lượng (QA/QC): 624\n",
            "Bảo hiểm: 619\n",
            "Hành chính / Thư ký: 607\n",
            " Thực phẩm & Đồ uống: 563\n",
            "Quản lý chất lượng (QA/QC): 522\n",
            "Bán lẻ / Bán sỉ: 522\n",
            "Tiếp thị / Marketing: 503\n",
            "Dịch vụ khách hàng: 477\n",
            " Dệt may / Da giày / Thời trang: 444\n",
            " CNTT - Phần cứng / Mạng: 441\n",
            " Nhà hàng / Khách sạn: 416\n",
            "Cơ khí / Ô tô / Tự động hóa: 413\n",
            "Bảo trì / Sửa chữa: 410\n",
            " Ngân hàng: 401\n",
            "Bất động sản: 369\n",
            "Xuất nhập khẩu: 346\n",
            "Tài chính / Đầu tư: 344\n",
            "Thu mua / Vật tư: 327\n",
            " Mỹ thuật / Nghệ thuật / Thiết kế: 318\n",
            "Tiếp thị trực tuyến: 314\n",
            " Quảng cáo / Đối ngoại / Truyền Thông: 308\n",
            "Bán hàng / Kinh doanh: 291\n",
            " Thu mua / Vật tư: 273\n",
            "Hóa học: 271\n",
            "Ngân hàng: 262\n",
            " Hành chính / Thư ký: 261\n",
            " Bất động sản: 259\n",
            "Công nghệ thực phẩm / Dinh dưỡng: 251\n",
            " Luật / Pháp lý: 249\n",
            "Điện / Điện tử / Điện lạnh: 246\n",
            " Xuất nhập khẩu: 226\n",
            " Tiếp thị trực tuyến: 216\n",
            "Thống kê: 212\n",
            "Lao động phổ thông: 198\n",
            "Giải trí: 195\n",
            "Truyền hình / Báo chí / Biên tập: 192\n",
            " Đồ gỗ: 191\n",
            " Lâm Nghiệp: 188\n",
            " Ngành khác: 186\n",
            "Nội ngoại thất: 185\n",
            " Giáo dục / Đào tạo: 169\n",
            " Chứng khoán: 165\n",
            "Kiến trúc: 157\n",
            "Sản xuất / Vận hành sản xuất: 149\n",
            " Quản lý điều hành: 119\n",
            " Vận chuyển / Giao nhận / Kho vận: 119\n",
            " Cơ khí / Ô tô / Tự động hóa: 112\n",
            " Kiến trúc: 109\n",
            "Ngành khác: 107\n",
            "Luật / Pháp lý: 103\n",
            " Trắc địa / Địa Chất: 90\n",
            " Truyền hình / Báo chí / Biên tập: 85\n",
            "Nhà hàng / Khách sạn: 77\n",
            "Quảng cáo / Đối ngoại / Truyền Thông: 73\n",
            " Du lịch: 73\n",
            " Bán lẻ / Bán sỉ: 69\n",
            "CNTT - Phần cứng / Mạng: 65\n",
            "Y tế / Chăm sóc sức khỏe: 59\n",
            " Dược phẩm: 54\n",
            "Biên phiên dịch: 53\n",
            " Nội ngoại thất: 50\n",
            "Dệt may / Da giày / Thời trang: 38\n",
            " Lao động phổ thông: 38\n",
            "An Ninh / Bảo Vệ: 38\n",
            "An toàn lao động: 34\n",
            " Biên phiên dịch: 33\n",
            " Y tế / Chăm sóc sức khỏe: 31\n",
            "Môi trường: 30\n",
            "Mới tốt nghiệp / Thực tập: 30\n",
            "Tổ chức sự kiện: 30\n",
            "Chứng khoán: 22\n",
            "Thực phẩm & Đồ uống: 21\n",
            "Nông nghiệp: 20\n",
            " Bảo hiểm: 20\n",
            "Dược phẩm: 18\n",
            " Môi trường: 18\n",
            " Công nghệ sinh học: 16\n",
            " Bưu chính viễn thông: 15\n",
            "Trắc địa / Địa Chất: 13\n",
            " Mới tốt nghiệp / Thực tập: 12\n",
            " Hàng không: 10\n",
            "Du lịch: 10\n",
            " Hóa học: 9\n",
            " Nhân sự: 7\n",
            " An toàn lao động: 7\n",
            "Chăn nuôi / Thú y: 7\n",
            "In ấn / Xuất bản: 7\n",
            "Công nghệ sinh học: 6\n",
            " Tổ chức sự kiện: 6\n",
            "Đồ gỗ: 5\n",
            "Bưu chính viễn thông: 5\n",
            " Thủy sản / Hải sản: 5\n",
            " Dầu khí: 4\n",
            "Dầu khí: 3\n",
            " Nông nghiệp: 3\n",
            " In ấn / Xuất bản: 3\n",
            " Bảo trì / Sửa chữa: 3\n",
            "Hàng gia dụng / Chăm sóc cá nhân: 2\n",
            " CNTT - Phần mềm: 1\n",
            " An Ninh / Bảo Vệ: 1\n",
            " Xây dựng: 1\n",
            "Thủy sản / Hải sản: 1\n",
            " Hàng gia dụng / Chăm sóc cá nhân: 1\n",
            " Công nghệ thực phẩm / Dinh dưỡng: 1\n",
            "Hàng hải: 1\n"
          ]
        }
      ],
      "source": [
        "job_counts = {}\n",
        "\n",
        "# Duyệt qua mỗi danh sách công việc và đếm số lượng từng công việc\n",
        "for jobs in train['job_list']:\n",
        "    for job in jobs:\n",
        "        if job in job_counts:\n",
        "            job_counts[job] += 1\n",
        "        else:\n",
        "            job_counts[job] = 1\n",
        "\n",
        "sorted_job_counts = dict(sorted(job_counts.items(), key=lambda x: x[1], reverse=True))\n",
        "\n",
        "# Hiển thị kết quả sắp xếp\n",
        "for job, count in sorted_job_counts.items():\n",
        "    print(f\"{job}: {count}\")"
      ]
    },
    {
      "cell_type": "code",
      "execution_count": 14,
      "metadata": {
        "colab": {
          "base_uri": "https://localhost:8080/",
          "height": 583
        },
        "id": "qn1SOvPU3l0g",
        "outputId": "e3b19026-d3e1-4b98-d8b3-5d5b3c5975a4"
      },
      "outputs": [
        {
          "data": {
            "image/png": "[encoded data removed]",
            "text/plain": [
              "<Figure size 1000x600 with 1 Axes>"
            ]
          },
          "metadata": {},
          "output_type": "display_data"
        }
      ],
      "source": [
        "# Chuyển dictionary thành DataFrame để dễ xử lý và hiển thị\n",
        "job_counts_df = pd.DataFrame(list(job_counts.items()), columns=['Job', 'Count'])\n",
        "\n",
        "# Sắp xếp DataFrame theo số lượng giảm dần\n",
        "job_counts_df = job_counts_df.sort_values(by='Count', ascending=False)\n",
        "\n",
        "# Chọn ra top 10 công việc phổ biến nhất\n",
        "top_10_jobs = job_counts_df.head(10)\n",
        "\n",
        "# Trực quan hóa số lượng của top 10 công việc bằng biểu đồ cột\n",
        "plt.figure(figsize=(10, 6))\n",
        "plt.bar(top_10_jobs['Job'], top_10_jobs['Count'], color='skyblue')\n",
        "plt.xlabel('Công việc')\n",
        "plt.ylabel('Số lượng')\n",
        "plt.title('Top 10 công việc phổ biến nhất trong cột \"job_list\"')\n",
        "plt.xticks(rotation=45, ha='right')\n",
        "plt.tight_layout()\n",
        "plt.show()"
      ]
    },
    {
      "cell_type": "code",
      "execution_count": 15,
      "metadata": {
        "id": "UpeCGKhNSUk0"
      },
      "outputs": [],
      "source": [
        "from gensim.models import Word2Vec\n",
        "import numpy as np\n",
        "from tensorflow.keras.preprocessing.sequence import pad_sequences\n",
        "from sklearn.preprocessing import MultiLabelBinarizer\n",
        "from sklearn.model_selection import train_test_split\n",
        "\n",
        "import vncorenlp\n",
        "from vncorenlp import VnCoreNLP"
      ]
    },
    {
      "cell_type": "code",
      "execution_count": 16,
      "metadata": {
        "id": "wbXwKlqP5VRn"
      },
      "outputs": [],
      "source": [
        "import numpy as np\n",
        "import re\n",
        "from pyvi import ViTokenizer\n",
        "\n",
        "vncorenlp = VnCoreNLP(\"vncorenlp/VnCoreNLP-1.1.1.jar\", annotators=\"wseg\", max_heap_size='-Xmx500m')\n",
        "\n",
        "def custom_tokenizer(text_data, tokenizer='vncorenlp'):\n",
        "    # text_data = text_data.lower()\n",
        "    if tokenizer == 'vncorenlp':\n",
        "        # return \" \".join(vncorenlp.tokenize(str(text_data))[0])\n",
        "        text = \"\"\n",
        "        lst = vncorenlp.tokenize(str(text_data))\n",
        "        for t in lst:\n",
        "            text += \" \".join(t)\n",
        "        return text\n",
        "    if tokenizer == 'none':\n",
        "        return text_data\n",
        "    return ViTokenizer.tokenize(str(text_data))\n",
        "\n",
        "def pre_process(X, y):\n",
        "    sentences = []\n",
        "\n",
        "    for t in X:\n",
        "        t = re.sub(r\"[-()\\\"#/@;:<>{}`+=~|!?,]\", \"\", t)\n",
        "        sentences.append(custom_tokenizer(t, tokenizer='vncorenlp'))\n",
        "\n",
        "\n",
        "\n",
        "    return (sentences, y)"
      ]
    },
    {
      "cell_type": "code",
      "execution_count": 17,
      "metadata": {
        "id": "-r1eoSHsjEVc"
      },
      "outputs": [],
      "source": [
        "data = pd.concat([train, dev], ignore_index=True)"
      ]
    },
    {
      "cell_type": "code",
      "execution_count": 18,
      "metadata": {
        "id": "FyD9CHkvjRJm"
      },
      "outputs": [],
      "source": [
        "# Chia lại dữ liệu train và val theo tỉ lệ 8:2\n",
        "X_train, X_val, y_train, y_val = train_test_split(\n",
        "    data['job_description'],\n",
        "    data['job'],\n",
        "    test_size=0.2,\n",
        "    random_state=42\n",
        ")"
      ]
    },
    {
      "cell_type": "code",
      "execution_count": 19,
      "metadata": {
        "colab": {
          "base_uri": "https://localhost:8080/"
        },
        "id": "KYDww_0e4Y2f",
        "outputId": "e089a0a1-5dea-4ef4-f4e2-11c77a02e2e0"
      },
      "outputs": [
        {
          "name": "stdout",
          "output_type": "stream",
          "text": [
            "17595\n",
            "4399\n"
          ]
        }
      ],
      "source": [
        "print(len(X_train))\n",
        "print(len(X_val))\n"
      ]
    },
    {
      "cell_type": "code",
      "execution_count": 27,
      "metadata": {
        "colab": {
          "base_uri": "https://localhost:8080/",
          "height": 125
        },
        "id": "cipFYlQ-66-T",
        "outputId": "926ecd39-ad95-486f-cf91-4c6621c6d1f3"
      },
      "outputs": [
        {
          "data": {
            "application/vnd.google.colaboratory.intrinsic+json": {
              "type": "string"
            },
            "text/plain": [
              "'Cung cấp trợ giúp cho khách hàng sử dụng các sản phẩm hoặc dịch vụ Giao tiếp lịch sự với khách hàng qua điện thoại, email, thư từ và các kênh online khác Xem xét và giải quyết các vấn đề của khách hàng, có thể phức tạp hoặc lâu dài, đã được các trợ lý dịch vụ khách hàng chuyển giao Xử lý khiếu nại của khách hàng hoặc bất kỳ sự cố lớn nào, chẳng hạn như vấn đề bảo mật hoặc khách hàng bị ốm Phân tích số liệu thống kê hoặc dữ liệu khác để xác định mức độ dịch vụ khách hàng Tham mưu Cải thiện các thủ tục, chính sách và tiêu chuẩn dịch vụ khách hàng Phối hợp tốt với các bộ phận khác để thảo luận về những cải tiến có thể có đối với dịch vụ khách hàng'"
            ]
          },
          "execution_count": 27,
          "metadata": {},
          "output_type": "execute_result"
        }
      ],
      "source": [
        "X_train[0]"
      ]
    },
    {
      "cell_type": "code",
      "execution_count": 29,
      "metadata": {
        "id": "4KON90JAFqC5"
      },
      "outputs": [],
      "source": [
        "y_train = y_train.apply(eval).tolist()\n",
        "y_val = y_val.apply(eval).tolist()"
      ]
    },
    {
      "cell_type": "code",
      "execution_count": 30,
      "metadata": {
        "id": "_r3JrKMJEpr_"
      },
      "outputs": [],
      "source": [
        "# Tiền xử lý dữ liệu\n",
        "X1, y1 = pre_process(X_train.tolist(), y_train)\n",
        "X2, y2 = pre_process(X_val.tolist(), y_val)\n",
        "X3, y3 = pre_process(test['job_description'].tolist(), test['job'].apply(eval).tolist())\n"
      ]
    },
    {
      "cell_type": "code",
      "execution_count": 31,
      "metadata": {
        "colab": {
          "base_uri": "https://localhost:8080/",
          "height": 107
        },
        "id": "vfEOUc-Y760-",
        "outputId": "d04cd0ba-1591-4f71-ddf3-a610b4e25c9b"
      },
      "outputs": [
        {
          "data": {
            "application/vnd.google.colaboratory.intrinsic+json": {
              "type": "string"
            },
            "text/plain": [
              "'Phát_triển và quản_lý hệ_thống bán hàng khách_hàng đối_tác mảng thang_máy gia_đình cao_cấp Giới_thiệu sản_phẩm thang_máy gia_đình đến với khách_hàng Đàm_phán với khách_hàng về các điều_khoản điều_kiện của hợp_đồng lắp_đặt thang_máy gia_đình Phối_hợp với các phòng_ban trong Công_ty để chuẩn_bị và ký_kết hợp_đồng lắp_đặt thang_máy gia_đình Theo_dõi quá_trình triển_khai thực_hiện hợp_đồng Chăm_sóc khách_hàng trước trong và sau khi giao_kết hợp_đồng Tham_gia cùng công_ty đấu_thầu các dự_án trọng_điểm'"
            ]
          },
          "execution_count": 31,
          "metadata": {},
          "output_type": "execute_result"
        }
      ],
      "source": [
        "X1[3]"
      ]
    },
    {
      "cell_type": "code",
      "execution_count": 32,
      "metadata": {
        "id": "f0WBsKN6SpWw"
      },
      "outputs": [],
      "source": [
        "# Tách từ cho tất cả các văn bản trong tập dữ liệu\n",
        "all_texts = X1 + X2 + X3\n",
        "\n",
        "# Tách từ cho tất cả các văn bản\n",
        "tokenized_texts = [text.split() for text in all_texts]\n"
      ]
    },
    {
      "cell_type": "code",
      "execution_count": 34,
      "metadata": {
        "colab": {
          "base_uri": "https://localhost:8080/"
        },
        "id": "FphoTxNWSte4",
        "outputId": "5a8b97af-8cfd-4613-ce2f-ae2da6c13ded"
      },
      "outputs": [
        {
          "data": {
            "text/plain": [
              "['Liên_hệ',\n",
              " 'với',\n",
              " 'khách_hàng',\n",
              " 'thị_trường',\n",
              " 'Trung_Quốc',\n",
              " 'theo',\n",
              " 'các',\n",
              " 'thông_tin',\n",
              " 'thu_thập',\n",
              " 'được',\n",
              " 'và',\n",
              " 'các',\n",
              " 'thông_tin',\n",
              " 'do',\n",
              " 'Công_ty',\n",
              " 'cung_cấp',\n",
              " 'để',\n",
              " 'giới_thiệu',\n",
              " 'về',\n",
              " 'các',\n",
              " 'công_nghệ',\n",
              " 'giải_pháp',\n",
              " 'kỹ_thuật',\n",
              " 'trong',\n",
              " 'lĩnh_vực',\n",
              " 'xử_lý',\n",
              " 'nước_thải',\n",
              " 'xử_lý',\n",
              " 'nước',\n",
              " 'cấp',\n",
              " '.Tổng_hợp',\n",
              " 'thông_tin',\n",
              " 'lên',\n",
              " 'kế_hoạch',\n",
              " 'tiếp_cận',\n",
              " 'khách_hàng',\n",
              " 'tới',\n",
              " 'TP.',\n",
              " 'Kinh_doanh',\n",
              " 'miền',\n",
              " 'Bắc',\n",
              " '.Biên',\n",
              " 'phiên_dịch',\n",
              " 'thông_tin',\n",
              " 'cho',\n",
              " 'TP.',\n",
              " 'Kinh_doanh',\n",
              " 'hoặc',\n",
              " 'TGĐ',\n",
              " 'trong',\n",
              " 'các',\n",
              " 'buổi',\n",
              " 'làm_việc',\n",
              " 'trực_tiếp',\n",
              " 'với',\n",
              " 'khách_hàng',\n",
              " 'Trung_Quốc',\n",
              " '.Tiếp_nhận',\n",
              " 'thông_tin',\n",
              " 'của',\n",
              " 'khách_hàng',\n",
              " 'và',\n",
              " 'báo_cáo',\n",
              " 'chính_xác',\n",
              " 'kịp_thời',\n",
              " 'tới',\n",
              " 'TP.',\n",
              " 'Kinh_doanh',\n",
              " 'miền',\n",
              " 'Bắc',\n",
              " 'để',\n",
              " 'có',\n",
              " 'phương_án',\n",
              " 'đối_ứng',\n",
              " 'tốt',\n",
              " 'nhất',\n",
              " '.Phối_hợp',\n",
              " 'với',\n",
              " 'Phòng',\n",
              " 'Đấu_thầu',\n",
              " '–',\n",
              " 'Hợp_đồng',\n",
              " 'để',\n",
              " 'biên_dịch',\n",
              " 'các',\n",
              " 'tài_liệu',\n",
              " 'được',\n",
              " 'giao',\n",
              " '.Thực_hiện',\n",
              " 'các',\n",
              " 'nhiệm_vụ',\n",
              " 'khác',\n",
              " 'do',\n",
              " 'TP.',\n",
              " 'Kinh_doanh',\n",
              " 'giao',\n",
              " '.Kỹ_năng',\n",
              " 'nói',\n",
              " 'viết',\n",
              " 'tiếng',\n",
              " 'Trung',\n",
              " 'và',\n",
              " 'thuyết_trình',\n",
              " 'tốt',\n",
              " 'trước',\n",
              " 'đám',\n",
              " 'đông',\n",
              " '.']"
            ]
          },
          "execution_count": 34,
          "metadata": {},
          "output_type": "execute_result"
        }
      ],
      "source": [
        "tokenized_texts[1]"
      ]
    },
    {
      "cell_type": "code",
      "execution_count": 57,
      "metadata": {
        "id": "5cDNiHD8Sye1"
      },
      "outputs": [],
      "source": [
        "# Huấn luyện mô hình Word2Vec\n",
        "embedding_dim = 100  # Kích thước của embeddings - 100\n",
        "word2vec_model = Word2Vec(tokenized_texts, vector_size=embedding_dim, window=5, min_count=1, workers=4)\n",
        "\n",
        "# Lưu trữ embeddings\n",
        "word_vectors = word2vec_model.wv"
      ]
    },
    {
      "cell_type": "code",
      "execution_count": 58,
      "metadata": {
        "id": "F3613TaH2Ccw"
      },
      "outputs": [],
      "source": [
        "# Chuyển đổi văn bản thành chuỗi số dựa trên từ điển Word2Vec\n",
        "def text_to_sequence(text, word_vectors):\n",
        "    return [word_vectors.key_to_index[word] if word in word_vectors else 0 for word in text.split()]\n",
        "\n",
        "# Chuyển đổi các văn bản trong tập train, dev và test\n",
        "train_sequences = [text_to_sequence(text, word_vectors) for text in X1]\n",
        "dev_sequences = [text_to_sequence(text, word_vectors) for text in X2]\n",
        "test_sequences = [text_to_sequence(text, word_vectors) for text in X3]\n"
      ]
    },
    {
      "cell_type": "code",
      "execution_count": 59,
      "metadata": {
        "id": "gmMw5twU7ybh"
      },
      "outputs": [],
      "source": [
        "# Đệm các chuỗi để tất cả đều có độ dài như nhau\n",
        "maxlen = 100\n",
        "X_train = pad_sequences(train_sequences, maxlen=maxlen)\n",
        "X_val = pad_sequences(dev_sequences, maxlen=maxlen)\n",
        "X_test = pad_sequences(test_sequences, maxlen=maxlen)\n"
      ]
    },
    {
      "cell_type": "code",
      "execution_count": 60,
      "metadata": {
        "id": "ycqATZ6683uq"
      },
      "outputs": [],
      "source": [
        "# Chuyển đổi nhãn sang định dạng nhị phân\n",
        "mlb = MultiLabelBinarizer()\n",
        "y_train = mlb.fit_transform(y1)\n",
        "y_val = mlb.transform(y2)\n",
        "y_test = mlb.transform(y3)"
      ]
    },
    {
      "cell_type": "code",
      "execution_count": 61,
      "metadata": {
        "id": "9qTw8zvc9K1O"
      },
      "outputs": [],
      "source": [
        "# Tạo ma trận embeddings\n",
        "vocab_size = len(word_vectors)\n",
        "embedding_matrix = np.zeros((vocab_size + 2, embedding_dim))\n",
        "\n",
        "# Điền ma trận embeddings với các vectors từ Word2Vec\n",
        "for word, i in word_vectors.key_to_index.items():\n",
        "    embedding_vector = word_vectors[word]\n",
        "    if embedding_vector is not None:\n",
        "        embedding_matrix[i + 2] = embedding_vector\n",
        "\n",
        "# Thêm embeddings ngẫu nhiên cho các từ đặc biệt UNK và PAD\n",
        "embedding_matrix[1] = np.random.randn(embedding_dim)  # UNK\n",
        "embedding_matrix[0] = np.zeros(embedding_dim)  # PAD"
      ]
    },
    {
      "cell_type": "code",
      "execution_count": 62,
      "metadata": {
        "id": "9ESyHNXT9bk8"
      },
      "outputs": [],
      "source": [
        "from keras.models import Sequential\n",
        "from keras.layers import Embedding, Dense, Flatten, LSTM, GRU, Dropout, BatchNormalization\n",
        "from keras.callbacks import EarlyStopping\n",
        "from keras.optimizers import Adam"
      ]
    },
    {
      "cell_type": "code",
      "execution_count": 63,
      "metadata": {
        "id": "4_sHmf499NFr"
      },
      "outputs": [],
      "source": [
        "# Xây dựng mô hình FFNN\n",
        "model_ffnn = Sequential()\n",
        "model_ffnn.add(Embedding(input_dim=vocab_size + 2, output_dim=embedding_dim, input_length=maxlen, weights=[embedding_matrix], trainable=False))\n",
        "model_ffnn.add(Flatten())\n",
        "model_ffnn.add(Dense(256, activation='relu'))\n",
        "model_ffnn.add(BatchNormalization())\n",
        "model_ffnn.add(Dropout(0.5))\n",
        "model_ffnn.add(Dense(128, activation='relu'))\n",
        "model_ffnn.add(BatchNormalization())\n",
        "model_ffnn.add(Dropout(0.5))\n",
        "model_ffnn.add(Dense(y_train.shape[1], activation='sigmoid'))"
      ]
    },
    {
      "cell_type": "code",
      "execution_count": 64,
      "metadata": {
        "colab": {
          "base_uri": "https://localhost:8080/"
        },
        "id": "1jE9v8RC_xFV",
        "outputId": "af67e7cd-22aa-4566-8efa-dacba88cb1a9"
      },
      "outputs": [
        {
          "name": "stdout",
          "output_type": "stream",
          "text": [
            "Model: \"sequential_2\"\n",
            "_________________________________________________________________\n",
            " Layer (type)                Output Shape              Param #   \n",
            "=================================================================\n",
            " embedding_2 (Embedding)     (None, 100, 100)          4494000   \n",
            "                                                                 \n",
            " flatten_2 (Flatten)         (None, 10000)             0         \n",
            "                                                                 \n",
            " dense_6 (Dense)             (None, 256)               2560256   \n",
            "                                                                 \n",
            " batch_normalization_4 (Bat  (None, 256)               1024      \n",
            " chNormalization)                                                \n",
            "                                                                 \n",
            " dropout_4 (Dropout)         (None, 256)               0         \n",
            "                                                                 \n",
            " dense_7 (Dense)             (None, 128)               32896     \n",
            "                                                                 \n",
            " batch_normalization_5 (Bat  (None, 128)               512       \n",
            " chNormalization)                                                \n",
            "                                                                 \n",
            " dropout_5 (Dropout)         (None, 128)               0         \n",
            "                                                                 \n",
            " dense_8 (Dense)             (None, 64)                8256      \n",
            "                                                                 \n",
            "=================================================================\n",
            "Total params: 7096944 (27.07 MB)\n",
            "Trainable params: 2602176 (9.93 MB)\n",
            "Non-trainable params: 4494768 (17.15 MB)\n",
            "_________________________________________________________________\n"
          ]
        }
      ],
      "source": [
        "model_ffnn.summary()"
      ]
    },
    {
      "cell_type": "code",
      "execution_count": 65,
      "metadata": {
        "id": "BIt9yvDI_pld"
      },
      "outputs": [],
      "source": [
        "model_ffnn.compile(loss='binary_crossentropy', optimizer=Adam(0.001), metrics=['accuracy'])"
      ]
    },
    {
      "cell_type": "code",
      "execution_count": 66,
      "metadata": {
        "colab": {
          "base_uri": "https://localhost:8080/"
        },
        "id": "rrCagoCRABun",
        "outputId": "ec53fb01-d5c4-4ce3-d82d-9f0470e722da"
      },
      "outputs": [
        {
          "name": "stdout",
          "output_type": "stream",
          "text": [
            "Epoch 1/20\n",
            "275/275 [==============================] - 16s 53ms/step - loss: 0.4484 - accuracy: 0.1438 - val_loss: 0.0946 - val_accuracy: 0.2948\n",
            "Epoch 2/20\n",
            "275/275 [==============================] - 14s 51ms/step - loss: 0.0951 - accuracy: 0.2714 - val_loss: 0.0675 - val_accuracy: 0.3378\n",
            "Epoch 3/20\n",
            "275/275 [==============================] - 14s 49ms/step - loss: 0.0744 - accuracy: 0.3204 - val_loss: 0.0582 - val_accuracy: 0.3433\n",
            "Epoch 4/20\n",
            "275/275 [==============================] - 13s 49ms/step - loss: 0.0644 - accuracy: 0.3517 - val_loss: 0.0523 - val_accuracy: 0.3699\n",
            "Epoch 5/20\n",
            "275/275 [==============================] - 12s 45ms/step - loss: 0.0578 - accuracy: 0.3814 - val_loss: 0.0485 - val_accuracy: 0.3649\n",
            "Epoch 6/20\n",
            "275/275 [==============================] - 13s 49ms/step - loss: 0.0526 - accuracy: 0.4049 - val_loss: 0.0464 - val_accuracy: 0.3430\n",
            "Epoch 7/20\n",
            "275/275 [==============================] - 16s 60ms/step - loss: 0.0480 - accuracy: 0.4305 - val_loss: 0.0449 - val_accuracy: 0.3653\n",
            "Epoch 8/20\n",
            "275/275 [==============================] - 15s 53ms/step - loss: 0.0438 - accuracy: 0.4520 - val_loss: 0.0442 - val_accuracy: 0.3510\n",
            "Epoch 9/20\n",
            "275/275 [==============================] - 14s 51ms/step - loss: 0.0405 - accuracy: 0.4819 - val_loss: 0.0440 - val_accuracy: 0.3942\n",
            "Epoch 10/20\n",
            "275/275 [==============================] - 14s 51ms/step - loss: 0.0375 - accuracy: 0.5027 - val_loss: 0.0443 - val_accuracy: 0.3785\n",
            "Epoch 11/20\n",
            "275/275 [==============================] - 13s 47ms/step - loss: 0.0355 - accuracy: 0.5186 - val_loss: 0.0441 - val_accuracy: 0.4281\n",
            "Epoch 12/20\n",
            "275/275 [==============================] - 13s 46ms/step - loss: 0.0333 - accuracy: 0.5337 - val_loss: 0.0443 - val_accuracy: 0.3833\n"
          ]
        }
      ],
      "source": [
        "# Thiết lập EarlyStopping\n",
        "early_stopping = EarlyStopping(monitor='val_loss', patience=3, restore_best_weights=True)\n",
        "\n",
        "# Huấn luyện mô hình\n",
        "history_ffnn = model_ffnn.fit(X_train, y_train, epochs=20, batch_size=64, validation_data=(X_val, y_val), callbacks=[early_stopping])\n"
      ]
    },
    {
      "cell_type": "code",
      "execution_count": 68,
      "metadata": {
        "colab": {
          "base_uri": "https://localhost:8080/",
          "height": 472
        },
        "id": "g1azI-_q3ONH",
        "outputId": "a36185b5-1ce9-4270-d3ee-c38d13311062"
      },
      "outputs": [
        {
          "data": {
            "image/png": "[encoded data removed]",
            "text/plain": [
              "<Figure size 640x480 with 2 Axes>"
            ]
          },
          "metadata": {},
          "output_type": "display_data"
        }
      ],
      "source": [
        "# Plotting the accuracy and loss over time\n",
        "\n",
        "# Training history\n",
        "history_dict = history_ffnn.history\n",
        "\n",
        "# Seperating validation and training accuracy\n",
        "acc = history_dict['accuracy']\n",
        "val_acc = history_dict['val_accuracy']\n",
        "\n",
        "# Seperating validation and training loss\n",
        "loss = history_dict['loss']\n",
        "val_loss = history_dict['val_loss']\n",
        "\n",
        "# Plotting\n",
        "plt.subplot(1, 2, 1)\n",
        "plt.plot(acc)\n",
        "plt.plot(val_acc)\n",
        "plt.title('Training and Validation Accuracy')\n",
        "plt.xlabel('Epochs')\n",
        "plt.ylabel('Accuracy')\n",
        "plt.legend(['Accuracy', 'Validation Accuracy'])\n",
        "\n",
        "plt.subplot(1, 2, 2)\n",
        "plt.plot(loss)\n",
        "plt.plot(val_loss)\n",
        "plt.title('Training and Validation Loss')\n",
        "plt.xlabel('Epochs')\n",
        "plt.ylabel('Loss')\n",
        "plt.legend(['Loss', 'Validation Loss'])\n",
        "\n",
        "plt.show()"
      ]
    },
    {
      "cell_type": "code",
      "execution_count": 69,
      "metadata": {
        "colab": {
          "base_uri": "https://localhost:8080/"
        },
        "id": "hJ6w5v2ScjRz",
        "outputId": "b4fb2f5f-31f2-42f2-fc37-634498558656"
      },
      "outputs": [
        {
          "name": "stdout",
          "output_type": "stream",
          "text": [
            "62/62 [==============================] - 1s 12ms/step - loss: 0.0643 - accuracy: 0.3539\n",
            "FFNN Test loss: 0.06429722905158997\n",
            "FFNN Test accuracy: 0.3539282977581024\n"
          ]
        }
      ],
      "source": [
        "# Đánh giá mô hình FFNN\n",
        "ffnn_score = model_ffnn.evaluate(X_test, y_test, batch_size=64)\n",
        "print(f'FFNN Test loss: {ffnn_score[0]}')\n",
        "print(f'FFNN Test accuracy: {ffnn_score[1]}')"
      ]
    },
    {
      "cell_type": "code",
      "execution_count": 70,
      "metadata": {
        "colab": {
          "base_uri": "https://localhost:8080/"
        },
        "id": "a7AEcrW7z5Wz",
        "outputId": "5b7585a3-7f37-4edc-ad06-31bfc46bf1fa"
      },
      "outputs": [
        {
          "name": "stdout",
          "output_type": "stream",
          "text": [
            "123/123 [==============================] - 3s 24ms/step\n"
          ]
        }
      ],
      "source": [
        "# Dự đoán với mô hình FFNN\n",
        "ffnn_predictions = model_ffnn.predict(X_test)\n",
        "# Chuyển đổi dự đoán thành nhãn\n",
        "ffnn_pred_labels = mlb.inverse_transform((ffnn_predictions > 0.5).astype(int))"
      ]
    },
    {
      "cell_type": "code",
      "execution_count": 71,
      "metadata": {
        "id": "htbU2M74_WJV"
      },
      "outputs": [],
      "source": [
        "# Xây dựng mô hình RNN\n",
        "model_rnn = Sequential()\n",
        "model_rnn.add(Embedding(input_dim=vocab_size + 2, output_dim=embedding_dim, input_length=maxlen, weights=[embedding_matrix], trainable=False))\n",
        "model_rnn.add(LSTM(64, dropout=0.2, recurrent_dropout=0.2, return_sequences=True))\n",
        "model_rnn.add(BatchNormalization())\n",
        "model_rnn.add(Dropout(0.5))\n",
        "model_rnn.add(LSTM(64, dropout=0.2, recurrent_dropout=0.2))\n",
        "model_rnn.add(BatchNormalization())\n",
        "# model_rnn.add(GRU(64, dropout=0.2, recurrent_dropout=0.2, return_sequences=True))  # Sử dụng GRU thay vì LSTM và giảm số lượng nơron\n",
        "# model_rnn.add(BatchNormalization())\n",
        "# model_rnn.add(Dropout(0.5))\n",
        "# model_rnn.add(GRU(64, dropout=0.2, recurrent_dropout=0.2))\n",
        "# model_rnn.add(BatchNormalization())\n",
        "model_rnn.add(Dropout(0.5))\n",
        "model_rnn.add(Dense(y_train.shape[1], activation='sigmoid'))"
      ]
    },
    {
      "cell_type": "code",
      "execution_count": 72,
      "metadata": {
        "colab": {
          "base_uri": "https://localhost:8080/"
        },
        "id": "hPMzHInaDXmK",
        "outputId": "f658eb5b-a92d-4998-ec72-04553cfa0afa"
      },
      "outputs": [
        {
          "name": "stdout",
          "output_type": "stream",
          "text": [
            "Model: \"sequential_3\"\n",
            "_________________________________________________________________\n",
            " Layer (type)                Output Shape              Param #   \n",
            "=================================================================\n",
            " embedding_3 (Embedding)     (None, 100, 100)          4494000   \n",
            "                                                                 \n",
            " lstm (LSTM)                 (None, 100, 64)           42240     \n",
            "                                                                 \n",
            " batch_normalization_6 (Bat  (None, 100, 64)           256       \n",
            " chNormalization)                                                \n",
            "                                                                 \n",
            " dropout_6 (Dropout)         (None, 100, 64)           0         \n",
            "                                                                 \n",
            " lstm_1 (LSTM)               (None, 64)                33024     \n",
            "                                                                 \n",
            " batch_normalization_7 (Bat  (None, 64)                256       \n",
            " chNormalization)                                                \n",
            "                                                                 \n",
            " dropout_7 (Dropout)         (None, 64)                0         \n",
            "                                                                 \n",
            " dense_9 (Dense)             (None, 64)                4160      \n",
            "                                                                 \n",
            "=================================================================\n",
            "Total params: 4573936 (17.45 MB)\n",
            "Trainable params: 79680 (311.25 KB)\n",
            "Non-trainable params: 4494256 (17.14 MB)\n",
            "_________________________________________________________________\n"
          ]
        }
      ],
      "source": [
        "model_rnn.summary()"
      ]
    },
    {
      "cell_type": "code",
      "execution_count": 73,
      "metadata": {
        "id": "pvMX0TlO_dG2"
      },
      "outputs": [],
      "source": [
        "# Biên dịch mô hình\n",
        "model_rnn.compile(loss='binary_crossentropy', optimizer=Adam(0.001), metrics=['accuracy'])\n"
      ]
    },
    {
      "cell_type": "code",
      "execution_count": 75,
      "metadata": {
        "colab": {
          "base_uri": "https://localhost:8080/"
        },
        "id": "JvjFdQh4_fyT",
        "outputId": "2b597793-213f-4e74-eedc-01b4da8c5729"
      },
      "outputs": [
        {
          "name": "stdout",
          "output_type": "stream",
          "text": [
            "Epoch 1/20\n",
            "275/275 [==============================] - 137s 457ms/step - loss: 0.5149 - accuracy: 0.0484 - val_loss: 0.1399 - val_accuracy: 0.1282\n",
            "Epoch 2/20\n",
            "275/275 [==============================] - 123s 447ms/step - loss: 0.1319 - accuracy: 0.1337 - val_loss: 0.0965 - val_accuracy: 0.1553\n",
            "Epoch 3/20\n",
            "275/275 [==============================] - 119s 433ms/step - loss: 0.1067 - accuracy: 0.1759 - val_loss: 0.0857 - val_accuracy: 0.1862\n",
            "Epoch 4/20\n",
            "275/275 [==============================] - 116s 423ms/step - loss: 0.0956 - accuracy: 0.2175 - val_loss: 0.0772 - val_accuracy: 0.2653\n",
            "Epoch 5/20\n",
            "275/275 [==============================] - 116s 422ms/step - loss: 0.0866 - accuracy: 0.2560 - val_loss: 0.0687 - val_accuracy: 0.2996\n",
            "Epoch 6/20\n",
            "275/275 [==============================] - 120s 436ms/step - loss: 0.0784 - accuracy: 0.2963 - val_loss: 0.0621 - val_accuracy: 0.3217\n",
            "Epoch 7/20\n",
            "275/275 [==============================] - 117s 424ms/step - loss: 0.0721 - accuracy: 0.3311 - val_loss: 0.0574 - val_accuracy: 0.3530\n",
            "Epoch 8/20\n",
            "275/275 [==============================] - 121s 439ms/step - loss: 0.0672 - accuracy: 0.3567 - val_loss: 0.0535 - val_accuracy: 0.3753\n",
            "Epoch 9/20\n",
            "275/275 [==============================] - 117s 426ms/step - loss: 0.0633 - accuracy: 0.3712 - val_loss: 0.0510 - val_accuracy: 0.3699\n",
            "Epoch 10/20\n",
            "275/275 [==============================] - 121s 439ms/step - loss: 0.0607 - accuracy: 0.3818 - val_loss: 0.0482 - val_accuracy: 0.3803\n",
            "Epoch 11/20\n",
            "275/275 [==============================] - 117s 424ms/step - loss: 0.0581 - accuracy: 0.3882 - val_loss: 0.0476 - val_accuracy: 0.3978\n",
            "Epoch 12/20\n",
            "275/275 [==============================] - 119s 434ms/step - loss: 0.0560 - accuracy: 0.4016 - val_loss: 0.0454 - val_accuracy: 0.4026\n",
            "Epoch 13/20\n",
            "275/275 [==============================] - 117s 425ms/step - loss: 0.0543 - accuracy: 0.4023 - val_loss: 0.0443 - val_accuracy: 0.3844\n",
            "Epoch 14/20\n",
            "275/275 [==============================] - 124s 451ms/step - loss: 0.0529 - accuracy: 0.4068 - val_loss: 0.0431 - val_accuracy: 0.4235\n",
            "Epoch 15/20\n",
            "275/275 [==============================] - 116s 422ms/step - loss: 0.0515 - accuracy: 0.4131 - val_loss: 0.0423 - val_accuracy: 0.4419\n",
            "Epoch 16/20\n",
            "275/275 [==============================] - 118s 430ms/step - loss: 0.0505 - accuracy: 0.4219 - val_loss: 0.0417 - val_accuracy: 0.4080\n",
            "Epoch 17/20\n",
            "275/275 [==============================] - 119s 432ms/step - loss: 0.0495 - accuracy: 0.4252 - val_loss: 0.0408 - val_accuracy: 0.3944\n",
            "Epoch 18/20\n",
            "275/275 [==============================] - 115s 418ms/step - loss: 0.0486 - accuracy: 0.4248 - val_loss: 0.0403 - val_accuracy: 0.4187\n",
            "Epoch 19/20\n",
            "275/275 [==============================] - 122s 442ms/step - loss: 0.0482 - accuracy: 0.4252 - val_loss: 0.0398 - val_accuracy: 0.4235\n",
            "Epoch 20/20\n",
            "275/275 [==============================] - 115s 420ms/step - loss: 0.0470 - accuracy: 0.4301 - val_loss: 0.0399 - val_accuracy: 0.4251\n"
          ]
        }
      ],
      "source": [
        "# Thiết lập EarlyStopping\n",
        "early_stopping_rnn = EarlyStopping(monitor='val_loss', patience=3, restore_best_weights=True)\n",
        "\n",
        "# Huấn luyện mô hình\n",
        "history_rnn = model_rnn.fit(X_train, y_train, epochs=20, batch_size=64, validation_data=(X_val, y_val), callbacks=[early_stopping_rnn])\n"
      ]
    },
    {
      "cell_type": "code",
      "execution_count": 76,
      "metadata": {
        "colab": {
          "base_uri": "https://localhost:8080/",
          "height": 472
        },
        "id": "6-ENe5uBNOxg",
        "outputId": "cf9581c1-29e3-4bb7-ae2b-36a70602160d"
      },
      "outputs": [
        {
          "data": {
            "image/png": "[encoded data removed]",
            "text/plain": [
              "<Figure size 640x480 with 2 Axes>"
            ]
          },
          "metadata": {},
          "output_type": "display_data"
        }
      ],
      "source": [
        "# Plotting the accuracy and loss over time\n",
        "\n",
        "# Training history\n",
        "history_dict = history_rnn.history\n",
        "\n",
        "# Seperating validation and training accuracy\n",
        "acc = history_dict['accuracy']\n",
        "val_acc = history_dict['val_accuracy']\n",
        "\n",
        "# Seperating validation and training loss\n",
        "loss = history_dict['loss']\n",
        "val_loss = history_dict['val_loss']\n",
        "\n",
        "# Plotting\n",
        "plt.subplot(1, 2, 1)\n",
        "plt.plot(acc)\n",
        "plt.plot(val_acc)\n",
        "plt.title('Training and Validation Accuracy')\n",
        "plt.xlabel('Epochs')\n",
        "plt.ylabel('Accuracy')\n",
        "plt.legend(['Accuracy', 'Validation Accuracy'])\n",
        "\n",
        "plt.subplot(1, 2, 2)\n",
        "plt.plot(loss)\n",
        "plt.plot(val_loss)\n",
        "plt.title('Training and Validation Loss')\n",
        "plt.xlabel('Epochs')\n",
        "plt.ylabel('Loss')\n",
        "plt.legend(['Loss', 'Validation Loss'])\n",
        "\n",
        "plt.show()"
      ]
    },
    {
      "cell_type": "code",
      "execution_count": 77,
      "metadata": {
        "colab": {
          "base_uri": "https://localhost:8080/"
        },
        "id": "wJXSopiSxhv6",
        "outputId": "416b0880-2b67-4c90-acfb-03cc2c6f8e03"
      },
      "outputs": [
        {
          "name": "stdout",
          "output_type": "stream",
          "text": [
            "62/62 [==============================] - 4s 60ms/step - loss: 0.0939 - accuracy: 0.2393\n",
            "RNN Test loss: 0.0938759446144104\n",
            "RNN Test accuracy: 0.2392575591802597\n"
          ]
        }
      ],
      "source": [
        "# Đánh giá mô hình RNN\n",
        "rnn_score = model_rnn.evaluate(X_test, y_test, batch_size=64)\n",
        "print(f'RNN Test loss: {rnn_score[0]}')\n",
        "print(f'RNN Test accuracy: {rnn_score[1]}')"
      ]
    },
    {
      "cell_type": "code",
      "execution_count": 78,
      "metadata": {
        "colab": {
          "base_uri": "https://localhost:8080/"
        },
        "id": "ARFTak6Izwmk",
        "outputId": "b2b84440-1cb2-410b-f939-7609fa448aa9"
      },
      "outputs": [
        {
          "name": "stdout",
          "output_type": "stream",
          "text": [
            "123/123 [==============================] - 8s 59ms/step\n"
          ]
        }
      ],
      "source": [
        "# Dự đoán với mô hình RNN\n",
        "rnn_predictions = model_rnn.predict(X_test)\n",
        "# Chuyển đổi dự đoán thành nhãn\n",
        "rnn_pred_labels = mlb.inverse_transform((rnn_predictions > 0.5).astype(int))"
      ]
    },
    {
      "cell_type": "code",
      "execution_count": 79,
      "metadata": {
        "colab": {
          "base_uri": "https://localhost:8080/"
        },
        "id": "sULcCHmZz9Ic",
        "outputId": "ffab80c9-cc94-4381-a488-83c7dc7bc15c"
      },
      "outputs": [
        {
          "name": "stdout",
          "output_type": "stream",
          "text": [
            "Text: [   0    0    0    0    0    0    0    0    0    0    0    0    0    0\n",
            "    0    0    0    0    0    0    0    0    0    0    0    0    0    0\n",
            "    0    0 2731 1392  435  897  263 1207 3196    1  531  387    6    7\n",
            "  112  346 6492 7551 5087  428  736 6894 4991 6445  114 6723 2218   16\n",
            " 5327 1174  252 3157  111 5079   24  371 2080  244 2218   16  203 2162\n",
            "   94  775 3975 2047 3605 6890  456  302 3533  901 2163   25   59  244\n",
            " 2110   64  753 1868 5054 6139 5937 2412   64 6143 3978 2157  775 5491\n",
            " 6846 7599]\n",
            "Actual labels: [('Dệt may / Da giày / Thời trang', 'Quản lý chất lượng (QA/QC)', 'Tài chính / Đầu tư', 'Vận chuyển / Giao nhận / Kho vận', 'Điện / Điện tử / Điện lạnh')]\n",
            "FFNN Predicted labels: ()\n",
            "RNN Predicted labels: ()\n",
            "-----------------------------\n",
            "Text: [  366     7    49   139     7   889  3545   188  1247    49     0   668\n",
            "   521  2071   276  3524  4213  3128  3342    34  4542  4545  1979    23\n",
            "    27   668    26   708    68   180    33   584    23   371    69   364\n",
            "  1164    68    68   264   180    33    49   955    24   164    17     1\n",
            "   134   377    53     5   100   289    68   180    33   584    23  1002\n",
            "    68   180    33   246    21   190    10     0    45    14    29   385\n",
            "    33     2    40   606   106    11    33     2     0   668    59    96\n",
            "    47     5    69     5     6   668   913   512  2840  2051 10369 12776\n",
            " 12742 15589 15587     8]\n",
            "Actual labels: [('Bán lẻ / Bán sỉ', 'Tài chính / Đầu tư', 'Tư vấn')]\n",
            "FFNN Predicted labels: ('Tài chính / Đầu tư', 'Tư vấn')\n",
            "RNN Predicted labels: ('Dịch vụ khách hàng', 'Tư vấn')\n",
            "-----------------------------\n",
            "Text: [ 893  810  208  872  225  355  176  965  792  946  418  940  967  850\n",
            " 1352 1331  930  388   34  644  139    7  753   10  111  540    1  243\n",
            " 1238   59   11  213  331 1129  206    7   25   20  130  477   14  261\n",
            "   96    1  139    7   22   17  187  137    1   48 1187  245   72    1\n",
            "  139    7 1213  214  442  150  748   19    1  143  127   33    4   16\n",
            "    2   31  105 1397 1206 1323 1244 1114 1014 3319 3374 3315 1324 3372\n",
            " 1273 3181 1079  808 1243 1080 1462  610 1019  507  681 1398  692   52\n",
            " 1296  610]\n",
            "Actual labels: [('Bán hàng / Kinh doanh', 'Bán lẻ / Bán sỉ', 'Tư vấn')]\n",
            "FFNN Predicted labels: ('Dịch vụ khách hàng', 'Tư vấn')\n",
            "RNN Predicted labels: ('Dịch vụ khách hàng', 'Tư vấn')\n",
            "-----------------------------\n",
            "Text: [    0     0     0     0     0     0     0     0     0     0     0     0\n",
            "     0     0     0     0     0     0     0     0     0     0     0     0\n",
            "     0     0     0     0     0     0     0     0     0     0     0     0\n",
            "     0     0     0     0     0     0     0     0     0     0     0     0\n",
            "  2933    70     1    31   156   205   557     1  1082     0   549  1070\n",
            "   606   156     1    42    34   321 10999     1 10132    10   549  1070\n",
            "    22   374   205   325     6    50    18  2913     1   302  2913   320\n",
            "    11    28   219    23   703   526   783   291    59   549  1070  4043\n",
            "  2928   628    36   126]\n",
            "Actual labels: [('Kiến trúc', 'Xây dựng', 'Điện / Điện tử / Điện lạnh')]\n",
            "FFNN Predicted labels: ('Tư vấn',)\n",
            "RNN Predicted labels: ()\n",
            "-----------------------------\n",
            "Text: [   0    0    0    0    0    0    0    0    0    0    0    0    0    0\n",
            "    0    0    0    0    0    0    0    0    0    0    0    0    0    0\n",
            "    0    0    0    0    0    0    0    0   57   32 2344    1   91    2\n",
            " 1081 3861 2657    0 1081   14   23 2828    1  657  451   73  527 1203\n",
            "    1   37    0 1067   49   14  140  122  424  199  629  527  851    0\n",
            "  297   49    1  711   10    0  631   21 3859    6   68 1067  440  715\n",
            "  512  166   10    0  631   21    0   78   21   14  349   15   23   42\n",
            "  213    8]\n",
            "Actual labels: [('Bán lẻ / Bán sỉ', 'CNTT - Phần cứng / Mạng', 'CNTT - Phần mềm')]\n",
            "FFNN Predicted labels: ('CNTT - Phần mềm',)\n",
            "RNN Predicted labels: ('CNTT - Phần mềm',)\n",
            "-----------------------------\n"
          ]
        }
      ],
      "source": [
        "# In ra một vài kết quả dự đoán\n",
        "for i in range(5):\n",
        "    print(f'Text: {X_test[i]}')\n",
        "    print(f'Actual labels: {mlb.inverse_transform(np.expand_dims(y_test[i], axis=0))}')\n",
        "    print(f'FFNN Predicted labels: {ffnn_pred_labels[i]}')\n",
        "    print(f'RNN Predicted labels: {rnn_pred_labels[i]}')\n",
        "    print('-----------------------------')"
      ]
    }
  ],
  "metadata": {
    "colab": {
      "provenance": []
    },
    "kernelspec": {
      "display_name": "Python 3",
      "name": "python3"
    },
    "language_info": {
      "name": "python"
    }
  },
  "nbformat": 4,
  "nbformat_minor": 0
}
