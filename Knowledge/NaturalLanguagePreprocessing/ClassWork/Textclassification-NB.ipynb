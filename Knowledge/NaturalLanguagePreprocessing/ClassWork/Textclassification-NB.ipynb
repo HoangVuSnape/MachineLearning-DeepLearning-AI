{
 "cells": [
  {
   "cell_type": "code",
   "execution_count": 1,
   "metadata": {},
   "outputs": [
    {
     "name": "stdout",
     "output_type": "stream",
     "text": [
      "WARNING:tensorflow:From c:\\Users\\Snape\\anaconda3\\Lib\\site-packages\\keras\\src\\losses.py:2976: The name tf.losses.sparse_softmax_cross_entropy is deprecated. Please use tf.compat.v1.losses.sparse_softmax_cross_entropy instead.\n",
      "\n"
     ]
    }
   ],
   "source": [
    "import pandas as pd\n",
    "from sklearn.model_selection import train_test_split\n",
    "from sklearn.metrics import classification_report, accuracy_score\n",
    "from sklearn.linear_model import LogisticRegression\n",
    "from sklearn.naive_bayes import MultinomialNB\n",
    "from sklearn.neighbors import KNeighborsClassifier\n",
    "from sklearn.feature_extraction.text import TfidfVectorizer, CountVectorizer\n",
    "from keras.preprocessing.text import Tokenizer\n",
    "import numpy as np\n",
    "import matplotlib.pyplot as plt"
   ]
  },
  {
   "cell_type": "code",
   "execution_count": 42,
   "metadata": {},
   "outputs": [],
   "source": [
    "filename = \"data/twitter_training.csv\"\n",
    "df = pd.read_csv(filename)\n",
    "df.columns = ['Header1', 'company','labels','text']"
   ]
  },
  {
   "cell_type": "code",
   "execution_count": 43,
   "metadata": {},
   "outputs": [
    {
     "name": "stdout",
     "output_type": "stream",
     "text": [
      "(74681, 4)\n"
     ]
    },
    {
     "data": {
      "text/html": [
       "<div>\n",
       "<style scoped>\n",
       "    .dataframe tbody tr th:only-of-type {\n",
       "        vertical-align: middle;\n",
       "    }\n",
       "\n",
       "    .dataframe tbody tr th {\n",
       "        vertical-align: top;\n",
       "    }\n",
       "\n",
       "    .dataframe thead th {\n",
       "        text-align: right;\n",
       "    }\n",
       "</style>\n",
       "<table border=\"1\" class=\"dataframe\">\n",
       "  <thead>\n",
       "    <tr style=\"text-align: right;\">\n",
       "      <th></th>\n",
       "      <th>Header1</th>\n",
       "      <th>company</th>\n",
       "      <th>labels</th>\n",
       "      <th>text</th>\n",
       "    </tr>\n",
       "  </thead>\n",
       "  <tbody>\n",
       "    <tr>\n",
       "      <th>0</th>\n",
       "      <td>2401</td>\n",
       "      <td>Borderlands</td>\n",
       "      <td>Positive</td>\n",
       "      <td>I am coming to the borders and I will kill you...</td>\n",
       "    </tr>\n",
       "    <tr>\n",
       "      <th>1</th>\n",
       "      <td>2401</td>\n",
       "      <td>Borderlands</td>\n",
       "      <td>Positive</td>\n",
       "      <td>im getting on borderlands and i will kill you ...</td>\n",
       "    </tr>\n",
       "    <tr>\n",
       "      <th>2</th>\n",
       "      <td>2401</td>\n",
       "      <td>Borderlands</td>\n",
       "      <td>Positive</td>\n",
       "      <td>im coming on borderlands and i will murder you...</td>\n",
       "    </tr>\n",
       "    <tr>\n",
       "      <th>3</th>\n",
       "      <td>2401</td>\n",
       "      <td>Borderlands</td>\n",
       "      <td>Positive</td>\n",
       "      <td>im getting on borderlands 2 and i will murder ...</td>\n",
       "    </tr>\n",
       "    <tr>\n",
       "      <th>4</th>\n",
       "      <td>2401</td>\n",
       "      <td>Borderlands</td>\n",
       "      <td>Positive</td>\n",
       "      <td>im getting into borderlands and i can murder y...</td>\n",
       "    </tr>\n",
       "  </tbody>\n",
       "</table>\n",
       "</div>"
      ],
      "text/plain": [
       "   Header1      company    labels  \\\n",
       "0     2401  Borderlands  Positive   \n",
       "1     2401  Borderlands  Positive   \n",
       "2     2401  Borderlands  Positive   \n",
       "3     2401  Borderlands  Positive   \n",
       "4     2401  Borderlands  Positive   \n",
       "\n",
       "                                                text  \n",
       "0  I am coming to the borders and I will kill you...  \n",
       "1  im getting on borderlands and i will kill you ...  \n",
       "2  im coming on borderlands and i will murder you...  \n",
       "3  im getting on borderlands 2 and i will murder ...  \n",
       "4  im getting into borderlands and i can murder y...  "
      ]
     },
     "execution_count": 43,
     "metadata": {},
     "output_type": "execute_result"
    }
   ],
   "source": [
    "print(df.shape)\n",
    "df.head(5)"
   ]
  },
  {
   "cell_type": "code",
   "execution_count": 44,
   "metadata": {},
   "outputs": [
    {
     "data": {
      "text/plain": [
       "Header1      0\n",
       "company      0\n",
       "labels       0\n",
       "text       686\n",
       "dtype: int64"
      ]
     },
     "execution_count": 44,
     "metadata": {},
     "output_type": "execute_result"
    }
   ],
   "source": [
    "df.isna().sum()"
   ]
  },
  {
   "cell_type": "code",
   "execution_count": 45,
   "metadata": {},
   "outputs": [
    {
     "name": "stdout",
     "output_type": "stream",
     "text": [
      "(73995, 4)\n"
     ]
    }
   ],
   "source": [
    "df = df.dropna()\n",
    "df.isnull().values.any()\n",
    "print(df.shape)"
   ]
  },
  {
   "cell_type": "code",
   "execution_count": 46,
   "metadata": {},
   "outputs": [
    {
     "name": "stdout",
     "output_type": "stream",
     "text": [
      "['I am coming to the borders and I will kill you all,'\n",
      " 'im getting on borderlands and i will kill you all,'\n",
      " 'im coming on borderlands and i will murder you all,']\n",
      "['Positive' 'Positive' 'Positive']\n"
     ]
    }
   ],
   "source": [
    "N = 10000\n",
    "texts = df.values[:N, 3].astype(str)\n",
    "y = df.values[:N, 2]\n",
    "print(texts[:3])\n",
    "print(y[:3])\n"
   ]
  },
  {
   "cell_type": "code",
   "execution_count": 47,
   "metadata": {},
   "outputs": [],
   "source": [
    "from keras.preprocessing.text import Tokenizer\n",
    "t = Tokenizer()\n",
    "t.fit_on_texts(texts)"
   ]
  },
  {
   "cell_type": "code",
   "execution_count": 48,
   "metadata": {},
   "outputs": [
    {
     "name": "stdout",
     "output_type": "stream",
     "text": [
      "(10000, 9431)\n",
      "[[0. 1. 1. ... 0. 0. 0.]\n",
      " [0. 0. 1. ... 0. 0. 0.]\n",
      " [0. 0. 1. ... 0. 0. 0.]]\n"
     ]
    }
   ],
   "source": [
    "X = t.texts_to_matrix(texts, mode= 'binary') #frequent, count, tfidf, \n",
    "print(X.shape)\n",
    "print(X[:3])"
   ]
  },
  {
   "cell_type": "code",
   "execution_count": 49,
   "metadata": {},
   "outputs": [
    {
     "name": "stdout",
     "output_type": "stream",
     "text": [
      "(7500, 9431)\n",
      "(2500, 9431)\n",
      "(7500,)\n",
      "(2500,)\n"
     ]
    }
   ],
   "source": [
    "from sklearn.model_selection import train_test_split\n",
    "\n",
    "X_train, X_test, y_train, y_test = train_test_split(X, y, random_state= 42, test_size= .25)\n",
    "\n",
    "print(X_train.shape)\n",
    "print(X_test.shape)\n",
    "print(y_train.shape)\n",
    "print(y_test.shape)"
   ]
  },
  {
   "cell_type": "code",
   "execution_count": 50,
   "metadata": {},
   "outputs": [
    {
     "name": "stderr",
     "output_type": "stream",
     "text": [
      "c:\\Users\\Snape\\anaconda3\\Lib\\site-packages\\sklearn\\linear_model\\_logistic.py:458: ConvergenceWarning: lbfgs failed to converge (status=1):\n",
      "STOP: TOTAL NO. of ITERATIONS REACHED LIMIT.\n",
      "\n",
      "Increase the number of iterations (max_iter) or scale the data as shown in:\n",
      "    https://scikit-learn.org/stable/modules/preprocessing.html\n",
      "Please also refer to the documentation for alternative solver options:\n",
      "    https://scikit-learn.org/stable/modules/linear_model.html#logistic-regression\n",
      "  n_iter_i = _check_optimize_result(\n"
     ]
    },
    {
     "data": {
      "text/html": [
       "<style>#sk-container-id-2 {color: black;background-color: white;}#sk-container-id-2 pre{padding: 0;}#sk-container-id-2 div.sk-toggleable {background-color: white;}#sk-container-id-2 label.sk-toggleable__label {cursor: pointer;display: block;width: 100%;margin-bottom: 0;padding: 0.3em;box-sizing: border-box;text-align: center;}#sk-container-id-2 label.sk-toggleable__label-arrow:before {content: \"▸\";float: left;margin-right: 0.25em;color: #696969;}#sk-container-id-2 label.sk-toggleable__label-arrow:hover:before {color: black;}#sk-container-id-2 div.sk-estimator:hover label.sk-toggleable__label-arrow:before {color: black;}#sk-container-id-2 div.sk-toggleable__content {max-height: 0;max-width: 0;overflow: hidden;text-align: left;background-color: #f0f8ff;}#sk-container-id-2 div.sk-toggleable__content pre {margin: 0.2em;color: black;border-radius: 0.25em;background-color: #f0f8ff;}#sk-container-id-2 input.sk-toggleable__control:checked~div.sk-toggleable__content {max-height: 200px;max-width: 100%;overflow: auto;}#sk-container-id-2 input.sk-toggleable__control:checked~label.sk-toggleable__label-arrow:before {content: \"▾\";}#sk-container-id-2 div.sk-estimator input.sk-toggleable__control:checked~label.sk-toggleable__label {background-color: #d4ebff;}#sk-container-id-2 div.sk-label input.sk-toggleable__control:checked~label.sk-toggleable__label {background-color: #d4ebff;}#sk-container-id-2 input.sk-hidden--visually {border: 0;clip: rect(1px 1px 1px 1px);clip: rect(1px, 1px, 1px, 1px);height: 1px;margin: -1px;overflow: hidden;padding: 0;position: absolute;width: 1px;}#sk-container-id-2 div.sk-estimator {font-family: monospace;background-color: #f0f8ff;border: 1px dotted black;border-radius: 0.25em;box-sizing: border-box;margin-bottom: 0.5em;}#sk-container-id-2 div.sk-estimator:hover {background-color: #d4ebff;}#sk-container-id-2 div.sk-parallel-item::after {content: \"\";width: 100%;border-bottom: 1px solid gray;flex-grow: 1;}#sk-container-id-2 div.sk-label:hover label.sk-toggleable__label {background-color: #d4ebff;}#sk-container-id-2 div.sk-serial::before {content: \"\";position: absolute;border-left: 1px solid gray;box-sizing: border-box;top: 0;bottom: 0;left: 50%;z-index: 0;}#sk-container-id-2 div.sk-serial {display: flex;flex-direction: column;align-items: center;background-color: white;padding-right: 0.2em;padding-left: 0.2em;position: relative;}#sk-container-id-2 div.sk-item {position: relative;z-index: 1;}#sk-container-id-2 div.sk-parallel {display: flex;align-items: stretch;justify-content: center;background-color: white;position: relative;}#sk-container-id-2 div.sk-item::before, #sk-container-id-2 div.sk-parallel-item::before {content: \"\";position: absolute;border-left: 1px solid gray;box-sizing: border-box;top: 0;bottom: 0;left: 50%;z-index: -1;}#sk-container-id-2 div.sk-parallel-item {display: flex;flex-direction: column;z-index: 1;position: relative;background-color: white;}#sk-container-id-2 div.sk-parallel-item:first-child::after {align-self: flex-end;width: 50%;}#sk-container-id-2 div.sk-parallel-item:last-child::after {align-self: flex-start;width: 50%;}#sk-container-id-2 div.sk-parallel-item:only-child::after {width: 0;}#sk-container-id-2 div.sk-dashed-wrapped {border: 1px dashed gray;margin: 0 0.4em 0.5em 0.4em;box-sizing: border-box;padding-bottom: 0.4em;background-color: white;}#sk-container-id-2 div.sk-label label {font-family: monospace;font-weight: bold;display: inline-block;line-height: 1.2em;}#sk-container-id-2 div.sk-label-container {text-align: center;}#sk-container-id-2 div.sk-container {/* jupyter's `normalize.less` sets `[hidden] { display: none; }` but bootstrap.min.css set `[hidden] { display: none !important; }` so we also need the `!important` here to be able to override the default hidden behavior on the sphinx rendered scikit-learn.org. See: https://github.com/scikit-learn/scikit-learn/issues/21755 */display: inline-block !important;position: relative;}#sk-container-id-2 div.sk-text-repr-fallback {display: none;}</style><div id=\"sk-container-id-2\" class=\"sk-top-container\"><div class=\"sk-text-repr-fallback\"><pre>LogisticRegression()</pre><b>In a Jupyter environment, please rerun this cell to show the HTML representation or trust the notebook. <br />On GitHub, the HTML representation is unable to render, please try loading this page with nbviewer.org.</b></div><div class=\"sk-container\" hidden><div class=\"sk-item\"><div class=\"sk-estimator sk-toggleable\"><input class=\"sk-toggleable__control sk-hidden--visually\" id=\"sk-estimator-id-2\" type=\"checkbox\" checked><label for=\"sk-estimator-id-2\" class=\"sk-toggleable__label sk-toggleable__label-arrow\">LogisticRegression</label><div class=\"sk-toggleable__content\"><pre>LogisticRegression()</pre></div></div></div></div></div>"
      ],
      "text/plain": [
       "LogisticRegression()"
      ]
     },
     "execution_count": 50,
     "metadata": {},
     "output_type": "execute_result"
    }
   ],
   "source": [
    "from sklearn.linear_model import LogisticRegression\n",
    "\n",
    "model = LogisticRegression()\n",
    "model.fit(X_train, y_train)"
   ]
  },
  {
   "cell_type": "code",
   "execution_count": 51,
   "metadata": {},
   "outputs": [
    {
     "name": "stdout",
     "output_type": "stream",
     "text": [
      "              precision    recall  f1-score   support\n",
      "\n",
      "  Irrelevant       0.91      0.88      0.89       468\n",
      "    Negative       0.92      0.91      0.91       530\n",
      "     Neutral       0.94      0.88      0.91       624\n",
      "    Positive       0.87      0.94      0.91       878\n",
      "\n",
      "    accuracy                           0.91      2500\n",
      "   macro avg       0.91      0.90      0.91      2500\n",
      "weighted avg       0.91      0.91      0.91      2500\n",
      "\n"
     ]
    }
   ],
   "source": [
    "y_pred = model.predict(X_test)\n",
    "\n",
    "from sklearn.metrics import classification_report\n",
    "\n",
    "print(classification_report(y_test, y_pred))"
   ]
  },
  {
   "cell_type": "code",
   "execution_count": 52,
   "metadata": {},
   "outputs": [
    {
     "name": "stdout",
     "output_type": "stream",
     "text": [
      "[[0. 0. 0. ... 0. 0. 0.]]\n",
      "['Positive']\n"
     ]
    }
   ],
   "source": [
    "question = input()\n",
    "X_input = t.texts_to_matrix([question], mode= 'count')\n",
    "print(X_input)\n",
    "\n",
    "y_output = model.predict(X_input)\n",
    "print(y_output)"
   ]
  },
  {
   "cell_type": "markdown",
   "metadata": {},
   "source": [
    "## frequent <> count"
   ]
  },
  {
   "cell_type": "code",
   "execution_count": 53,
   "metadata": {},
   "outputs": [
    {
     "name": "stdout",
     "output_type": "stream",
     "text": [
      "(10000, 9431)\n",
      "[[0.         0.08333333 0.16666667 ... 0.         0.         0.        ]\n",
      " [0.         0.         0.1        ... 0.         0.         0.        ]\n",
      " [0.         0.         0.1        ... 0.         0.         0.        ]]\n"
     ]
    }
   ],
   "source": [
    "X_fre = t.texts_to_matrix(texts, mode= 'freq') #frequent, count, tfidf, \n",
    "print(X_fre.shape)\n",
    "print(X_fre[:3])"
   ]
  },
  {
   "cell_type": "code",
   "execution_count": 54,
   "metadata": {},
   "outputs": [
    {
     "name": "stdout",
     "output_type": "stream",
     "text": [
      "(10000, 9431)\n",
      "[[0. 1. 2. ... 0. 0. 0.]\n",
      " [0. 0. 1. ... 0. 0. 0.]\n",
      " [0. 0. 1. ... 0. 0. 0.]]\n"
     ]
    }
   ],
   "source": [
    "X_count = t.texts_to_matrix(texts, mode= 'count') #frequent, count, tfidf, \n",
    "print(X_count.shape)\n",
    "print(X_count[:3])"
   ]
  },
  {
   "cell_type": "code",
   "execution_count": 55,
   "metadata": {},
   "outputs": [
    {
     "name": "stdout",
     "output_type": "stream",
     "text": [
      "(10000, 9431)\n",
      "[[0.         1.24637136 2.51579481 ... 0.         0.         0.        ]\n",
      " [0.         0.         1.48586894 ... 0.         0.         0.        ]\n",
      " [0.         0.         1.48586894 ... 0.         0.         0.        ]]\n"
     ]
    }
   ],
   "source": [
    "X_tf = t.texts_to_matrix(texts, mode= 'tfidf')\n",
    "print(X_tf.shape)\n",
    "print(X_tf[:3])"
   ]
  },
  {
   "cell_type": "markdown",
   "metadata": {},
   "source": [
    "# Assignment\n"
   ]
  },
  {
   "cell_type": "markdown",
   "metadata": {},
   "source": [
    "    - 'count': Đếm số lần xuất hiện của từng từ trong văn bản. Mỗi từ đại diện cho một cột trong ma trận đầu ra, và giá trị tại một cột xác định là số lần từ đó xuất hiện trong văn bản.\n",
    "    - 'binary': Tương tự như 'count', nhưng thay vì đếm số lần xuất hiện, nó chỉ đơn giản là đánh dấu sự hiện diện (1) hoặc vắng mặt (0) của mỗi từ.\n",
    "    - 'freq': Tính tần suất xuất hiện của mỗi từ trong một văn bản. Điều này khác với 'count' ở chỗ giá trị được chuẩn hóa bằng cách chia cho tổng số từ trong văn bản, do đó, cho ta biết độ quan trọng tương đối của mỗi từ trong văn bản.\n",
    "    - 'tfidf': Đây là viết tắt của \"Term Frequency-Inverse Document Frequency\". Nó không chỉ xem xét tần suất xuất hiện của từ trong văn bản (như 'freq'), mà còn xem xét tần suất xuất hiện của từ trong toàn bộ tập dữ liệu. Nếu một từ xuất hiện thường xuyên trong một văn bản nhưng hiếm khi xuất hiện trong các văn bản khác, nó sẽ nhận được một giá trị TF-IDF cao, cho thấy nó có thể mang lại nhiều thông tin về nội dung của văn bản."
   ]
  },
  {
   "cell_type": "code",
   "execution_count": 56,
   "metadata": {},
   "outputs": [
    {
     "name": "stdout",
     "output_type": "stream",
     "text": [
      "\n",
      "1. Mode: binary\n",
      "Shape of X: (10000, 9431)\n",
      "Example of X:\n",
      "[[0. 1. 1. ... 0. 0. 0.]\n",
      " [0. 0. 1. ... 0. 0. 0.]\n",
      " [0. 0. 1. ... 0. 0. 0.]]\n",
      "\n",
      "Training Logistic Regression with mode binary:\n"
     ]
    },
    {
     "name": "stderr",
     "output_type": "stream",
     "text": [
      "c:\\Users\\Snape\\anaconda3\\Lib\\site-packages\\sklearn\\linear_model\\_logistic.py:458: ConvergenceWarning: lbfgs failed to converge (status=1):\n",
      "STOP: TOTAL NO. of ITERATIONS REACHED LIMIT.\n",
      "\n",
      "Increase the number of iterations (max_iter) or scale the data as shown in:\n",
      "    https://scikit-learn.org/stable/modules/preprocessing.html\n",
      "Please also refer to the documentation for alternative solver options:\n",
      "    https://scikit-learn.org/stable/modules/linear_model.html#logistic-regression\n",
      "  n_iter_i = _check_optimize_result(\n"
     ]
    },
    {
     "name": "stdout",
     "output_type": "stream",
     "text": [
      "              precision    recall  f1-score   support\n",
      "\n",
      "  Irrelevant       0.91      0.88      0.89       468\n",
      "    Negative       0.92      0.91      0.91       530\n",
      "     Neutral       0.94      0.88      0.91       624\n",
      "    Positive       0.87      0.94      0.91       878\n",
      "\n",
      "    accuracy                           0.91      2500\n",
      "   macro avg       0.91      0.90      0.91      2500\n",
      "weighted avg       0.91      0.91      0.91      2500\n",
      "\n",
      "\n",
      "Training Naive Bayes with mode binary:\n",
      "              precision    recall  f1-score   support\n",
      "\n",
      "  Irrelevant       0.86      0.76      0.81       468\n",
      "    Negative       0.84      0.90      0.87       530\n",
      "     Neutral       0.91      0.73      0.81       624\n",
      "    Positive       0.80      0.93      0.86       878\n",
      "\n",
      "    accuracy                           0.84      2500\n",
      "   macro avg       0.85      0.83      0.84      2500\n",
      "weighted avg       0.85      0.84      0.84      2500\n",
      "\n",
      "\n",
      "Training K-Nearest Neighbors with mode binary:\n",
      "              precision    recall  f1-score   support\n",
      "\n",
      "  Irrelevant       0.82      0.88      0.85       468\n",
      "    Negative       0.78      0.91      0.84       530\n",
      "     Neutral       0.88      0.89      0.88       624\n",
      "    Positive       0.94      0.80      0.87       878\n",
      "\n",
      "    accuracy                           0.86      2500\n",
      "   macro avg       0.85      0.87      0.86      2500\n",
      "weighted avg       0.87      0.86      0.86      2500\n",
      "\n",
      "\n",
      "2. Mode: count\n",
      "Shape of X: (10000, 9431)\n",
      "Example of X:\n",
      "[[0. 1. 2. ... 0. 0. 0.]\n",
      " [0. 0. 1. ... 0. 0. 0.]\n",
      " [0. 0. 1. ... 0. 0. 0.]]\n",
      "\n",
      "Training Logistic Regression with mode count:\n"
     ]
    },
    {
     "name": "stderr",
     "output_type": "stream",
     "text": [
      "c:\\Users\\Snape\\anaconda3\\Lib\\site-packages\\sklearn\\linear_model\\_logistic.py:458: ConvergenceWarning: lbfgs failed to converge (status=1):\n",
      "STOP: TOTAL NO. of ITERATIONS REACHED LIMIT.\n",
      "\n",
      "Increase the number of iterations (max_iter) or scale the data as shown in:\n",
      "    https://scikit-learn.org/stable/modules/preprocessing.html\n",
      "Please also refer to the documentation for alternative solver options:\n",
      "    https://scikit-learn.org/stable/modules/linear_model.html#logistic-regression\n",
      "  n_iter_i = _check_optimize_result(\n"
     ]
    },
    {
     "name": "stdout",
     "output_type": "stream",
     "text": [
      "              precision    recall  f1-score   support\n",
      "\n",
      "  Irrelevant       0.91      0.88      0.90       468\n",
      "    Negative       0.92      0.90      0.91       530\n",
      "     Neutral       0.94      0.88      0.90       624\n",
      "    Positive       0.87      0.94      0.91       878\n",
      "\n",
      "    accuracy                           0.90      2500\n",
      "   macro avg       0.91      0.90      0.90      2500\n",
      "weighted avg       0.91      0.90      0.90      2500\n",
      "\n",
      "\n",
      "Training Naive Bayes with mode count:\n",
      "              precision    recall  f1-score   support\n",
      "\n",
      "  Irrelevant       0.86      0.76      0.80       468\n",
      "    Negative       0.83      0.89      0.86       530\n",
      "     Neutral       0.89      0.72      0.80       624\n",
      "    Positive       0.80      0.92      0.85       878\n",
      "\n",
      "    accuracy                           0.83      2500\n",
      "   macro avg       0.84      0.82      0.83      2500\n",
      "weighted avg       0.84      0.83      0.83      2500\n",
      "\n",
      "\n",
      "Training K-Nearest Neighbors with mode count:\n",
      "              precision    recall  f1-score   support\n",
      "\n",
      "  Irrelevant       0.80      0.88      0.84       468\n",
      "    Negative       0.78      0.90      0.84       530\n",
      "     Neutral       0.87      0.88      0.87       624\n",
      "    Positive       0.94      0.80      0.86       878\n",
      "\n",
      "    accuracy                           0.86      2500\n",
      "   macro avg       0.85      0.86      0.85      2500\n",
      "weighted avg       0.86      0.86      0.86      2500\n",
      "\n",
      "\n",
      "3. Mode: tfidf\n",
      "Shape of X: (10000, 9431)\n",
      "Example of X:\n",
      "[[0.         1.24637136 2.51579481 ... 0.         0.         0.        ]\n",
      " [0.         0.         1.48586894 ... 0.         0.         0.        ]\n",
      " [0.         0.         1.48586894 ... 0.         0.         0.        ]]\n",
      "\n",
      "Training Logistic Regression with mode tfidf:\n"
     ]
    },
    {
     "name": "stderr",
     "output_type": "stream",
     "text": [
      "c:\\Users\\Snape\\anaconda3\\Lib\\site-packages\\sklearn\\linear_model\\_logistic.py:458: ConvergenceWarning: lbfgs failed to converge (status=1):\n",
      "STOP: TOTAL NO. of ITERATIONS REACHED LIMIT.\n",
      "\n",
      "Increase the number of iterations (max_iter) or scale the data as shown in:\n",
      "    https://scikit-learn.org/stable/modules/preprocessing.html\n",
      "Please also refer to the documentation for alternative solver options:\n",
      "    https://scikit-learn.org/stable/modules/linear_model.html#logistic-regression\n",
      "  n_iter_i = _check_optimize_result(\n"
     ]
    },
    {
     "name": "stdout",
     "output_type": "stream",
     "text": [
      "              precision    recall  f1-score   support\n",
      "\n",
      "  Irrelevant       0.89      0.88      0.89       468\n",
      "    Negative       0.91      0.91      0.91       530\n",
      "     Neutral       0.92      0.92      0.92       624\n",
      "    Positive       0.91      0.91      0.91       878\n",
      "\n",
      "    accuracy                           0.91      2500\n",
      "   macro avg       0.91      0.91      0.91      2500\n",
      "weighted avg       0.91      0.91      0.91      2500\n",
      "\n",
      "\n",
      "Training Naive Bayes with mode tfidf:\n",
      "              precision    recall  f1-score   support\n",
      "\n",
      "  Irrelevant       0.83      0.86      0.84       468\n",
      "    Negative       0.87      0.90      0.88       530\n",
      "     Neutral       0.92      0.81      0.86       624\n",
      "    Positive       0.86      0.90      0.88       878\n",
      "\n",
      "    accuracy                           0.87      2500\n",
      "   macro avg       0.87      0.87      0.87      2500\n",
      "weighted avg       0.87      0.87      0.87      2500\n",
      "\n",
      "\n",
      "Training K-Nearest Neighbors with mode tfidf:\n",
      "              precision    recall  f1-score   support\n",
      "\n",
      "  Irrelevant       0.76      0.83      0.80       468\n",
      "    Negative       0.80      0.85      0.83       530\n",
      "     Neutral       0.89      0.86      0.88       624\n",
      "    Positive       0.88      0.84      0.86       878\n",
      "\n",
      "    accuracy                           0.84      2500\n",
      "   macro avg       0.84      0.84      0.84      2500\n",
      "weighted avg       0.85      0.84      0.84      2500\n",
      "\n",
      "\n",
      "4. Mode: freq\n",
      "Shape of X: (10000, 9431)\n",
      "Example of X:\n",
      "[[0.         0.08333333 0.16666667 ... 0.         0.         0.        ]\n",
      " [0.         0.         0.1        ... 0.         0.         0.        ]\n",
      " [0.         0.         0.1        ... 0.         0.         0.        ]]\n",
      "\n",
      "Training Logistic Regression with mode freq:\n"
     ]
    },
    {
     "name": "stderr",
     "output_type": "stream",
     "text": [
      "c:\\Users\\Snape\\anaconda3\\Lib\\site-packages\\sklearn\\linear_model\\_logistic.py:458: ConvergenceWarning: lbfgs failed to converge (status=1):\n",
      "STOP: TOTAL NO. of ITERATIONS REACHED LIMIT.\n",
      "\n",
      "Increase the number of iterations (max_iter) or scale the data as shown in:\n",
      "    https://scikit-learn.org/stable/modules/preprocessing.html\n",
      "Please also refer to the documentation for alternative solver options:\n",
      "    https://scikit-learn.org/stable/modules/linear_model.html#logistic-regression\n",
      "  n_iter_i = _check_optimize_result(\n"
     ]
    },
    {
     "name": "stdout",
     "output_type": "stream",
     "text": [
      "              precision    recall  f1-score   support\n",
      "\n",
      "  Irrelevant       0.66      0.18      0.28       468\n",
      "    Negative       0.64      0.50      0.56       530\n",
      "     Neutral       0.58      0.62      0.60       624\n",
      "    Positive       0.57      0.83      0.67       878\n",
      "\n",
      "    accuracy                           0.59      2500\n",
      "   macro avg       0.61      0.53      0.53      2500\n",
      "weighted avg       0.60      0.59      0.56      2500\n",
      "\n",
      "\n",
      "Training Naive Bayes with mode freq:\n",
      "              precision    recall  f1-score   support\n",
      "\n",
      "  Irrelevant       0.80      0.02      0.03       468\n",
      "    Negative       0.89      0.12      0.22       530\n",
      "     Neutral       0.92      0.29      0.44       624\n",
      "    Positive       0.39      0.99      0.56       878\n",
      "\n",
      "    accuracy                           0.45      2500\n",
      "   macro avg       0.75      0.36      0.31      2500\n",
      "weighted avg       0.70      0.45      0.36      2500\n",
      "\n",
      "\n",
      "Training K-Nearest Neighbors with mode freq:\n",
      "              precision    recall  f1-score   support\n",
      "\n",
      "  Irrelevant       0.88      0.84      0.86       468\n",
      "    Negative       0.88      0.92      0.90       530\n",
      "     Neutral       0.78      0.92      0.85       624\n",
      "    Positive       0.94      0.81      0.87       878\n",
      "\n",
      "    accuracy                           0.87      2500\n",
      "   macro avg       0.87      0.87      0.87      2500\n",
      "weighted avg       0.88      0.87      0.87      2500\n",
      "\n",
      "[[0.906, 0.84, 0.8612], [0.9048, 0.8328, 0.8552], [0.9076, 0.8708, 0.8436], [0.5852, 0.4496, 0.8688]]\n"
     ]
    }
   ],
   "source": [
    "# Define modes and models\n",
    "modes = ['binary', 'count', 'tfidf', 'freq']  # Note: 'freq' is equivalent to 'count' mode\n",
    "models = {\n",
    "    'Logistic Regression': LogisticRegression(),\n",
    "    'Naive Bayes': MultinomialNB(),\n",
    "    'K-Nearest Neighbors': KNeighborsClassifier()\n",
    "}\n",
    "list_accuracy = []\n",
    "# Initialize dictionaries to store average accuracies\n",
    "average_accuracies = {model_name: 0 for model_name in models}\n",
    "\n",
    "for mode_idx, mode in enumerate(modes, start=1):\n",
    "    X = t.texts_to_matrix(texts, mode=mode)\n",
    "\n",
    "    print(f\"\\n{mode_idx}. Mode: {mode}\")\n",
    "    print(f\"Shape of X: {X.shape}\")\n",
    "    print(f\"Example of X:\\n{X[:3]}\")\n",
    "\n",
    "    # Split data into training and testing sets\n",
    "    X_train, X_test, y_train, y_test = train_test_split(X, y, random_state=42, test_size=0.25)\n",
    "    modes_accuracy = []\n",
    "    # Train and evaluate each model\n",
    "    for model_name, model in models.items():\n",
    "        print(f\"\\nTraining {model_name} with mode {mode}:\")\n",
    "        model.fit(X_train, y_train)\n",
    "\n",
    "        # Make predictions\n",
    "        y_pred = model.predict(X_test)\n",
    "\n",
    "        # Calculate accuracy\n",
    "        accuracy = accuracy_score(y_test, y_pred)\n",
    "        modes_accuracy.append(accuracy)\n",
    "        # Aggregate accuracy\n",
    "        average_accuracies[model_name] += accuracy\n",
    "        \n",
    "        print(classification_report(y_test, y_pred))\n",
    "        \n",
    "    list_accuracy.append(modes_accuracy)\n",
    "\n",
    "# Calculate average accuracy\n",
    "total_modes = len(modes)\n",
    "for model_name in average_accuracies:\n",
    "    average_accuracies[model_name] /= total_modes\n",
    "\n",
    "print(list_accuracy)"
   ]
  },
  {
   "cell_type": "code",
   "execution_count": 57,
   "metadata": {},
   "outputs": [
    {
     "data": {
      "image/png": "[encoded data removed]",
      "text/plain": [
       "<Figure size 800x600 with 1 Axes>"
      ]
     },
     "metadata": {},
     "output_type": "display_data"
    },
    {
     "data": {
      "image/png": "[encoded data removed]",
      "text/plain": [
       "<Figure size 800x600 with 1 Axes>"
      ]
     },
     "metadata": {},
     "output_type": "display_data"
    },
    {
     "data": {
      "image/png": "[encoded data removed]",
      "text/plain": [
       "<Figure size 800x600 with 1 Axes>"
      ]
     },
     "metadata": {},
     "output_type": "display_data"
    },
    {
     "data": {
      "image/png": "[encoded data removed]",
      "text/plain": [
       "<Figure size 800x600 with 1 Axes>"
      ]
     },
     "metadata": {},
     "output_type": "display_data"
    }
   ],
   "source": [
    "models = ['Logistic Regression', 'Naive Bayes', 'K-Nearest Neighbors']\n",
    "\n",
    "# List of accuracies for each mode and model\n",
    "# Plotting\n",
    "for i, mode in enumerate(modes):\n",
    "    plt.figure(figsize=(8, 6))\n",
    "    plt.bar(models, list_accuracy[i])\n",
    "    plt.title(f'Accuracy comparison for mode: {mode}')\n",
    "    plt.xlabel('Model')\n",
    "    plt.ylabel('Accuracy')\n",
    "    plt.ylim(0, 1)\n",
    "    plt.show()"
   ]
  },
  {
   "cell_type": "code",
   "execution_count": 58,
   "metadata": {},
   "outputs": [
    {
     "name": "stdout",
     "output_type": "stream",
     "text": [
      "\n",
      "Average Accuracies:\n",
      "Logistic Regression: 0.8259\n",
      "Naive Bayes: 0.7483\n",
      "K-Nearest Neighbors: 0.8572\n"
     ]
    }
   ],
   "source": [
    "# Print average accuracies\n",
    "print(\"\\nAverage Accuracies:\")\n",
    "for model_name, accuracy in average_accuracies.items():\n",
    "    print(f\"{model_name}: {accuracy:.4f}\")"
   ]
  }
 ],
 "metadata": {
  "kernelspec": {
   "display_name": "base",
   "language": "python",
   "name": "python3"
  },
  "language_info": {
   "codemirror_mode": {
    "name": "ipython",
    "version": 3
   },
   "file_extension": ".py",
   "mimetype": "text/x-python",
   "name": "python",
   "nbconvert_exporter": "python",
   "pygments_lexer": "ipython3",
   "version": "3.11.5"
  }
 },
 "nbformat": 4,
 "nbformat_minor": 2
}
