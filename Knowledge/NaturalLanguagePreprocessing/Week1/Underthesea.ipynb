{
 "cells": [
  {
   "cell_type": "code",
   "execution_count": 1,
   "metadata": {},
   "outputs": [],
   "source": [
    "# from underthesea import sent_tokenize, word_tokenize\n",
    "import underthesea as ud\n"
   ]
  },
  {
   "cell_type": "code",
   "execution_count": 2,
   "metadata": {},
   "outputs": [
    {
     "data": {
      "text/plain": [
       "['Taylor cho biết lúc đầu cô cảm thấy ngại với cô bạn thân Amanda nhưng rồi mọi thứ trôi qua nhanh chóng.',\n",
       " 'Amanda cũng thoải mái với mối quan hệ này.']"
      ]
     },
     "execution_count": 2,
     "metadata": {},
     "output_type": "execute_result"
    }
   ],
   "source": [
    "text = 'Taylor cho biết lúc đầu cô cảm thấy ngại với cô bạn thân Amanda nhưng rồi mọi thứ trôi qua nhanh chóng. Amanda cũng thoải mái với mối quan hệ này.'\n",
    "ud.sent_tokenize(text)"
   ]
  },
  {
   "cell_type": "code",
   "execution_count": 3,
   "metadata": {},
   "outputs": [
    {
     "data": {
      "text/plain": [
       "['Chàng', 'trai', '9X', 'Quảng Trị', 'khởi nghiệp', 'từ', 'nấm', 'sò']"
      ]
     },
     "execution_count": 3,
     "metadata": {},
     "output_type": "execute_result"
    }
   ],
   "source": [
    "sentence = 'Chàng trai 9X Quảng Trị khởi nghiệp từ nấm sò'\n",
    "ud.word_tokenize(sentence)"
   ]
  },
  {
   "cell_type": "code",
   "execution_count": 4,
   "metadata": {},
   "outputs": [
    {
     "data": {
      "text/plain": [
       "[('Chợ', 'N'),\n",
       " ('thịt', 'N'),\n",
       " ('chó', 'N'),\n",
       " ('nổi tiếng', 'A'),\n",
       " ('ở', 'E'),\n",
       " ('Sài Gòn', 'Np'),\n",
       " ('bị', 'V'),\n",
       " ('truy quét', 'V')]"
      ]
     },
     "execution_count": 4,
     "metadata": {},
     "output_type": "execute_result"
    }
   ],
   "source": [
    "ud.pos_tag('Chợ thịt chó nổi tiếng ở Sài Gòn bị truy quét')"
   ]
  },
  {
   "cell_type": "code",
   "execution_count": 5,
   "metadata": {},
   "outputs": [
    {
     "data": {
      "text/plain": [
       "[('Nghi vấn', 'N', 'B-NP'),\n",
       " ('4', 'M', 'B-NP'),\n",
       " ('thi thể', 'N', 'B-NP'),\n",
       " ('Triều Tiên', 'Np', 'B-NP'),\n",
       " ('trôi dạt', 'V', 'B-VP'),\n",
       " ('bờ', 'N', 'B-NP'),\n",
       " ('biển', 'N', 'B-NP'),\n",
       " ('Nhật Bản', 'Np', 'B-NP')]"
      ]
     },
     "execution_count": 5,
     "metadata": {},
     "output_type": "execute_result"
    }
   ],
   "source": [
    "ud.chunk('Nghi vấn 4 thi thể Triều Tiên trôi dạt bờ biển Nhật Bản')"
   ]
  },
  {
   "cell_type": "markdown",
   "metadata": {},
   "source": [
    "## Read file text"
   ]
  },
  {
   "cell_type": "markdown",
   "metadata": {},
   "source": [
    "### Preprocessing\n",
    "* Tokenizing the string\n",
    "* Lowercasing\n",
    "* Removing stop words and punctuation\n",
    "* Stemming"
   ]
  },
  {
   "cell_type": "code",
   "execution_count": 16,
   "metadata": {},
   "outputs": [
    {
     "name": "stdout",
     "output_type": "stream",
     "text": [
      "Lý do ra đời của dự án này cũng thật đặc biệt, tôi rất thích phân tích dữ liệu với Python và thử áp dụng vào việc phân tích đầu tư thực tế để nâng cao kỹ năng kỹ thuật và rèn luyện tư duy. Hellooooo @VU @tdtu #iloveyou,   my name is vu, i from viet name. \n",
      "\n"
     ]
    }
   ],
   "source": [
    "f = open(\"data/text.txt\", \"r\")\n",
    "text = f.read()\n",
    "print(text)"
   ]
  },
  {
   "cell_type": "code",
   "execution_count": 17,
   "metadata": {},
   "outputs": [
    {
     "data": {
      "text/plain": [
       "['Lý do',\n",
       " 'ra đời',\n",
       " 'của',\n",
       " 'dự án',\n",
       " 'này',\n",
       " 'cũng',\n",
       " 'thật',\n",
       " 'đặc biệt',\n",
       " ',',\n",
       " 'tôi',\n",
       " 'rất',\n",
       " 'thích',\n",
       " 'phân tích',\n",
       " 'dữ liệu',\n",
       " 'với',\n",
       " 'Python',\n",
       " 'và',\n",
       " 'thử',\n",
       " 'áp dụng',\n",
       " 'vào',\n",
       " 'việc',\n",
       " 'phân tích',\n",
       " 'đầu tư',\n",
       " 'thực tế',\n",
       " 'để',\n",
       " 'nâng',\n",
       " 'cao',\n",
       " 'kỹ năng',\n",
       " 'kỹ thuật',\n",
       " 'và',\n",
       " 'rèn luyện',\n",
       " 'tư duy',\n",
       " '.',\n",
       " 'Hellooooo',\n",
       " '@ VU',\n",
       " '@ tdtu',\n",
       " '# iloveyou',\n",
       " ',',\n",
       " 'my',\n",
       " 'name',\n",
       " 'is vu',\n",
       " ',',\n",
       " 'i',\n",
       " 'from',\n",
       " 'viet',\n",
       " 'name',\n",
       " '.']"
      ]
     },
     "execution_count": 17,
     "metadata": {},
     "output_type": "execute_result"
    }
   ],
   "source": [
    "ud.word_tokenize(text)"
   ]
  },
  {
   "cell_type": "code",
   "execution_count": 18,
   "metadata": {},
   "outputs": [
    {
     "data": {
      "text/plain": [
       "[('Lý do', 'N'),\n",
       " ('ra đời', 'V'),\n",
       " ('của', 'E'),\n",
       " ('dự án', 'N'),\n",
       " ('này', 'P'),\n",
       " ('cũng', 'R'),\n",
       " ('thật', 'T'),\n",
       " ('đặc biệt', 'A'),\n",
       " (',', 'CH'),\n",
       " ('tôi', 'P'),\n",
       " ('rất', 'R'),\n",
       " ('thích', 'V'),\n",
       " ('phân tích', 'V'),\n",
       " ('dữ liệu', 'V'),\n",
       " ('với', 'E'),\n",
       " ('Python', 'Np'),\n",
       " ('và', 'C'),\n",
       " ('thử', 'V'),\n",
       " ('áp dụng', 'V'),\n",
       " ('vào', 'E'),\n",
       " ('việc', 'N'),\n",
       " ('phân tích', 'V'),\n",
       " ('đầu tư', 'V'),\n",
       " ('thực tế', 'N'),\n",
       " ('để', 'E'),\n",
       " ('nâng', 'V'),\n",
       " ('cao', 'A'),\n",
       " ('kỹ năng', 'N'),\n",
       " ('kỹ thuật', 'N'),\n",
       " ('và', 'C'),\n",
       " ('rèn luyện', 'V'),\n",
       " ('tư duy', 'N'),\n",
       " ('.', 'CH'),\n",
       " ('Hellooooo', 'Np'),\n",
       " ('@ VU', 'V'),\n",
       " ('@ tdtu', 'N'),\n",
       " ('# iloveyou', 'N'),\n",
       " (',', 'CH'),\n",
       " ('my', 'N'),\n",
       " ('name', 'V'),\n",
       " ('is vu', 'N'),\n",
       " (',', 'CH'),\n",
       " ('i', 'M'),\n",
       " ('from', 'N'),\n",
       " ('viet', 'V'),\n",
       " ('name', 'N'),\n",
       " ('.', 'CH')]"
      ]
     },
     "execution_count": 18,
     "metadata": {},
     "output_type": "execute_result"
    }
   ],
   "source": [
    "ud.pos_tag(text)"
   ]
  },
  {
   "cell_type": "code",
   "execution_count": 19,
   "metadata": {},
   "outputs": [
    {
     "data": {
      "text/plain": [
       "[('Lý do', 'N', 'B-NP'),\n",
       " ('ra đời', 'V', 'B-VP'),\n",
       " ('của', 'E', 'B-PP'),\n",
       " ('dự án', 'N', 'B-NP'),\n",
       " ('này', 'P', 'B-NP'),\n",
       " ('cũng', 'R', 'O'),\n",
       " ('thật', 'T', 'O'),\n",
       " ('đặc biệt', 'A', 'B-AP'),\n",
       " (',', 'CH', 'O'),\n",
       " ('tôi', 'P', 'B-NP'),\n",
       " ('rất', 'R', 'O'),\n",
       " ('thích', 'V', 'B-VP'),\n",
       " ('phân tích', 'V', 'B-VP'),\n",
       " ('dữ liệu', 'V', 'B-VP'),\n",
       " ('với', 'E', 'B-PP'),\n",
       " ('Python', 'Np', 'B-NP'),\n",
       " ('và', 'C', 'O'),\n",
       " ('thử', 'V', 'B-VP'),\n",
       " ('áp dụng', 'V', 'B-VP'),\n",
       " ('vào', 'E', 'B-PP'),\n",
       " ('việc', 'N', 'B-NP'),\n",
       " ('phân tích', 'V', 'B-VP'),\n",
       " ('đầu tư', 'V', 'B-VP'),\n",
       " ('thực tế', 'N', 'B-NP'),\n",
       " ('để', 'E', 'B-PP'),\n",
       " ('nâng', 'V', 'B-VP'),\n",
       " ('cao', 'A', 'B-AP'),\n",
       " ('kỹ năng', 'N', 'B-NP'),\n",
       " ('kỹ thuật', 'N', 'B-NP'),\n",
       " ('và', 'C', 'O'),\n",
       " ('rèn luyện', 'V', 'B-VP'),\n",
       " ('tư duy', 'N', 'B-NP'),\n",
       " ('.', 'CH', 'O'),\n",
       " ('Hellooooo', 'Np', 'B-NP'),\n",
       " ('@ VU', 'V', 'B-VP'),\n",
       " ('@ tdtu', 'N', 'B-NP'),\n",
       " ('# iloveyou', 'N', 'B-NP'),\n",
       " (',', 'CH', 'O'),\n",
       " ('my', 'N', 'B-NP'),\n",
       " ('name', 'V', 'B-VP'),\n",
       " ('is vu', 'N', 'B-NP'),\n",
       " (',', 'CH', 'O'),\n",
       " ('i', 'M', 'B-NP'),\n",
       " ('from', 'N', 'B-NP'),\n",
       " ('viet', 'V', 'B-VP'),\n",
       " ('name', 'N', 'B-NP'),\n",
       " ('.', 'CH', 'O')]"
      ]
     },
     "execution_count": 19,
     "metadata": {},
     "output_type": "execute_result"
    }
   ],
   "source": [
    "ud.chunk(text)"
   ]
  },
  {
   "cell_type": "code",
   "execution_count": 27,
   "metadata": {},
   "outputs": [],
   "source": [
    "import re                                  # library for regular expression operations\n",
    "import string                              # for string operations\n",
    "\n",
    "from nltk.corpus import stopwords          # module for stop words that come with NLTK\n",
    "from nltk.stem import PorterStemmer        # module for stemming\n",
    "from nltk.tokenize import TweetTokenizer   # module for tokenizing strings\n",
    "import numpy as np\n",
    "from utils import process_tweet, build_freqs"
   ]
  },
  {
   "cell_type": "code",
   "execution_count": 31,
   "metadata": {},
   "outputs": [
    {
     "name": "stdout",
     "output_type": "stream",
     "text": [
      "['lý', 'ra', 'đời', 'của', 'dự', 'án', 'nài', 'cũng', 'thật', 'đặc', 'biệt', 'tôi', 'rất', 'thích', 'phân', 'tích', 'dữ', 'liệu', 'với', 'python', 'và', 'thử', 'áp', 'dụng', 'vào', 'việc', 'phân', 'tích', 'đầu', 'tư', 'thực', 'tế', 'để', 'nâng', 'cao', 'kỹ', 'năng', 'kỹ', 'thuật', 'và', 'rèn', 'luyện', 'tư', 'duy', 'hellooo', 'ilovey', 'name', 'vu', 'viet', 'name']\n"
     ]
    }
   ],
   "source": [
    "result_cleaned = process_tweet(text)\n",
    "print(result_cleaned)"
   ]
  },
  {
   "cell_type": "code",
   "execution_count": 33,
   "metadata": {},
   "outputs": [
    {
     "name": "stdout",
     "output_type": "stream",
     "text": [
      "['lý', 'ra', 'đời', 'của', 'dự', 'án', 'nài', 'cũng', 'thật', 'đặc', 'biệt', 'tôi', 'rất', 'thích', 'phân', 'tích', 'dữ', 'liệu', 'với', 'python', 'và', 'thử', 'áp', 'dụng', 'vào', 'việc', 'phân', 'tích', 'đầu', 'tư', 'thực', 'tế', 'để', 'nâng', 'cao', 'kỹ', 'năng', 'kỹ', 'thuật', 'và', 'rèn', 'luyện', 'tư', 'duy', 'hellooo', 'ilovey', 'name', 'vu', 'viet', 'name']\n"
     ]
    }
   ],
   "source": [
    "print(result_cleaned)"
   ]
  },
  {
   "cell_type": "code",
   "execution_count": 37,
   "metadata": {},
   "outputs": [],
   "source": [
    "from collections import Counter"
   ]
  },
  {
   "cell_type": "code",
   "execution_count": 69,
   "metadata": {},
   "outputs": [],
   "source": [
    "def generate_ngrams(tokens, n=2):\n",
    "    \"\"\"Generate n-grams from a list of tokens.\"\"\"\n",
    "    ngrams = []\n",
    "    for i in range(len(tokens) - n + 1):\n",
    "        ngram = ' '.join(tokens[i:i+n])\n",
    "        ngrams.append(ngram)\n",
    "    return ngrams\n",
    "\n",
    "def build_ngram_model(ngrams, n = 2):\n",
    "    ngram_counts = Counter(ngrams)\n",
    "    total_ngrams = len(ngrams)\n",
    "    # Calculate probabilities\n",
    "    ngram_probabilities = {ngram: count / total_ngrams for ngram, count in ngram_counts.items()}\n",
    "    sorted_ngram_model = sorted(ngram_probabilities.items(), key=lambda x: x[1], reverse=True)\n",
    "    return sorted_ngram_model \n",
    "\n",
    "def printNgram(ngram_model):\n",
    "    for ngram, probability in ngram_model:\n",
    "        print(f\"{ngram}: {probability}\")"
   ]
  },
  {
   "cell_type": "code",
   "execution_count": null,
   "metadata": {},
   "outputs": [],
   "source": []
  },
  {
   "cell_type": "code",
   "execution_count": 70,
   "metadata": {},
   "outputs": [
    {
     "name": "stdout",
     "output_type": "stream",
     "text": [
      "phân tích: 0.04081632653061224\n",
      "lý ra: 0.02040816326530612\n",
      "ra đời: 0.02040816326530612\n",
      "đời của: 0.02040816326530612\n",
      "của dự: 0.02040816326530612\n",
      "dự án: 0.02040816326530612\n",
      "án nài: 0.02040816326530612\n",
      "nài cũng: 0.02040816326530612\n",
      "cũng thật: 0.02040816326530612\n",
      "thật đặc: 0.02040816326530612\n",
      "đặc biệt: 0.02040816326530612\n",
      "biệt tôi: 0.02040816326530612\n",
      "tôi rất: 0.02040816326530612\n",
      "rất thích: 0.02040816326530612\n",
      "thích phân: 0.02040816326530612\n",
      "tích dữ: 0.02040816326530612\n",
      "dữ liệu: 0.02040816326530612\n",
      "liệu với: 0.02040816326530612\n",
      "với python: 0.02040816326530612\n",
      "python và: 0.02040816326530612\n",
      "và thử: 0.02040816326530612\n",
      "thử áp: 0.02040816326530612\n",
      "áp dụng: 0.02040816326530612\n",
      "dụng vào: 0.02040816326530612\n",
      "vào việc: 0.02040816326530612\n",
      "việc phân: 0.02040816326530612\n",
      "tích đầu: 0.02040816326530612\n",
      "đầu tư: 0.02040816326530612\n",
      "tư thực: 0.02040816326530612\n",
      "thực tế: 0.02040816326530612\n",
      "tế để: 0.02040816326530612\n",
      "để nâng: 0.02040816326530612\n",
      "nâng cao: 0.02040816326530612\n",
      "cao kỹ: 0.02040816326530612\n",
      "kỹ năng: 0.02040816326530612\n",
      "năng kỹ: 0.02040816326530612\n",
      "kỹ thuật: 0.02040816326530612\n",
      "thuật và: 0.02040816326530612\n",
      "và rèn: 0.02040816326530612\n",
      "rèn luyện: 0.02040816326530612\n",
      "luyện tư: 0.02040816326530612\n",
      "tư duy: 0.02040816326530612\n",
      "duy hellooo: 0.02040816326530612\n",
      "hellooo ilovey: 0.02040816326530612\n",
      "ilovey name: 0.02040816326530612\n",
      "name vu: 0.02040816326530612\n",
      "vu viet: 0.02040816326530612\n",
      "viet name: 0.02040816326530612\n"
     ]
    }
   ],
   "source": [
    "list_ngrams = generate_ngrams(result_cleaned, 2)\n",
    "\n",
    "ngram_model = build_ngram_model(list_ngrams, n = 2)\n",
    "# Print the 2-gram model\n",
    "\n",
    "printNgram(ngram_model)\n",
    "# list_ngrams"
   ]
  },
  {
   "cell_type": "markdown",
   "metadata": {},
   "source": [
    "## Test2"
   ]
  },
  {
   "cell_type": "code",
   "execution_count": 47,
   "metadata": {},
   "outputs": [
    {
     "name": "stdout",
     "output_type": "stream",
     "text": [
      "Trong buổi học hôm nay, giáo viên đã nhấn mạnh rằng rất quan trọng để học hành chăm chỉ. Nhiều học sinh đã không chăm chỉ trong việc học tập, dẫn đến kết quả kém cỏi. Tuy nhiên, việc học hành chăm chỉ không chỉ là trách nhiệm của học sinh mà còn là trách nhiệm của gia đình và xã hội. Hãy nhớ rằng học hành chăm chỉ sẽ mang lại thành công trong tương lai.\n",
      "\n"
     ]
    }
   ],
   "source": [
    "f = open(\"data/text2.txt\", \"r\")\n",
    "text2 = f.read()\n",
    "print(text2)"
   ]
  },
  {
   "cell_type": "code",
   "execution_count": null,
   "metadata": {},
   "outputs": [],
   "source": [
    "cleaned_text2 = process_tweet(text2)\n",
    "# cleaned_text2"
   ]
  },
  {
   "cell_type": "code",
   "execution_count": null,
   "metadata": {},
   "outputs": [],
   "source": [
    "ngram_counts = Counter(ngrams)"
   ]
  },
  {
   "cell_type": "code",
   "execution_count": 71,
   "metadata": {},
   "outputs": [
    {
     "name": "stdout",
     "output_type": "stream",
     "text": [
      "chăm chỉ: 0.05263157894736842\n",
      "học hành: 0.039473684210526314\n",
      "hành chăm: 0.039473684210526314\n",
      "học sinh: 0.02631578947368421\n",
      "việc học: 0.02631578947368421\n",
      "là trách: 0.02631578947368421\n",
      "trách nhiệm: 0.02631578947368421\n",
      "nhiệm của: 0.02631578947368421\n",
      "trong buổi: 0.013157894736842105\n",
      "buổi học: 0.013157894736842105\n",
      "học hôm: 0.013157894736842105\n",
      "hôm nay: 0.013157894736842105\n",
      "nay giáo: 0.013157894736842105\n",
      "giáo viên: 0.013157894736842105\n",
      "viên đã: 0.013157894736842105\n",
      "đã nhấn: 0.013157894736842105\n",
      "nhấn mạnh: 0.013157894736842105\n",
      "mạnh rằng: 0.013157894736842105\n",
      "rằng rất: 0.013157894736842105\n",
      "rất quan: 0.013157894736842105\n",
      "quan trọng: 0.013157894736842105\n",
      "trọng để: 0.013157894736842105\n",
      "để học: 0.013157894736842105\n",
      "chỉ nhiều: 0.013157894736842105\n",
      "nhiều học: 0.013157894736842105\n",
      "sinh đã: 0.013157894736842105\n",
      "đã không: 0.013157894736842105\n",
      "không chăm: 0.013157894736842105\n",
      "chỉ trong: 0.013157894736842105\n",
      "trong việc: 0.013157894736842105\n",
      "học tập: 0.013157894736842105\n",
      "tập dẫn: 0.013157894736842105\n",
      "dẫn đến: 0.013157894736842105\n",
      "đến kết: 0.013157894736842105\n",
      "kết quả: 0.013157894736842105\n",
      "quả kém: 0.013157894736842105\n",
      "kém cỏi: 0.013157894736842105\n",
      "cỏi tuy: 0.013157894736842105\n",
      "tuy nhiên: 0.013157894736842105\n",
      "nhiên việc: 0.013157894736842105\n",
      "chỉ không: 0.013157894736842105\n",
      "không chỉ: 0.013157894736842105\n",
      "chỉ là: 0.013157894736842105\n",
      "của học: 0.013157894736842105\n",
      "sinh mà: 0.013157894736842105\n",
      "mà còn: 0.013157894736842105\n",
      "còn là: 0.013157894736842105\n",
      "của gia: 0.013157894736842105\n",
      "gia đình: 0.013157894736842105\n",
      "đình và: 0.013157894736842105\n",
      "và xã: 0.013157894736842105\n",
      "xã hội: 0.013157894736842105\n",
      "hội hãi: 0.013157894736842105\n",
      "hãi nhớ: 0.013157894736842105\n",
      "nhớ rằng: 0.013157894736842105\n",
      "rằng học: 0.013157894736842105\n",
      "chỉ sẽ: 0.013157894736842105\n",
      "sẽ mang: 0.013157894736842105\n",
      "mang lại: 0.013157894736842105\n",
      "lại thành: 0.013157894736842105\n",
      "thành công: 0.013157894736842105\n",
      "công trong: 0.013157894736842105\n",
      "trong tương: 0.013157894736842105\n",
      "tương lai: 0.013157894736842105\n"
     ]
    }
   ],
   "source": [
    "list_ngrams_2 = generate_ngrams(cleaned_text2, 2)\n",
    "\n",
    "ngram_model_2 = build_ngram_model(list_ngrams_2, n = 2)\n",
    "# Print the 2-gram moded\n",
    "printNgram(ngram_model_2)"
   ]
  }
 ],
 "metadata": {
  "kernelspec": {
   "display_name": "cpVision",
   "language": "python",
   "name": "python3"
  },
  "language_info": {
   "codemirror_mode": {
    "name": "ipython",
    "version": 3
   },
   "file_extension": ".py",
   "mimetype": "text/x-python",
   "name": "python",
   "nbconvert_exporter": "python",
   "pygments_lexer": "ipython3",
   "version": "3.10.14"
  }
 },
 "nbformat": 4,
 "nbformat_minor": 2
}
