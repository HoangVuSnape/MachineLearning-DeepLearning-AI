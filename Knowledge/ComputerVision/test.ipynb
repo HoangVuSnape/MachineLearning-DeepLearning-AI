{
 "cells": [
  {
   "cell_type": "code",
   "execution_count": 2,
   "metadata": {},
   "outputs": [],
   "source": [
    "import cv2\n",
    "import numpy as np\n",
    "import matplotlib.pyplot as plt"
   ]
  },
  {
   "cell_type": "code",
   "execution_count": 4,
   "metadata": {},
   "outputs": [
    {
     "ename": "error",
     "evalue": "OpenCV(4.8.1) D:\\a\\opencv-python\\opencv-python\\opencv\\modules\\imgproc\\src\\resize.cpp:4062: error: (-215:Assertion failed) !ssize.empty() in function 'cv::resize'\n",
     "output_type": "error",
     "traceback": [
      "\u001b[1;31m---------------------------------------------------------------------------\u001b[0m",
      "\u001b[1;31merror\u001b[0m                                     Traceback (most recent call last)",
      "Cell \u001b[1;32mIn[4], line 4\u001b[0m\n\u001b[0;32m      1\u001b[0m image \u001b[38;5;241m=\u001b[39m cv2\u001b[38;5;241m.\u001b[39mimread(\u001b[38;5;124m\"\u001b[39m\u001b[38;5;124mWeek2/image/baboo.png\u001b[39m\u001b[38;5;124m\"\u001b[39m)\n\u001b[0;32m      2\u001b[0m \u001b[38;5;66;03m# Loading the image\u001b[39;00m\n\u001b[1;32m----> 4\u001b[0m half \u001b[38;5;241m=\u001b[39m cv2\u001b[38;5;241m.\u001b[39mresize(image, (\u001b[38;5;241m0\u001b[39m, \u001b[38;5;241m0\u001b[39m), fx \u001b[38;5;241m=\u001b[39m \u001b[38;5;241m0.1\u001b[39m, fy \u001b[38;5;241m=\u001b[39m \u001b[38;5;241m0.1\u001b[39m)\n\u001b[0;32m      5\u001b[0m bigger \u001b[38;5;241m=\u001b[39m cv2\u001b[38;5;241m.\u001b[39mresize(image, (\u001b[38;5;241m1050\u001b[39m, \u001b[38;5;241m1610\u001b[39m))\n\u001b[0;32m      7\u001b[0m stretch_near \u001b[38;5;241m=\u001b[39m cv2\u001b[38;5;241m.\u001b[39mresize(image, (\u001b[38;5;241m780\u001b[39m, \u001b[38;5;241m540\u001b[39m), \n\u001b[0;32m      8\u001b[0m \t\t\tinterpolation \u001b[38;5;241m=\u001b[39m cv2\u001b[38;5;241m.\u001b[39mINTER_LINEAR)\n",
      "\u001b[1;31merror\u001b[0m: OpenCV(4.8.1) D:\\a\\opencv-python\\opencv-python\\opencv\\modules\\imgproc\\src\\resize.cpp:4062: error: (-215:Assertion failed) !ssize.empty() in function 'cv::resize'\n"
     ]
    }
   ],
   "source": [
    "\n",
    "\n",
    "image = cv2.imread(\"Week2/image/baboo.png\")\n",
    "# Loading the image\n",
    "\n",
    "half = cv2.resize(image, (0, 0), fx = 0.1, fy = 0.1)\n",
    "bigger = cv2.resize(image, (1050, 1610))\n",
    "\n",
    "stretch_near = cv2.resize(image, (780, 540), \n",
    "\t\t\tinterpolation = cv2.INTER_LINEAR)\n",
    "\n",
    "\n",
    "Titles =[\"Original\", \"Half\", \"Bigger\", \"Interpolation Nearest\"]\n",
    "images =[image, half, bigger, stretch_near]\n",
    "count = 4\n",
    "\n",
    "for i in range(count):\n",
    "\tplt.subplot(2, 2, i + 1)\n",
    "\tplt.title(Titles[i])\n",
    "\tplt.imshow(images[i])\n",
    "\n",
    "plt.show()\n"
   ]
  }
 ],
 "metadata": {
  "kernelspec": {
   "display_name": "base",
   "language": "python",
   "name": "python3"
  },
  "language_info": {
   "codemirror_mode": {
    "name": "ipython",
    "version": 3
   },
   "file_extension": ".py",
   "mimetype": "text/x-python",
   "name": "python",
   "nbconvert_exporter": "python",
   "pygments_lexer": "ipython3",
   "version": "3.11.5"
  }
 },
 "nbformat": 4,
 "nbformat_minor": 2
}
