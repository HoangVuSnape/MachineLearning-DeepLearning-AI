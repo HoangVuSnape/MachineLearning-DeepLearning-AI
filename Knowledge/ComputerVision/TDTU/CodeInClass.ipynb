{
 "cells": [
  {
   "cell_type": "code",
   "execution_count": 2,
   "metadata": {},
   "outputs": [],
   "source": [
    "import numpy as np\n",
    "import cv2 as cv\n",
    "import matplotlib.pyplot as plt\n"
   ]
  },
  {
   "cell_type": "code",
   "execution_count": null,
   "metadata": {},
   "outputs": [],
   "source": [
    "import cv2 as cv\n",
    "import numpy as np\n",
    "\n",
    "#img = cv.imread(r'E:\\Backup2023\\XLA\\Theory\\EXERCISES\\T1.png', 1)\n",
    "\n",
    "#ret,thresh = cv.threshold(img,70,255,0)\n",
    "print(\"\\n\")\n",
    "#print(img)\n",
    "#print(\"\\ndtype = \", img.dtype)\n",
    "#cv.imwrite( r'E:\\Backup2023\\XLA\\Theory\\EXERCISES\\ex1_bw.jpg', thresh)\n",
    "#cv.imwrite( r'E:\\Backup2023\\XLA\\Theory\\EXERCISES\\ex1_gray.jpg', img)\n",
    "#cv.imwrite( r'E:\\Backup2023\\XLA\\Theory\\EXERCISES\\ex1_rgb.jpg', img)\n",
    "\n",
    "\n",
    "dip00_1 = np.array([\n",
    "\t\t\t\t\t[ [0, 0, 255], [0, 255, 0], [255, 0, 0] ],\n",
    "\t\t\t\t\t[ [255, 0, 0], [255, 0, 255], [0, 0, 255] ]\n",
    "\t\t\t\t   ]\n",
    "\t\t\t\t   \n",
    "\t\t\t\t, dtype=np.uint8)\n",
    "\n",
    "print(\"\\n\")\n",
    "print(dip00_1)\n",
    "\n",
    "cv.imwrite( r'C:\\Users\\Admin\\Downloads\\dip00_1.png', dip00_1)\n",
    "\n",
    "##-----------------------------------------------\n",
    "dip00_2 = np.array([\n",
    "\t\t\t\t\t[ 0, 0, 0, 0, 0 ],\n",
    "\t\t\t\t\t[ 0, 255, 255, 255, 0 ],\n",
    "\t\t\t\t\t[ 0, 255, 255, 255, 0 ],\n",
    "\t\t\t\t\t[ 0, 0, 0, 0, 0 ]\n",
    "\t\t\t\t   ]\n",
    "\t\t\t\t   \n",
    "\t\t\t\t, dtype=np.uint8)\n",
    "\n",
    "print(\"\\n\")\n",
    "print(dip00_2)\n",
    "\n",
    "cv.imwrite( r'C:\\Users\\Admin\\Downloads\\dip00_2.jpg', dip00_2)\n",
    "\n",
    "##-----------------------------------------------\n",
    "dip00_5 = np.array([\n",
    "\t\t\t\t\t[ 0, 255, 255, 255, 0 ],\n",
    "\t\t\t\t\t[ 0, 190, 190, 190, 0 ],\n",
    "\t\t\t\t\t[ 0, 127, 127, 127, 0 ],\n",
    "\t\t\t\t\t[ 0, 0, 0, 0, 0 ]\n",
    "\t\t\t\t   ]\n",
    "\t\t\t\t   \n",
    "\t\t\t\t, dtype=np.uint8)\n",
    "\n",
    "#print(\"\\n\", dip00_5)\n",
    "#cv.imwrite( r'E:\\Backup2023\\XLA\\Theory\\EXERCISES\\dip00_5.png', dip00_5)\n",
    "\n",
    "##-----------------------------------------------\n",
    "#b,g,r = cv.split(dip00_1)\n",
    "\n",
    "#print(\"\\n\", b)\n",
    "#print(\"\\n\", g)\n",
    "#print(\"\\n\", r)\n",
    "\n",
    "#dip00_1 = cv.cvtColor(dip00_1, cv.COLOR_BGR2CMYK )\n",
    "#print(\"\\n\", dip00_1)\n",
    "\n",
    "##-----------------------------------------------\n",
    "\n",
    "dip03_1 = np.array([\n",
    "\t\t\t\t\t[ 0, 255, 255, 255, 255, 255, 55, 55, 55 ],\n",
    "\t\t\t\t\t[ 0, 190, 190, 190, 190, 190, 85, 85, 85 ],\n",
    "\t\t\t\t\t[ 0, 127, 127, 127, 127, 127, 255, 255, 255],\n",
    "\t\t\t\t\t[ 0, 0, 0, 0, 0, 0, 0, 0, 0 ],\n",
    "\t\t\t\t\t[ 0, 190, 190, 190, 190, 190, 85, 85, 85 ],\n",
    "\t\t\t\t\t[ 0, 255, 255, 255, 255, 255, 55, 55, 55 ]\n",
    "\t\t\t\t   ]\n",
    "\t\t\t\t   \n",
    "\t\t\t\t, dtype=np.uint8)\n",
    "\n",
    "# print(\"dip03_1=\\n\\n\", dip03_1)\n",
    "# ath = cv.adaptiveThreshold(dip03_1,255,cv.ADAPTIVE_THRESH_MEAN_C, cv.THRESH_BINARY,3,2)\n",
    "\n",
    "# print(\"\\n ath=\\n\", ath)\n",
    "\n",
    "# #kernel = np.ones((3,3),np.uint8)\n",
    "# kernel = cv.getStructuringElement(cv.MORPH_CROSS,(3,3))\n",
    "# erosion = cv.dilate(ath, kernel, iterations = 1)\n",
    "# print(\"\\n erosion=\\n\", erosion)\n",
    "\n",
    " \n",
    "\n",
    "#cv.imwrite( r'E:\\Backup2023\\XLA\\Theory\\EXERCISES\\dip03_1.png', dip03_1)\n",
    "\n",
    "##-----------------------------------------------\n",
    "\n",
    "dip05_1 = np.array([\n",
    "\t\t\t\t\t[ 1, 2, 3 ],\n",
    "\t\t\t\t\t[ 4, 5, 6 ],\n",
    "\t\t\t\t\t[ 8, 9, 10 ]\n",
    "\t\t\t\t\t\n",
    "\t\t\t\t   ]\n",
    "\t\t\t\t   \n",
    "\t\t\t\t, dtype=np.uint8)\n",
    "\n",
    "#k51 = np.ones((3, 3), np.float32)/9\n",
    "k51 = np.array(\n",
    "\t[\n",
    "\t\t[0, -1, 0],\n",
    "\t\t[-1, 5, -1],\n",
    "\t\t[0, -1, 0]\n",
    "\t]\n",
    ")\n",
    "\n",
    "print(\"dip05_1=\\n\\n\", dip05_1)\n",
    "print(\"filter=\\n\", cv.filter2D(src = dip05_1, ddepth=-1, kernel = k51))\n",
    "\n",
    "#cv.imshow(\"dip00_1\", dip00_1)\n",
    "cv.waitKey(0)"
   ]
  },
  {
   "cell_type": "code",
   "execution_count": 3,
   "metadata": {},
   "outputs": [
    {
     "name": "stdout",
     "output_type": "stream",
     "text": [
      "\n",
      "\n",
      "[[  0   0   0   0   0]\n",
      " [  0 255 255 255   0]\n",
      " [  0 255 255 255   0]\n",
      " [  0   0   0   0   0]]\n"
     ]
    }
   ],
   "source": []
  },
  {
   "cell_type": "code",
   "execution_count": 4,
   "metadata": {},
   "outputs": [
    {
     "data": {
      "image/png": "[encoded data removed]",
      "text/plain": [
       "<Figure size 640x480 with 1 Axes>"
      ]
     },
     "metadata": {},
     "output_type": "display_data"
    }
   ],
   "source": [
    "plt.imshow(cv.cvtColor(dip00_2, cv.COLOR_BGR2RGB))\n",
    "plt.show()"
   ]
  },
  {
   "cell_type": "markdown",
   "metadata": {},
   "source": [
    "## Exercise 1"
   ]
  },
  {
   "cell_type": "code",
   "execution_count": 16,
   "metadata": {},
   "outputs": [],
   "source": [
    "matrix = np.full((6,7), 255)\n",
    "# matrix\n",
    "m, n = matrix.shape"
   ]
  },
  {
   "cell_type": "code",
   "execution_count": 17,
   "metadata": {},
   "outputs": [
    {
     "data": {
      "text/plain": [
       "array([[255, 255, 255, 255, 255, 255, 255],\n",
       "       [255, 255, 255, 255, 255, 255, 255],\n",
       "       [255, 255, 255, 255, 255, 255, 255],\n",
       "       [255, 255, 255, 255, 255, 255, 255],\n",
       "       [255, 255, 255, 255, 255, 255, 255],\n",
       "       [255, 255, 255, 255, 255, 255, 255]])"
      ]
     },
     "execution_count": 17,
     "metadata": {},
     "output_type": "execute_result"
    }
   ],
   "source": [
    "matrix"
   ]
  },
  {
   "cell_type": "code",
   "execution_count": 19,
   "metadata": {},
   "outputs": [
    {
     "data": {
      "text/plain": [
       "array([[  0,   0,   0,   0,   0,   0,   0],\n",
       "       [  0,   0,   0,   0,   0,   0,   0],\n",
       "       [  0,   0, 255, 255, 255,   0,   0],\n",
       "       [  0,   0, 255, 255, 255,   0,   0],\n",
       "       [  0,   0,   0,   0,   0,   0,   0],\n",
       "       [  0,   0,   0,   0,   0,   0,   0]])"
      ]
     },
     "execution_count": 19,
     "metadata": {},
     "output_type": "execute_result"
    }
   ],
   "source": [
    "for r in range(0, m):\n",
    "    for c in range(0, n):\n",
    "        if (r < 2) or (r > m - 3) or (c < 2) or (c > n-3):\n",
    "            matrix[r, c] = 0 # Black \n",
    "\n",
    "matrix            \n",
    "    \n"
   ]
  },
  {
   "cell_type": "markdown",
   "metadata": {},
   "source": [
    "## Exercise 2"
   ]
  },
  {
   "cell_type": "code",
   "execution_count": 20,
   "metadata": {},
   "outputs": [],
   "source": [
    "matrix = np.full((6,7), 0)\n",
    "# matrix\n",
    "m, n = matrix.shape"
   ]
  },
  {
   "cell_type": "code",
   "execution_count": 22,
   "metadata": {},
   "outputs": [
    {
     "name": "stdout",
     "output_type": "stream",
     "text": [
      "False\n"
     ]
    }
   ],
   "source": [
    "print(3 / 2 == 0)"
   ]
  },
  {
   "cell_type": "code",
   "execution_count": null,
   "metadata": {},
   "outputs": [],
   "source": [
    "for r in range(0, m):\n",
    "    for c in range(0, n):\n",
    "        if (r < 2) or (r > m - 3) or (c < 2) or (c > n-3):\n",
    "            matrix[r, c] = 0 # Black \n",
    "\n",
    "matrix            \n",
    "    \n"
   ]
  },
  {
   "cell_type": "code",
   "execution_count": 25,
   "metadata": {},
   "outputs": [
    {
     "name": "stdout",
     "output_type": "stream",
     "text": [
      "3\n",
      "3\n",
      "[[0 0 1 1 1 0 0]\n",
      " [0 0 1 1 1 0 0]\n",
      " [1 1 1 1 1 1 1]\n",
      " [1 1 1 1 1 1 1]\n",
      " [1 1 1 1 1 1 1]\n",
      " [0 0 1 1 1 0 0]]\n"
     ]
    }
   ],
   "source": [
    "import numpy as np\n",
    "\n",
    "# Create a binary image\n",
    "matrix = np.full((6, 7), 0)\n",
    "\n",
    "# Get the center row and column indexes\n",
    "center_row = matrix.shape[0] // 2\n",
    "center_col = matrix.shape[1] // 2\n",
    "print(center_col)\n",
    "print(center_row)\n",
    "# Set the center rows and columns to 1\n",
    "matrix[center_row-1 : center_row+2, :] = 1  # Set center row and the row above and below it to 1\n",
    "matrix[:, center_col-1 : center_col+2] = 1  # Set center column and the column before and after it to 1\n",
    "\n",
    "# Print the modified image\n",
    "print(matrix)\n"
   ]
  }
 ],
 "metadata": {
  "kernelspec": {
   "display_name": "cpVision",
   "language": "python",
   "name": "python3"
  },
  "language_info": {
   "name": "python",
   "version": "3.12.2"
  }
 },
 "nbformat": 4,
 "nbformat_minor": 2
}
