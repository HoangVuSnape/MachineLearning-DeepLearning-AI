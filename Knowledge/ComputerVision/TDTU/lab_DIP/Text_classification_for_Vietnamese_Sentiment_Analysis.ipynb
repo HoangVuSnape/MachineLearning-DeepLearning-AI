{
  "cells": [
    {
      "cell_type": "code",
      "execution_count": null,
      "id": "60c32606",
      "metadata": {
        "id": "60c32606"
      },
      "outputs": [],
      "source": [
        "import pandas as pd\n",
        "from underthesea import word_tokenize"
      ]
    },
    {
      "cell_type": "code",
      "execution_count": null,
      "id": "5911270c",
      "metadata": {
        "id": "5911270c",
        "outputId": "6b75e3c7-9000-436b-804f-ecd08d2db775"
      },
      "outputs": [
        {
          "name": "stdout",
          "output_type": "stream",
          "text": [
            "(31460, 3)\n"
          ]
        },
        {
          "data": {
            "text/html": [
              "<div>\n",
              "<style scoped>\n",
              "    .dataframe tbody tr th:only-of-type {\n",
              "        vertical-align: middle;\n",
              "    }\n",
              "\n",
              "    .dataframe tbody tr th {\n",
              "        vertical-align: top;\n",
              "    }\n",
              "\n",
              "    .dataframe thead th {\n",
              "        text-align: right;\n",
              "    }\n",
              "</style>\n",
              "<table border=\"1\" class=\"dataframe\">\n",
              "  <thead>\n",
              "    <tr style=\"text-align: right;\">\n",
              "      <th></th>\n",
              "      <th>content</th>\n",
              "      <th>label</th>\n",
              "      <th>start</th>\n",
              "    </tr>\n",
              "  </thead>\n",
              "  <tbody>\n",
              "    <tr>\n",
              "      <th>0</th>\n",
              "      <td>Áo bao đẹp ạ!</td>\n",
              "      <td>POS</td>\n",
              "      <td>5</td>\n",
              "    </tr>\n",
              "    <tr>\n",
              "      <th>1</th>\n",
              "      <td>Tuyệt vời</td>\n",
              "      <td>POS</td>\n",
              "      <td>5</td>\n",
              "    </tr>\n",
              "    <tr>\n",
              "      <th>2</th>\n",
              "      <td>2day ao khong giong trong</td>\n",
              "      <td>NEG</td>\n",
              "      <td>1</td>\n",
              "    </tr>\n",
              "    <tr>\n",
              "      <th>3</th>\n",
              "      <td>Mùi thơm,bôi lên da mềm da</td>\n",
              "      <td>POS</td>\n",
              "      <td>5</td>\n",
              "    </tr>\n",
              "    <tr>\n",
              "      <th>4</th>\n",
              "      <td>Vải đẹp, dày dặn</td>\n",
              "      <td>POS</td>\n",
              "      <td>5</td>\n",
              "    </tr>\n",
              "  </tbody>\n",
              "</table>\n",
              "</div>"
            ],
            "text/plain": [
              "                      content label  start\n",
              "0               Áo bao đẹp ạ!   POS      5\n",
              "1                   Tuyệt vời   POS      5\n",
              "2   2day ao khong giong trong   NEG      1\n",
              "3  Mùi thơm,bôi lên da mềm da   POS      5\n",
              "4            Vải đẹp, dày dặn   POS      5"
            ]
          },
          "execution_count": 9,
          "metadata": {},
          "output_type": "execute_result"
        }
      ],
      "source": [
        "filename = 'sentimentVN.csv'\n",
        "df = pd.read_csv(filename)\n",
        "print(df.shape)\n",
        "df.head(5)\n"
      ]
    },
    {
      "cell_type": "code",
      "execution_count": null,
      "id": "870589fc",
      "metadata": {
        "id": "870589fc",
        "outputId": "98fce776-ed8e-4420-c36c-e8c66e0c8e6b"
      },
      "outputs": [
        {
          "name": "stdout",
          "output_type": "stream",
          "text": [
            "Requirement already satisfied: underthesea in /Users/macos/anaconda3/lib/python3.11/site-packages (6.8.0)\n",
            "Requirement already satisfied: Click>=6.0 in /Users/macos/anaconda3/lib/python3.11/site-packages (from underthesea) (8.0.4)\n",
            "Requirement already satisfied: python-crfsuite>=0.9.6 in /Users/macos/anaconda3/lib/python3.11/site-packages (from underthesea) (0.9.10)\n",
            "Requirement already satisfied: nltk in /Users/macos/anaconda3/lib/python3.11/site-packages (from underthesea) (3.8.1)\n",
            "Requirement already satisfied: tqdm in /Users/macos/anaconda3/lib/python3.11/site-packages (from underthesea) (4.65.0)\n",
            "Requirement already satisfied: requests in /Users/macos/anaconda3/lib/python3.11/site-packages (from underthesea) (2.31.0)\n",
            "Requirement already satisfied: joblib in /Users/macos/anaconda3/lib/python3.11/site-packages (from underthesea) (1.2.0)\n",
            "Requirement already satisfied: scikit-learn in /Users/macos/anaconda3/lib/python3.11/site-packages (from underthesea) (1.3.0)\n",
            "Requirement already satisfied: PyYAML in /Users/macos/anaconda3/lib/python3.11/site-packages (from underthesea) (6.0)\n",
            "Requirement already satisfied: underthesea-core==1.0.4 in /Users/macos/anaconda3/lib/python3.11/site-packages (from underthesea) (1.0.4)\n",
            "Requirement already satisfied: regex>=2021.8.3 in /Users/macos/anaconda3/lib/python3.11/site-packages (from nltk->underthesea) (2022.7.9)\n",
            "Requirement already satisfied: charset-normalizer<4,>=2 in /Users/macos/anaconda3/lib/python3.11/site-packages (from requests->underthesea) (2.0.4)\n",
            "Requirement already satisfied: idna<4,>=2.5 in /Users/macos/anaconda3/lib/python3.11/site-packages (from requests->underthesea) (3.4)\n",
            "Requirement already satisfied: urllib3<3,>=1.21.1 in /Users/macos/anaconda3/lib/python3.11/site-packages (from requests->underthesea) (1.26.16)\n",
            "Requirement already satisfied: certifi>=2017.4.17 in /Users/macos/anaconda3/lib/python3.11/site-packages (from requests->underthesea) (2023.7.22)\n",
            "Requirement already satisfied: numpy>=1.17.3 in /Users/macos/anaconda3/lib/python3.11/site-packages (from scikit-learn->underthesea) (1.24.3)\n",
            "Requirement already satisfied: scipy>=1.5.0 in /Users/macos/anaconda3/lib/python3.11/site-packages (from scikit-learn->underthesea) (1.10.1)\n",
            "Requirement already satisfied: threadpoolctl>=2.0.0 in /Users/macos/anaconda3/lib/python3.11/site-packages (from scikit-learn->underthesea) (2.2.0)\n"
          ]
        }
      ],
      "source": [
        "!pip install underthesea"
      ]
    },
    {
      "cell_type": "code",
      "execution_count": null,
      "id": "e6e09668",
      "metadata": {
        "id": "e6e09668",
        "outputId": "cd8cf36a-c357-4121-bd6f-371606e028c9"
      },
      "outputs": [
        {
          "name": "stdout",
          "output_type": "stream",
          "text": [
            "Áo bao đẹp ạ!\tPOS\n",
            "Tuyệt vời\tPOS\n",
            "2day ao khong giong trong\tNEG\n",
            "Mùi thơm,bôi lên da mềm da\tPOS\n",
            "Vải đẹp, dày dặn\tPOS\n"
          ]
        }
      ],
      "source": [
        "max = 10000\n",
        "X = df['content'][:max].astype(str)\n",
        "y = df['label'][:max]\n",
        "for i in range(5):\n",
        "    print(X[i],end='\\t')\n",
        "    print(y[i])"
      ]
    },
    {
      "cell_type": "code",
      "execution_count": null,
      "id": "a7e7a3b5",
      "metadata": {
        "id": "a7e7a3b5",
        "outputId": "5f897487-43d2-44ee-a0c0-6a02abad7fcc"
      },
      "outputs": [
        {
          "name": "stdout",
          "output_type": "stream",
          "text": [
            "áo bao đẹp ạ !\n",
            "tuyệt_vời\n",
            "2 day ao khong_giong trong\n",
            "mùi thơm , bôi lên da mềm da\n",
            "vải đẹp , dày dặn\n",
            "hàng rất đẹp , rất chi là ưng_ý\n",
            "chất_lượng sản_phẩm tốt , date dài\n",
            "ăn_nói và thái_độ phục_vụ tốt\n",
            "đóng_gói sản_phẩm chắc_chắn\n",
            "tất_sờn hết ca chưa dùng mà vay r\n"
          ]
        }
      ],
      "source": [
        "Xnew = [word_tokenize(sent,format='text').lower() for sent in X]\n",
        "for i in range(10):\n",
        "    print(Xnew[i])"
      ]
    },
    {
      "cell_type": "code",
      "execution_count": null,
      "id": "f298d311",
      "metadata": {
        "id": "f298d311",
        "outputId": "6325149b-87b7-4de4-d86e-b26fb5fe163a"
      },
      "outputs": [
        {
          "data": {
            "text/plain": [
              "[('chàng', 'N'),\n",
              " ('trai', 'N'),\n",
              " ('ấy', 'P'),\n",
              " ('thích', 'V'),\n",
              " ('cô', 'Nc'),\n",
              " ('gái', 'N'),\n",
              " ('không', 'R'),\n",
              " ('xinh', 'A'),\n",
              " ('trong', 'E'),\n",
              " ('lớp_học', 'M')]"
            ]
          },
          "execution_count": 13,
          "metadata": {},
          "output_type": "execute_result"
        }
      ],
      "source": [
        "from underthesea import pos_tag\n",
        "sent = 'chàng trai ấy thích cô gái không xinh trong lớp học'\n",
        "ws = word_tokenize(sent,format='text')\n",
        "pos_tag(ws)"
      ]
    },
    {
      "cell_type": "code",
      "execution_count": null,
      "id": "4ce63442",
      "metadata": {
        "id": "4ce63442"
      },
      "outputs": [],
      "source": [
        "from keras.preprocessing.text import Tokenizer\n",
        "t = Tokenizer()\n",
        "t.fit_on_texts(Xnew)\n",
        "#print(t.word_index)\n",
        "#print(t.word_counts)"
      ]
    },
    {
      "cell_type": "code",
      "execution_count": null,
      "id": "9dbee85b",
      "metadata": {
        "id": "9dbee85b",
        "outputId": "3cff5e8a-aeb3-470e-9e10-91295defe3a0"
      },
      "outputs": [
        {
          "name": "stdout",
          "output_type": "stream",
          "text": [
            "(10000, 3579)\n",
            "[[0. 0. 0. ... 0. 0. 0.]\n",
            " [0. 0. 0. ... 0. 0. 0.]\n",
            " [0. 0. 0. ... 0. 0. 0.]]\n"
          ]
        }
      ],
      "source": [
        "X = t.texts_to_matrix(Xnew, mode='count')\n",
        "print(X.shape)\n",
        "print(X[:3])"
      ]
    },
    {
      "cell_type": "code",
      "execution_count": null,
      "id": "e1f6db96",
      "metadata": {
        "id": "e1f6db96",
        "outputId": "d7900820-68c6-42a4-f6d1-966e1994ed7c"
      },
      "outputs": [
        {
          "name": "stdout",
          "output_type": "stream",
          "text": [
            "(7500, 3579)\n",
            "(7500,)\n"
          ]
        }
      ],
      "source": [
        "from sklearn.model_selection import train_test_split\n",
        "\n",
        "X_train, X_test, y_train, y_test = train_test_split(X,y,random_state=42,\n",
        "                                                    test_size=0.25)\n",
        "print(X_train.shape)\n",
        "print(y_train.shape)"
      ]
    },
    {
      "cell_type": "code",
      "execution_count": null,
      "id": "dee73932",
      "metadata": {
        "id": "dee73932",
        "outputId": "20c3a447-bf57-4a24-8ce4-bec74bcd764a"
      },
      "outputs": [
        {
          "data": {
            "text/html": [
              "<style>#sk-container-id-1 {color: black;}#sk-container-id-1 pre{padding: 0;}#sk-container-id-1 div.sk-toggleable {background-color: white;}#sk-container-id-1 label.sk-toggleable__label {cursor: pointer;display: block;width: 100%;margin-bottom: 0;padding: 0.3em;box-sizing: border-box;text-align: center;}#sk-container-id-1 label.sk-toggleable__label-arrow:before {content: \"▸\";float: left;margin-right: 0.25em;color: #696969;}#sk-container-id-1 label.sk-toggleable__label-arrow:hover:before {color: black;}#sk-container-id-1 div.sk-estimator:hover label.sk-toggleable__label-arrow:before {color: black;}#sk-container-id-1 div.sk-toggleable__content {max-height: 0;max-width: 0;overflow: hidden;text-align: left;background-color: #f0f8ff;}#sk-container-id-1 div.sk-toggleable__content pre {margin: 0.2em;color: black;border-radius: 0.25em;background-color: #f0f8ff;}#sk-container-id-1 input.sk-toggleable__control:checked~div.sk-toggleable__content {max-height: 200px;max-width: 100%;overflow: auto;}#sk-container-id-1 input.sk-toggleable__control:checked~label.sk-toggleable__label-arrow:before {content: \"▾\";}#sk-container-id-1 div.sk-estimator input.sk-toggleable__control:checked~label.sk-toggleable__label {background-color: #d4ebff;}#sk-container-id-1 div.sk-label input.sk-toggleable__control:checked~label.sk-toggleable__label {background-color: #d4ebff;}#sk-container-id-1 input.sk-hidden--visually {border: 0;clip: rect(1px 1px 1px 1px);clip: rect(1px, 1px, 1px, 1px);height: 1px;margin: -1px;overflow: hidden;padding: 0;position: absolute;width: 1px;}#sk-container-id-1 div.sk-estimator {font-family: monospace;background-color: #f0f8ff;border: 1px dotted black;border-radius: 0.25em;box-sizing: border-box;margin-bottom: 0.5em;}#sk-container-id-1 div.sk-estimator:hover {background-color: #d4ebff;}#sk-container-id-1 div.sk-parallel-item::after {content: \"\";width: 100%;border-bottom: 1px solid gray;flex-grow: 1;}#sk-container-id-1 div.sk-label:hover label.sk-toggleable__label {background-color: #d4ebff;}#sk-container-id-1 div.sk-serial::before {content: \"\";position: absolute;border-left: 1px solid gray;box-sizing: border-box;top: 0;bottom: 0;left: 50%;z-index: 0;}#sk-container-id-1 div.sk-serial {display: flex;flex-direction: column;align-items: center;background-color: white;padding-right: 0.2em;padding-left: 0.2em;position: relative;}#sk-container-id-1 div.sk-item {position: relative;z-index: 1;}#sk-container-id-1 div.sk-parallel {display: flex;align-items: stretch;justify-content: center;background-color: white;position: relative;}#sk-container-id-1 div.sk-item::before, #sk-container-id-1 div.sk-parallel-item::before {content: \"\";position: absolute;border-left: 1px solid gray;box-sizing: border-box;top: 0;bottom: 0;left: 50%;z-index: -1;}#sk-container-id-1 div.sk-parallel-item {display: flex;flex-direction: column;z-index: 1;position: relative;background-color: white;}#sk-container-id-1 div.sk-parallel-item:first-child::after {align-self: flex-end;width: 50%;}#sk-container-id-1 div.sk-parallel-item:last-child::after {align-self: flex-start;width: 50%;}#sk-container-id-1 div.sk-parallel-item:only-child::after {width: 0;}#sk-container-id-1 div.sk-dashed-wrapped {border: 1px dashed gray;margin: 0 0.4em 0.5em 0.4em;box-sizing: border-box;padding-bottom: 0.4em;background-color: white;}#sk-container-id-1 div.sk-label label {font-family: monospace;font-weight: bold;display: inline-block;line-height: 1.2em;}#sk-container-id-1 div.sk-label-container {text-align: center;}#sk-container-id-1 div.sk-container {/* jupyter's `normalize.less` sets `[hidden] { display: none; }` but bootstrap.min.css set `[hidden] { display: none !important; }` so we also need the `!important` here to be able to override the default hidden behavior on the sphinx rendered scikit-learn.org. See: https://github.com/scikit-learn/scikit-learn/issues/21755 */display: inline-block !important;position: relative;}#sk-container-id-1 div.sk-text-repr-fallback {display: none;}</style><div id=\"sk-container-id-1\" class=\"sk-top-container\"><div class=\"sk-text-repr-fallback\"><pre>MultinomialNB()</pre><b>In a Jupyter environment, please rerun this cell to show the HTML representation or trust the notebook. <br />On GitHub, the HTML representation is unable to render, please try loading this page with nbviewer.org.</b></div><div class=\"sk-container\" hidden><div class=\"sk-item\"><div class=\"sk-estimator sk-toggleable\"><input class=\"sk-toggleable__control sk-hidden--visually\" id=\"sk-estimator-id-1\" type=\"checkbox\" checked><label for=\"sk-estimator-id-1\" class=\"sk-toggleable__label sk-toggleable__label-arrow\">MultinomialNB</label><div class=\"sk-toggleable__content\"><pre>MultinomialNB()</pre></div></div></div></div></div>"
            ],
            "text/plain": [
              "MultinomialNB()"
            ]
          },
          "execution_count": 17,
          "metadata": {},
          "output_type": "execute_result"
        }
      ],
      "source": [
        "#from sklearn.neighbors import KNeighborsClassifier\n",
        "from sklearn.naive_bayes import MultinomialNB\n",
        "\n",
        "model = MultinomialNB()\n",
        "model.fit(X_train,y_train)"
      ]
    },
    {
      "cell_type": "code",
      "execution_count": null,
      "id": "02955d24",
      "metadata": {
        "id": "02955d24",
        "outputId": "3693ddb7-e01b-4a38-d104-9e1f5102e07a"
      },
      "outputs": [
        {
          "name": "stdout",
          "output_type": "stream",
          "text": [
            "              precision    recall  f1-score   support\n",
            "\n",
            "         NEG       0.60      0.67      0.64       483\n",
            "         NEU       0.38      0.38      0.38       415\n",
            "         POS       0.87      0.84      0.85      1602\n",
            "\n",
            "    accuracy                           0.73      2500\n",
            "   macro avg       0.62      0.63      0.62      2500\n",
            "weighted avg       0.74      0.73      0.73      2500\n",
            "\n"
          ]
        }
      ],
      "source": [
        "y_pred = model.predict(X_test)\n",
        "from sklearn.metrics import classification_report\n",
        "print(classification_report(y_test,y_pred))"
      ]
    },
    {
      "cell_type": "code",
      "execution_count": null,
      "id": "ca72bb61",
      "metadata": {
        "id": "ca72bb61",
        "outputId": "a444482f-d542-4550-eea6-697aa488fc31"
      },
      "outputs": [
        {
          "name": "stdout",
          "output_type": "stream",
          "text": [
            "tôi không thích nó \n",
            "[[0. 0. 0. ... 0. 0. 0.]]\n",
            "['NEG']\n"
          ]
        }
      ],
      "source": [
        "question = input()\n",
        "X_input = t.texts_to_matrix([question],mode='count')\n",
        "print(X_input)\n",
        "y_output = model.predict(X_input)\n",
        "print(y_output)"
      ]
    }
  ],
  "metadata": {
    "kernelspec": {
      "display_name": "Python 3 (ipykernel)",
      "language": "python",
      "name": "python3"
    },
    "language_info": {
      "codemirror_mode": {
        "name": "ipython",
        "version": 3
      },
      "file_extension": ".py",
      "mimetype": "text/x-python",
      "name": "python",
      "nbconvert_exporter": "python",
      "pygments_lexer": "ipython3",
      "version": "3.11.4"
    },
    "colab": {
      "provenance": []
    }
  },
  "nbformat": 4,
  "nbformat_minor": 5
}