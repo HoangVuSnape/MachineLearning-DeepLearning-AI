{
 "cells": [
  {
   "cell_type": "markdown",
   "metadata": {},
   "source": [
    "# Numpy Revise\n",
    "### Author: Vu Snape\n"
   ]
  },
  {
   "cell_type": "code",
   "execution_count": 1,
   "metadata": {},
   "outputs": [],
   "source": [
    "#lib\n",
    "import numpy as np"
   ]
  },
  {
   "cell_type": "markdown",
   "metadata": {},
   "source": [
    "## Day 1 "
   ]
  },
  {
   "cell_type": "code",
   "execution_count": 2,
   "metadata": {},
   "outputs": [
    {
     "name": "stdout",
     "output_type": "stream",
     "text": [
      "[[1 2 3]\n",
      " [4 5 6]]\n",
      "2\n"
     ]
    }
   ],
   "source": [
    "a = np.array([[1,2,3],[4,5,6]])\n",
    "print(a)\n",
    "# check number of dimension\n",
    "print(a.ndim)"
   ]
  },
  {
   "cell_type": "code",
   "execution_count": 3,
   "metadata": {},
   "outputs": [
    {
     "name": "stdout",
     "output_type": "stream",
     "text": [
      "\n",
      "\n",
      "[22 26 28 10  1  2  3]\n",
      "[22 26]\n",
      "[1 2]\n",
      "[26 10  2]\n"
     ]
    }
   ],
   "source": [
    "b = np.array([22, 26, 28, 10, 1, 2, 3])\n",
    "print(\"\\n\")\n",
    "print(b[:])\n",
    "print(b[:2]) # 22 26 - bỏ số address cuối đi\n",
    "\n",
    "print(b[-3:-1]) # 3 : -1 , 2: -2, 1 : -3\n",
    "\n",
    "print(b[1:6:2]) "
   ]
  },
  {
   "cell_type": "code",
   "execution_count": 10,
   "metadata": {},
   "outputs": [
    {
     "name": "stdout",
     "output_type": "stream",
     "text": [
      "[-10  -1   8  17  26  35]\n",
      "[ 200  420  660  920 1200 1500]\n"
     ]
    }
   ],
   "source": [
    "arr1 = np.array([10, 20, 30, 40, 50, 60])\n",
    "arr2 = np.array([20, 21, 22, 23, 24, 25])\n",
    "\n",
    "#subtract \n",
    "arrSubstract = np.subtract(arr1, arr2) #minus\n",
    "#product\n",
    "arrProduct = np.multiply(arr1, arr2) #product\n",
    "\n",
    "print(arrSubstract)\n",
    "print(arrProduct)"
   ]
  },
  {
   "cell_type": "code",
   "execution_count": 9,
   "metadata": {},
   "outputs": [
    {
     "name": "stdout",
     "output_type": "stream",
     "text": [
      "[0 1 2 3]\n",
      "(array([2], dtype=int64),)\n",
      "(array([0, 2, 4, 6], dtype=int64),)\n"
     ]
    }
   ],
   "source": [
    "arr = np.array([3, 2, 0, 1])\n",
    "print(np.sort(arr))\n",
    "\n",
    "#search = value equal 4\n",
    "arr = np.array([1, 2, 4, 5,66, 44])\n",
    "x = np.where(arr == 4)\n",
    "print(x)\n",
    "\n",
    "#find index if x mod 2 == 1 \n",
    "arr = np.array([1, 2, 3, 4, 5, 6, 7, 8])\n",
    "x = np.where(arr%2 == 1)\n",
    "print(x)"
   ]
  },
  {
   "cell_type": "markdown",
   "metadata": {},
   "source": [
    "## Day 2"
   ]
  },
  {
   "cell_type": "code",
   "execution_count": 11,
   "metadata": {},
   "outputs": [
    {
     "name": "stdout",
     "output_type": "stream",
     "text": [
      "72\n"
     ]
    }
   ],
   "source": [
    "a = np.dot(6,12)  \n",
    "print(a)"
   ]
  },
  {
   "cell_type": "code",
   "execution_count": 13,
   "metadata": {},
   "outputs": [
    {
     "name": "stdout",
     "output_type": "stream",
     "text": [
      "[[4 1]\n",
      " [2 2]]\n"
     ]
    }
   ],
   "source": [
    "a = np.array([[1, 0],\n",
    "              [0, 1]])\n",
    "b = np.array([[4, 1],\n",
    "              [2, 2]])\n",
    "\n",
    "print(np.matmul(a, b)) #multiple of 2 matrix: 2-D"
   ]
  },
  {
   "cell_type": "code",
   "execution_count": 14,
   "metadata": {},
   "outputs": [
    {
     "name": "stdout",
     "output_type": "stream",
     "text": [
      "-2.0000000000000004\n"
     ]
    }
   ],
   "source": [
    "arr1 = np.array([[1, 2], [3, 4]])\n",
    " \n",
    "print(np.linalg.det(arr1))"
   ]
  },
  {
   "cell_type": "code",
   "execution_count": 15,
   "metadata": {},
   "outputs": [],
   "source": [
    "#transpose\n",
    "v1 = [1, 2, 3, 4]\n",
    "v2 = [-1, 0, 1, 3]\n",
    "v3 = [0, -5, 6, 8]\n",
    "w = [3, -6, 17, 11]\n",
    "\n",
    "A = np.transpose( [v1, v2, v3] ) # reverse row to column"
   ]
  },
  {
   "cell_type": "code",
   "execution_count": 16,
   "metadata": {},
   "outputs": [
    {
     "name": "stdout",
     "output_type": "stream",
     "text": [
      "[[ 1 -1  0]\n",
      " [ 2  0 -5]\n",
      " [ 3  1  6]\n",
      " [ 4  3  8]]\n"
     ]
    }
   ],
   "source": [
    "print(A)"
   ]
  },
  {
   "cell_type": "code",
   "execution_count": 19,
   "metadata": {},
   "outputs": [
    {
     "name": "stdout",
     "output_type": "stream",
     "text": [
      "vd1: X =  [ 1.85714286  0.28571429 -0.42857143]\n"
     ]
    }
   ],
   "source": [
    "A = np.array([\n",
    "[1, 2, 1],\n",
    "[2, -1, 1],\n",
    "[2, 1, 0]\n",
    "])\n",
    "b = np.transpose([2, 3, 4])\n",
    "X = np.linalg.solve(A, b)\n",
    "print(\"vd1: X = \", X)"
   ]
  },
  {
   "cell_type": "code",
   "execution_count": 21,
   "metadata": {},
   "outputs": [
    {
     "name": "stdout",
     "output_type": "stream",
     "text": [
      "[[12  5  8]\n",
      " [15  9 12]\n",
      " [10 14 10]\n",
      " [16  7  9]\n",
      " [12 10 15]]\n",
      "result =  [[53]\n",
      " [75]\n",
      " [64]\n",
      " [66]\n",
      " [79]]\n"
     ]
    }
   ],
   "source": [
    "A = np.array([\n",
    "[12, 15, 10, 16, 12],\n",
    "[5, 9, 14, 7, 10],\n",
    "[8, 12, 10 , 9, 15]\n",
    "])\n",
    "\n",
    "A1 = A.T\n",
    "\n",
    "price = np.array([\n",
    "[2], [1], [3]\n",
    "])\n",
    "print(A1)\n",
    "print(\"result = \", np.matmul(A1, price))"
   ]
  },
  {
   "cell_type": "code",
   "execution_count": null,
   "metadata": {},
   "outputs": [],
   "source": []
  }
 ],
 "metadata": {
  "kernelspec": {
   "display_name": "Python 3",
   "language": "python",
   "name": "python3"
  },
  "language_info": {
   "name": "python",
   "version": "3.11.4"
  },
  "orig_nbformat": 4
 },
 "nbformat": 4,
 "nbformat_minor": 2
}
