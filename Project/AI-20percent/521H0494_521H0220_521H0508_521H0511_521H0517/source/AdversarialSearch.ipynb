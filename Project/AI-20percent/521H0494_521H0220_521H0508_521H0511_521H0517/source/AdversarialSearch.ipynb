{
  "cells": [
    {
      "cell_type": "markdown",
      "metadata": {
        "id": "KHRp9iNPo8bg"
      },
      "source": [
        " # Classes"
      ]
    },
    {
      "cell_type": "code",
      "execution_count": 5,
      "metadata": {
        "id": "rFQNfcwgpAqJ"
      },
      "outputs": [],
      "source": [
        "#authors: Tran Quoc Bao(521H0494) & Bui Hai Duong(521H0220)\n",
        "\n",
        "class Node:\n",
        "    def __init__(self, identifier: str = \"\", value: int = None):\n",
        "        self.identifier = identifier\n",
        "        self.value = value\n",
        "\n",
        "    def __str__(self):\n",
        "        return f\"({self.identifier}, {self.value})\"\n",
        "   \n",
        "   \n",
        "class MinimaxDecision:\n",
        "    def __init__(self):\n",
        "        self.root = None\n",
        "        self.terminalStates = dict()\n",
        "        self.successors = dict()\n",
        "\n",
        "    def read(self, filename: str):\n",
        "      with open(filename) as f:\n",
        "        E, L = map(int, f.readline().split())\n",
        "\n",
        "        for _ in range(E):\n",
        "          a, b = f.readline().strip().split()\n",
        "          node = Node(a)\n",
        "          child_node = Node(b)\n",
        "\n",
        "          if not self.root: #set root: n00\n",
        "            self.root = node\n",
        "\n",
        "          key = node.identifier\n",
        "          if node not in self.successors:\n",
        "            self.successors.setdefault(key, [])\n",
        "          self.successors[key].append(child_node) #ex: n0:[n1, n2]\n",
        "              \n",
        "        for _ in range(L):\n",
        "          n, v = f.readline().strip().split()\n",
        "          node = Node(n)\n",
        "          node.value = int(v)\n",
        "          self.terminalStates[node] = node.value\n",
        "\n",
        "        #gán value cho các node mà đã được add vào successors trước đó \n",
        "        for key in self.successors:\n",
        "          for t in self.terminalStates:\n",
        "            for s in self.successors[key]:\n",
        "              if s.identifier == t.identifier:\n",
        "                s.value = t.value\n",
        "           \n",
        "    def print(self):\n",
        "        self.__backtracking(self.root)\n",
        "      \n",
        "    def __backtracking(self, node):\n",
        "        print(node)\n",
        "        if self.successors.get(node.identifier, []):\n",
        "            for s in self.successors.get(node.identifier, []):\n",
        "                self.__backtracking(s)\n",
        "    \n",
        "    def run(self):\n",
        "        self.__minimax(self.root, self.getDepth(self.root, 0))\n",
        "        \n",
        "    def __minimax(self, node, depth):\n",
        "        if depth == 0:\n",
        "            return node.value\n",
        "        best_value = float('-inf')\n",
        "        for successor in self.successors.get(node.identifier, []):\n",
        "            best_value = max(best_value, self.__minimax(successor, depth-1))\n",
        "        node.value = best_value\n",
        "        return best_value\n",
        "\n",
        "    def getDepth(self, node, depth):\n",
        "        if node.value != None:\n",
        "            return depth\n",
        "        for successor in self.successors.get(node.identifier, []):\n",
        "            maxDepth = self.getDepth(successor, depth+1)\n",
        "        return maxDepth\n",
        "      "
      ]
    },
    {
      "cell_type": "markdown",
      "metadata": {
        "id": "frzBtKSTpeqY"
      },
      "source": [
        "# Evaluation"
      ]
    },
    {
      "cell_type": "code",
      "execution_count": 6,
      "metadata": {
        "colab": {
          "base_uri": "https://localhost:8080/"
        },
        "id": "GU9CuSODphIQ",
        "outputId": "999a77f9-e00c-4ad7-bc72-f003630b898b"
      },
      "outputs": [
        {
          "name": "stdout",
          "output_type": "stream",
          "text": [
            "(n00, 7)\n",
            "(n10, 7)\n",
            "(n20, 5)\n",
            "(n30, 5)\n",
            "(n41, 4)\n",
            "(n42, 3)\n",
            "(n43, 5)\n",
            "(n31, 2)\n",
            "(n44, 2)\n",
            "(n45, 1)\n",
            "(n21, 4)\n",
            "(n32, 4)\n",
            "(n46, 4)\n",
            "(n47, 2)\n",
            "(n48, 3)\n",
            "(n22, 7)\n",
            "(n33, 5)\n",
            "(n49, 5)\n",
            "(n410, 4)\n",
            "(n34, 7)\n",
            "(n411, 7)\n",
            "(n35, 3)\n",
            "(n412, 3)\n",
            "(n413, 2)\n",
            "(n11, 7)\n",
            "(n23, 4)\n",
            "(n36, 4)\n",
            "(n414, 1)\n",
            "(n415, 4)\n",
            "(n416, 0)\n",
            "(n24, 5)\n",
            "(n37, 5)\n",
            "(n417, 5)\n",
            "(n418, 3)\n",
            "(n38, 0)\n",
            "(n419, 0)\n",
            "(n25, 7)\n",
            "(n39, 7)\n",
            "(n420, 2)\n",
            "(n421, 7)\n",
            "(n422, 4)\n",
            "(n310, 6)\n",
            "(n423, 3)\n",
            "(n424, 6)\n",
            "(n311, 5)\n",
            "(n425, 5)\n",
            "(n426, 3)\n",
            "(n427, 1)\n"
          ]
        }
      ],
      "source": [
        "tree = MinimaxDecision()\n",
        "tree.read('minimax.txt')\n",
        "tree.run()\n",
        "tree.print()\n",
        "\n"
      ]
    }
  ],
  "metadata": {
    "colab": {
      "provenance": []
    },
    "kernelspec": {
      "display_name": "Python 3",
      "name": "python3"
    },
    "language_info": {
      "codemirror_mode": {
        "name": "ipython",
        "version": 3
      },
      "file_extension": ".py",
      "mimetype": "text/x-python",
      "name": "python",
      "nbconvert_exporter": "python",
      "pygments_lexer": "ipython3",
      "version": "3.10.4"
    }
  },
  "nbformat": 4,
  "nbformat_minor": 0
}
