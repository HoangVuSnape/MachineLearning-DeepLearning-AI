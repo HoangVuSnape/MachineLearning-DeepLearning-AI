{
  "cells": [
    {
      "cell_type": "markdown",
      "metadata": {
        "id": "jsev01C8FYAg"
      },
      "source": [
        "# Install"
      ]
    },
    {
      "cell_type": "code",
      "execution_count": 1,
      "metadata": {
        "colab": {
          "base_uri": "https://localhost:8080/"
        },
        "id": "NuWPhZgoFbVf",
        "outputId": "9d5de2c6-a9db-43c3-e048-9dccb7cf2e74"
      },
      "outputs": [],
      "source": [
        "#author: Bui Anh Phu\n",
        "#id: 521H0508\n",
        "!pip install python-sat==0.1.7.dev12"
      ]
    },
    {
      "cell_type": "markdown",
      "metadata": {
        "id": "ZiRmwHsDFK6B"
      },
      "source": [
        "# Libraries"
      ]
    },
    {
      "cell_type": "code",
      "execution_count": null,
      "metadata": {
        "id": "WbbYALa3FPzA"
      },
      "outputs": [],
      "source": [
        "from pysat.solvers import Glucose3\n",
        "from pysat.formula import CNF\n",
        "import random"
      ]
    },
    {
      "cell_type": "markdown",
      "metadata": {
        "id": "Ld509JdyFRYQ"
      },
      "source": [
        "# Classes"
      ]
    },
    {
      "cell_type": "code",
      "execution_count": null,
      "metadata": {
        "id": "dknYRKc4tx7m"
      },
      "outputs": [],
      "source": [
        "class NQueenSolver:\n",
        "    def __init__(self, n):\n",
        "        self.solver = Glucose3()\n",
        "        self.n = n\n",
        "        self.vars = [[i*self.n + j + 1 for j in range(self.n)] for i in range(self.n)]\n",
        "        self.clauses = CNF()\n",
        "        self.add_row_constraints()\n",
        "        self.add_col_constraints()\n",
        "        self.add_diagonal_constraints()\n",
        "\n",
        "    def add_row_constraints(self):\n",
        "        for i in range(self.n):\n",
        "            clause = [self.vars[i][j] for j in range(self.n)]\n",
        "            self.clauses.append(clause)\n",
        "            for j1 in range(self.n):\n",
        "                for j2 in range(j1+1, self.n):\n",
        "                    clause = [-self.vars[i][j1], -self.vars[i][j2]]\n",
        "                    self.clauses.append(clause)\n",
        "\n",
        "    def add_col_constraints(self):\n",
        "        for j in range(self.n):\n",
        "            clause = [self.vars[i][j] for i in range(self.n)]\n",
        "            self.clauses.append(clause)\n",
        "            for i1 in range(self.n):\n",
        "                for i2 in range(i1+1, self.n):\n",
        "                    clause = [-self.vars[i1][j], -self.vars[i2][j]]\n",
        "                    self.clauses.append(clause)\n",
        "\n",
        "    def add_diagonal_constraints(self):\n",
        "        for k in range(1 - self.n, self.n):\n",
        "            diag1 = [self.vars[i][i-k] for i in range(self.n) if 0 <= i-k < self.n]\n",
        "            diag2 = [self.vars[i][self.n-1-(i+k)] for i in range(self.n) if 0 <= self.n-1-(i+k) < self.n]\n",
        "            if len(diag1) > 1:\n",
        "                self.add_at_most_one(diag1)\n",
        "            if len(diag2) > 1:\n",
        "                self.add_at_most_one(diag2)\n",
        "\n",
        "    def add_at_most_one(self, lits):\n",
        "        for i in range(len(lits)):\n",
        "            for j in range(i+1, len(lits)):\n",
        "                clause = [-lits[i], -lits[j]]\n",
        "                self.clauses.append(clause)\n",
        "    \n",
        "    def solve(self):\n",
        "        solutions = []\n",
        "        self.solver.append_formula(self.clauses)\n",
        "        while self.solver.solve():\n",
        "            model = self.solver.get_model()\n",
        "            solution = [[False for j in range(self.n)] for i in range(self.n)]\n",
        "            for i in range(self.n):\n",
        "                for j in range(self.n):\n",
        "                    if model[self.vars[i][j]-1] > 0:\n",
        "                        solution[i][j] = True\n",
        "            solutions.append(solution)\n",
        "            # add a clause to prevent finding the same solution again\n",
        "            clause = [-lit for lit in model if lit > 0]\n",
        "            self.solver.add_clause(clause)\n",
        "        if solutions:\n",
        "            if len(solutions) == 1:\n",
        "                print(\"There is {} solution to the {} x {} problem\".format(len(solutions), self.n, self.n))\n",
        "            else:\n",
        "                print(\"There are {} solutions to the {} x {} problem\".format(len(solutions), self.n, self.n))\n",
        "            solution = random.choice(solutions)\n",
        "            print(\"Random solution:\")\n",
        "            for i in range(self.n):\n",
        "                for j in range(self.n):\n",
        "                    if solution[i][j]:\n",
        "                        print(\"Q\", end=\" \")\n",
        "                    else:\n",
        "                        print(\".\", end=\" \")\n",
        "                print()\n",
        "        else:\n",
        "            print(\"UNSOLVABLE\")\n",
        "            \n",
        "class EightQueenSolver(NQueenSolver):\n",
        "    def __init__(self):\n",
        "        super().__init__(8)"
      ]
    },
    {
      "cell_type": "markdown",
      "metadata": {
        "id": "BMkKuBwjFv_m"
      },
      "source": [
        "# Evaluation"
      ]
    },
    {
      "cell_type": "code",
      "execution_count": null,
      "metadata": {
        "colab": {
          "base_uri": "https://localhost:8080/"
        },
        "id": "-f87fg7yt2Hk",
        "outputId": "c1a4dd13-f24d-49cd-83c4-75f6c98696d5"
      },
      "outputs": [
        {
          "name": "stdout",
          "output_type": "stream",
          "text": [
            "There are 10 solutions to the 5 x 5 problem\n",
            "Random solution:\n",
            ". . Q . . \n",
            ". . . . Q \n",
            ". Q . . . \n",
            ". . . Q . \n",
            "Q . . . . \n"
          ]
        }
      ],
      "source": [
        "solver = NQueenSolver(5)\n",
        "solver.solve()"
      ]
    },
    {
      "cell_type": "code",
      "execution_count": null,
      "metadata": {
        "colab": {
          "base_uri": "https://localhost:8080/"
        },
        "id": "2N_fQKzzF8a3",
        "outputId": "e5fded1f-fac6-4074-bd18-8b9d14910f99"
      },
      "outputs": [
        {
          "name": "stdout",
          "output_type": "stream",
          "text": [
            "There are 92 solutions to the 8 x 8 problem\n",
            "Random solution:\n",
            ". . . . . . Q . \n",
            ". Q . . . . . . \n",
            ". . . . . Q . . \n",
            ". . Q . . . . . \n",
            "Q . . . . . . . \n",
            ". . . Q . . . . \n",
            ". . . . . . . Q \n",
            ". . . . Q . . . \n"
          ]
        }
      ],
      "source": [
        "solver = EightQueenSolver()\n",
        "solver.solve()"
      ]
    }
  ],
  "metadata": {
    "colab": {
      "provenance": []
    },
    "kernelspec": {
      "display_name": "Python 3",
      "name": "python3"
    },
    "language_info": {
      "codemirror_mode": {
        "name": "ipython",
        "version": 3
      },
      "file_extension": ".py",
      "mimetype": "text/x-python",
      "name": "python",
      "nbconvert_exporter": "python",
      "pygments_lexer": "ipython3",
      "version": "3.10.4"
    }
  },
  "nbformat": 4,
  "nbformat_minor": 0
}
