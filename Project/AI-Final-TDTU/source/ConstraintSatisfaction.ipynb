{
  "cells": [
    {
      "cell_type": "markdown",
      "metadata": {
        "id": "CRp26YDLsYM5"
      },
      "source": [
        "# Classes"
      ]
    },
    {
      "cell_type": "code",
      "execution_count": null,
      "metadata": {
        "id": "AgzvGJeksa3Q"
      },
      "outputs": [],
      "source": [
        "#author: Nguyen Hoang Phuc\n",
        "#id: 521H0511\n",
        "\n",
        "class NQueenSolver:\n",
        "    def __init__(self, n):\n",
        "        self.n = n\n",
        "        self.state = [-1 for _ in range(self.n)]\n",
        "\n",
        "    def __is_safe(self, x, y):\n",
        "        for _ in range(x):\n",
        "            if (self.state[_] == y or \\\n",
        "                abs(self.state[_] - y) == x - _):\n",
        "                return False\n",
        "        return True\n",
        "\n",
        "    def solve(self):\n",
        "        # self.__read_board()\n",
        "        if (self.__backtracking()):\n",
        "            board = [['.' for _ in range(self.n)] for _ in range(self.n)]\n",
        "            for i in range(self.n):\n",
        "                board[i][self.state[i]] = 'Q'\n",
        "                print(*board[i])\n",
        "        else:\n",
        "            print('UNSOLVABLE')\n",
        "\n",
        "    \n",
        "    def __backtracking(self, x = 0):\n",
        "        if (x == self.n):\n",
        "            return True\n",
        "        for y in range(self.n):\n",
        "            if (self.__is_safe(x, y)):\n",
        "                self.state[x] = y\n",
        "                if (self.__backtracking(x+1)):\n",
        "                    return True\n",
        "        self.state[x] = -1\n",
        "        return False\n",
        "\n",
        "class EightQueenSolver(NQueenSolver):\n",
        "    def __init__(self):\n",
        "        super().__init__(8)"
      ]
    },
    {
      "cell_type": "markdown",
      "metadata": {
        "id": "xFGvxiW1sUsB"
      },
      "source": [
        "# Evaluation"
      ]
    },
    {
      "cell_type": "code",
      "execution_count": null,
      "metadata": {
        "colab": {
          "base_uri": "https://localhost:8080/"
        },
        "id": "To_-ddyvsXDY",
        "outputId": "3bfd3580-4759-46a0-ae73-3dc5ebd5e597"
      },
      "outputs": [
        {
          "name": "stdout",
          "output_type": "stream",
          "text": [
            "Q . . . . . . .\n",
            ". . . . Q . . .\n",
            ". . . . . . . Q\n",
            ". . . . . Q . .\n",
            ". . Q . . . . .\n",
            ". . . . . . Q .\n",
            ". Q . . . . . .\n",
            ". . . Q . . . .\n"
          ]
        }
      ],
      "source": [
        "solver = EightQueenSolver()\n",
        "solver.solve()"
      ]
    }
  ],
  "metadata": {
    "colab": {
      "provenance": []
    },
    "kernelspec": {
      "display_name": "Python 3",
      "name": "python3"
    },
    "language_info": {
      "name": "python"
    }
  },
  "nbformat": 4,
  "nbformat_minor": 0
}
